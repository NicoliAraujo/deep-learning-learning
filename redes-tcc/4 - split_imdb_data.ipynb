{
 "cells": [
  {
   "cell_type": "markdown",
   "metadata": {},
   "source": [
    "# Take imdb dataframe set to ssd, sample it and split it into train, test and validation data"
   ]
  },
  {
   "cell_type": "code",
   "execution_count": 1,
   "metadata": {
    "collapsed": true
   },
   "outputs": [],
   "source": [
    "import os, sys\n",
    "os.chdir(sys.path[1])"
   ]
  },
  {
   "cell_type": "code",
   "execution_count": 1,
   "metadata": {
    "collapsed": true
   },
   "outputs": [],
   "source": [
    "import pandas as pd\n",
    "from data_generator.dataset_generator import *"
   ]
  },
  {
   "cell_type": "code",
   "execution_count": 2,
   "metadata": {},
   "outputs": [],
   "source": [
    "attr = 'age'\n",
    "task = 'regression'"
   ]
  },
  {
   "cell_type": "code",
   "execution_count": 3,
   "metadata": {},
   "outputs": [
    {
     "data": {
      "text/html": [
       "<div>\n",
       "<style scoped>\n",
       "    .dataframe tbody tr th:only-of-type {\n",
       "        vertical-align: middle;\n",
       "    }\n",
       "\n",
       "    .dataframe tbody tr th {\n",
       "        vertical-align: top;\n",
       "    }\n",
       "\n",
       "    .dataframe thead th {\n",
       "        text-align: right;\n",
       "    }\n",
       "</style>\n",
       "<table border=\"1\" class=\"dataframe\">\n",
       "  <thead>\n",
       "    <tr style=\"text-align: right;\">\n",
       "      <th></th>\n",
       "      <th>image_name</th>\n",
       "      <th>class_id</th>\n",
       "    </tr>\n",
       "  </thead>\n",
       "  <tbody>\n",
       "    <tr>\n",
       "      <th>0</th>\n",
       "      <td>imdb/79/nm0000379_rm537499648_1982-4-30_2006.jpg</td>\n",
       "      <td>24</td>\n",
       "    </tr>\n",
       "    <tr>\n",
       "      <th>1</th>\n",
       "      <td>imdb/50/nm0001650_rm281973760_1970-3-20_2005.jpg</td>\n",
       "      <td>35</td>\n",
       "    </tr>\n",
       "    <tr>\n",
       "      <th>2</th>\n",
       "      <td>imdb/38/nm0001638_rm3096615168_1941-6-10_1999.jpg</td>\n",
       "      <td>58</td>\n",
       "    </tr>\n",
       "    <tr>\n",
       "      <th>3</th>\n",
       "      <td>imdb/69/nm0358669_rm2779157248_1955-10-8_2008.jpg</td>\n",
       "      <td>53</td>\n",
       "    </tr>\n",
       "    <tr>\n",
       "      <th>4</th>\n",
       "      <td>imdb/07/nm0000207_rm2705034752_1980-2-12_1995.jpg</td>\n",
       "      <td>15</td>\n",
       "    </tr>\n",
       "  </tbody>\n",
       "</table>\n",
       "</div>"
      ],
      "text/plain": [
       "                                          image_name  class_id\n",
       "0   imdb/79/nm0000379_rm537499648_1982-4-30_2006.jpg        24\n",
       "1   imdb/50/nm0001650_rm281973760_1970-3-20_2005.jpg        35\n",
       "2  imdb/38/nm0001638_rm3096615168_1941-6-10_1999.jpg        58\n",
       "3  imdb/69/nm0358669_rm2779157248_1955-10-8_2008.jpg        53\n",
       "4  imdb/07/nm0000207_rm2705034752_1980-2-12_1995.jpg        15"
      ]
     },
     "execution_count": 3,
     "metadata": {},
     "output_type": "execute_result"
    }
   ],
   "source": [
    "df = pd.read_csv('/home/nicoli/github/ssd_keras/dataset/csv/imdb_csv/imdb_'+ attr + '_'+ task+ '.csv', index_col=0)\n",
    "df.head()"
   ]
  },
  {
   "cell_type": "code",
   "execution_count": 4,
   "metadata": {},
   "outputs": [],
   "source": [
    "qtd = df.shape[0]\n",
    "train_split, val_split, test_split = (0.7,0.1,0.2)\n",
    "#classes = [[0,1],[1,0]]\n",
    "target = ['class_id']#['class_id1', 'class_id2']"
   ]
  },
  {
   "cell_type": "code",
   "execution_count": 5,
   "metadata": {
    "collapsed": true
   },
   "outputs": [],
   "source": [
    "train_df, val_df, test_df = set_age_data_splits(df, qtd, train_split, val_split, test_split, target)"
   ]
  },
  {
   "cell_type": "code",
   "execution_count": 6,
   "metadata": {},
   "outputs": [
    {
     "data": {
      "text/html": [
       "<div>\n",
       "<style scoped>\n",
       "    .dataframe tbody tr th:only-of-type {\n",
       "        vertical-align: middle;\n",
       "    }\n",
       "\n",
       "    .dataframe tbody tr th {\n",
       "        vertical-align: top;\n",
       "    }\n",
       "\n",
       "    .dataframe thead th {\n",
       "        text-align: right;\n",
       "    }\n",
       "</style>\n",
       "<table border=\"1\" class=\"dataframe\">\n",
       "  <thead>\n",
       "    <tr style=\"text-align: right;\">\n",
       "      <th></th>\n",
       "      <th>image_name</th>\n",
       "      <th>class_id</th>\n",
       "    </tr>\n",
       "  </thead>\n",
       "  <tbody>\n",
       "    <tr>\n",
       "      <th>0</th>\n",
       "      <td>imdb/79/nm0000379_rm537499648_1982-4-30_2006.jpg</td>\n",
       "      <td>24</td>\n",
       "    </tr>\n",
       "    <tr>\n",
       "      <th>1</th>\n",
       "      <td>imdb/50/nm0001650_rm281973760_1970-3-20_2005.jpg</td>\n",
       "      <td>35</td>\n",
       "    </tr>\n",
       "    <tr>\n",
       "      <th>2</th>\n",
       "      <td>imdb/38/nm0001638_rm3096615168_1941-6-10_1999.jpg</td>\n",
       "      <td>58</td>\n",
       "    </tr>\n",
       "    <tr>\n",
       "      <th>3</th>\n",
       "      <td>imdb/69/nm0358669_rm2779157248_1955-10-8_2008.jpg</td>\n",
       "      <td>53</td>\n",
       "    </tr>\n",
       "    <tr>\n",
       "      <th>4</th>\n",
       "      <td>imdb/07/nm0000207_rm2705034752_1980-2-12_1995.jpg</td>\n",
       "      <td>15</td>\n",
       "    </tr>\n",
       "  </tbody>\n",
       "</table>\n",
       "</div>"
      ],
      "text/plain": [
       "                                          image_name  class_id\n",
       "0   imdb/79/nm0000379_rm537499648_1982-4-30_2006.jpg        24\n",
       "1   imdb/50/nm0001650_rm281973760_1970-3-20_2005.jpg        35\n",
       "2  imdb/38/nm0001638_rm3096615168_1941-6-10_1999.jpg        58\n",
       "3  imdb/69/nm0358669_rm2779157248_1955-10-8_2008.jpg        53\n",
       "4  imdb/07/nm0000207_rm2705034752_1980-2-12_1995.jpg        15"
      ]
     },
     "execution_count": 6,
     "metadata": {},
     "output_type": "execute_result"
    }
   ],
   "source": [
    "train_df.head()"
   ]
  },
  {
   "cell_type": "code",
   "execution_count": 7,
   "metadata": {
    "collapsed": true
   },
   "outputs": [
    {
     "data": {
      "text/html": [
       "<div>\n",
       "<style scoped>\n",
       "    .dataframe tbody tr th:only-of-type {\n",
       "        vertical-align: middle;\n",
       "    }\n",
       "\n",
       "    .dataframe tbody tr th {\n",
       "        vertical-align: top;\n",
       "    }\n",
       "\n",
       "    .dataframe thead th {\n",
       "        text-align: right;\n",
       "    }\n",
       "</style>\n",
       "<table border=\"1\" class=\"dataframe\">\n",
       "  <thead>\n",
       "    <tr style=\"text-align: right;\">\n",
       "      <th></th>\n",
       "      <th>image_name</th>\n",
       "      <th>class_id</th>\n",
       "    </tr>\n",
       "  </thead>\n",
       "  <tbody>\n",
       "    <tr>\n",
       "      <th>33565</th>\n",
       "      <td>imdb/79/nm0000679_rm1699134976_1964-3-31_2011.jpg</td>\n",
       "      <td>47</td>\n",
       "    </tr>\n",
       "    <tr>\n",
       "      <th>33566</th>\n",
       "      <td>imdb/10/nm1982510_rm2091687936_1986-4-27_2005.jpg</td>\n",
       "      <td>19</td>\n",
       "    </tr>\n",
       "    <tr>\n",
       "      <th>33567</th>\n",
       "      <td>imdb/05/nm0000705_rm2457573888_1966-4-8_1998.jpg</td>\n",
       "      <td>32</td>\n",
       "    </tr>\n",
       "    <tr>\n",
       "      <th>33568</th>\n",
       "      <td>imdb/26/nm0005226_rm3259664896_1968-8-15_2009.jpg</td>\n",
       "      <td>41</td>\n",
       "    </tr>\n",
       "    <tr>\n",
       "      <th>33569</th>\n",
       "      <td>imdb/40/nm0001040_rm2044237824_1961-4-26_2004.jpg</td>\n",
       "      <td>43</td>\n",
       "    </tr>\n",
       "  </tbody>\n",
       "</table>\n",
       "</div>"
      ],
      "text/plain": [
       "                                              image_name  class_id\n",
       "33565  imdb/79/nm0000679_rm1699134976_1964-3-31_2011.jpg        47\n",
       "33566  imdb/10/nm1982510_rm2091687936_1986-4-27_2005.jpg        19\n",
       "33567   imdb/05/nm0000705_rm2457573888_1966-4-8_1998.jpg        32\n",
       "33568  imdb/26/nm0005226_rm3259664896_1968-8-15_2009.jpg        41\n",
       "33569  imdb/40/nm0001040_rm2044237824_1961-4-26_2004.jpg        43"
      ]
     },
     "execution_count": 7,
     "metadata": {},
     "output_type": "execute_result"
    }
   ],
   "source": [
    "val_df.head()"
   ]
  },
  {
   "cell_type": "code",
   "execution_count": 8,
   "metadata": {},
   "outputs": [
    {
     "data": {
      "text/html": [
       "<div>\n",
       "<style scoped>\n",
       "    .dataframe tbody tr th:only-of-type {\n",
       "        vertical-align: middle;\n",
       "    }\n",
       "\n",
       "    .dataframe tbody tr th {\n",
       "        vertical-align: top;\n",
       "    }\n",
       "\n",
       "    .dataframe thead th {\n",
       "        text-align: right;\n",
       "    }\n",
       "</style>\n",
       "<table border=\"1\" class=\"dataframe\">\n",
       "  <thead>\n",
       "    <tr style=\"text-align: right;\">\n",
       "      <th></th>\n",
       "      <th>image_name</th>\n",
       "      <th>class_id</th>\n",
       "    </tr>\n",
       "  </thead>\n",
       "  <tbody>\n",
       "    <tr>\n",
       "      <th>38360</th>\n",
       "      <td>imdb/46/nm0636046_rm2974259968_1970-10-31_1997...</td>\n",
       "      <td>27</td>\n",
       "    </tr>\n",
       "    <tr>\n",
       "      <th>38361</th>\n",
       "      <td>imdb/10/nm0157410_rm2533726720_1974-2-19_2005.jpg</td>\n",
       "      <td>31</td>\n",
       "    </tr>\n",
       "    <tr>\n",
       "      <th>38362</th>\n",
       "      <td>imdb/21/nm0835021_rm2391072000_1918-2-8_1966.jpg</td>\n",
       "      <td>48</td>\n",
       "    </tr>\n",
       "    <tr>\n",
       "      <th>38363</th>\n",
       "      <td>imdb/08/nm0000408_rm834854144_1952-8-19_1987.jpg</td>\n",
       "      <td>35</td>\n",
       "    </tr>\n",
       "    <tr>\n",
       "      <th>38364</th>\n",
       "      <td>imdb/88/nm0913488_rm3372262144_1977-1-31_2003.jpg</td>\n",
       "      <td>26</td>\n",
       "    </tr>\n",
       "  </tbody>\n",
       "</table>\n",
       "</div>"
      ],
      "text/plain": [
       "                                              image_name  class_id\n",
       "38360  imdb/46/nm0636046_rm2974259968_1970-10-31_1997...        27\n",
       "38361  imdb/10/nm0157410_rm2533726720_1974-2-19_2005.jpg        31\n",
       "38362   imdb/21/nm0835021_rm2391072000_1918-2-8_1966.jpg        48\n",
       "38363   imdb/08/nm0000408_rm834854144_1952-8-19_1987.jpg        35\n",
       "38364  imdb/88/nm0913488_rm3372262144_1977-1-31_2003.jpg        26"
      ]
     },
     "execution_count": 8,
     "metadata": {},
     "output_type": "execute_result"
    }
   ],
   "source": [
    "test_df.head()"
   ]
  },
  {
   "cell_type": "code",
   "execution_count": 9,
   "metadata": {},
   "outputs": [
    {
     "data": {
      "text/plain": [
       "'47950-70-10-20'"
      ]
     },
     "execution_count": 9,
     "metadata": {},
     "output_type": "execute_result"
    }
   ],
   "source": [
    "titulo = str(qtd) + '-' + str(int(100*train_split)) + '-' + str(int(100*val_split)) + '-' + str(int(100*test_split))\n",
    "titulo"
   ]
  },
  {
   "cell_type": "code",
   "execution_count": 11,
   "metadata": {
    "collapsed": true
   },
   "outputs": [],
   "source": [
    "\n",
    "train_df.to_csv('/home/nicoli/github/ssd_keras/dataset/csv/imdb_csv/imdb_' + attr + '_' + task + '_train_split_' + titulo + '.csv', index=False)\n",
    "val_df.to_csv('/home/nicoli/github/ssd_keras/dataset/csv/imdb_csv/imdb_' + attr +'_' + task +  '_val_split_' + titulo + '.csv',index=False)\n",
    "test_df.to_csv('/home/nicoli/github/ssd_keras/dataset/csv/imdb_csv/imdb_' + attr + '_' + task + '_test_split_' + titulo + '.csv',index=False)"
   ]
  },
  {
   "cell_type": "code",
   "execution_count": 14,
   "metadata": {},
   "outputs": [
    {
     "data": {
      "text/plain": [
       "image_name    0\n",
       "class_id1     0\n",
       "class_id2     0\n",
       "dtype: int64"
      ]
     },
     "execution_count": 14,
     "metadata": {},
     "output_type": "execute_result"
    }
   ],
   "source": [
    "train_df.isnull().sum()"
   ]
  },
  {
   "cell_type": "code",
   "execution_count": null,
   "metadata": {},
   "outputs": [],
   "source": []
  }
 ],
 "metadata": {
  "kernelspec": {
   "display_name": "Python 3",
   "language": "python",
   "name": "python3"
  },
  "language_info": {
   "codemirror_mode": {
    "name": "ipython",
    "version": 3
   },
   "file_extension": ".py",
   "mimetype": "text/x-python",
   "name": "python",
   "nbconvert_exporter": "python",
   "pygments_lexer": "ipython3",
   "version": "3.5.2"
  }
 },
 "nbformat": 4,
 "nbformat_minor": 2
}
