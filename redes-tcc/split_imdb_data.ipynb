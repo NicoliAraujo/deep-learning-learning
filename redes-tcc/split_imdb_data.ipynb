{
 "cells": [
  {
   "cell_type": "markdown",
   "metadata": {},
   "source": [
    "# Take imdb dataframe set to ssd, sample it and split it into train, test and validation data"
   ]
  },
  {
   "cell_type": "code",
   "execution_count": 1,
   "metadata": {
    "collapsed": true
   },
   "outputs": [],
   "source": [
    "import os, sys\n",
    "os.chdir(sys.path[1])"
   ]
  },
  {
   "cell_type": "code",
   "execution_count": 2,
   "metadata": {
    "collapsed": true
   },
   "outputs": [],
   "source": [
    "import pandas as pd\n",
    "from data_generator.dataset_generator import *"
   ]
  },
  {
   "cell_type": "code",
   "execution_count": 4,
   "metadata": {},
   "outputs": [],
   "source": [
    "attr = 'gender'\n",
    "task = 'classification'"
   ]
  },
  {
   "cell_type": "code",
   "execution_count": 5,
   "metadata": {},
   "outputs": [
    {
     "data": {
      "text/html": [
       "<div>\n",
       "<style scoped>\n",
       "    .dataframe tbody tr th:only-of-type {\n",
       "        vertical-align: middle;\n",
       "    }\n",
       "\n",
       "    .dataframe tbody tr th {\n",
       "        vertical-align: top;\n",
       "    }\n",
       "\n",
       "    .dataframe thead th {\n",
       "        text-align: right;\n",
       "    }\n",
       "</style>\n",
       "<table border=\"1\" class=\"dataframe\">\n",
       "  <thead>\n",
       "    <tr style=\"text-align: right;\">\n",
       "      <th></th>\n",
       "      <th>image_name</th>\n",
       "      <th>class_id1</th>\n",
       "      <th>class_id2</th>\n",
       "    </tr>\n",
       "  </thead>\n",
       "  <tbody>\n",
       "    <tr>\n",
       "      <th>0</th>\n",
       "      <td>imdb/60/nm0005460_rm2653139200_1953-2-8_2006.jpg</td>\n",
       "      <td>1</td>\n",
       "      <td>0</td>\n",
       "    </tr>\n",
       "    <tr>\n",
       "      <th>1</th>\n",
       "      <td>imdb/21/nm0005321_rm3817909504_1971-6-30_2013.jpg</td>\n",
       "      <td>1</td>\n",
       "      <td>0</td>\n",
       "    </tr>\n",
       "    <tr>\n",
       "      <th>2</th>\n",
       "      <td>imdb/22/nm1092022_rm1333830144_1976-12-1_2013.jpg</td>\n",
       "      <td>0</td>\n",
       "      <td>1</td>\n",
       "    </tr>\n",
       "    <tr>\n",
       "      <th>3</th>\n",
       "      <td>imdb/75/nm0281575_rm2889518592_1984-4-16_1993.jpg</td>\n",
       "      <td>0</td>\n",
       "      <td>1</td>\n",
       "    </tr>\n",
       "    <tr>\n",
       "      <th>4</th>\n",
       "      <td>imdb/41/nm0025241_rm3024065536_1966-0-0_2008.jpg</td>\n",
       "      <td>0</td>\n",
       "      <td>1</td>\n",
       "    </tr>\n",
       "  </tbody>\n",
       "</table>\n",
       "</div>"
      ],
      "text/plain": [
       "                                          image_name  class_id1  class_id2\n",
       "0   imdb/60/nm0005460_rm2653139200_1953-2-8_2006.jpg          1          0\n",
       "1  imdb/21/nm0005321_rm3817909504_1971-6-30_2013.jpg          1          0\n",
       "2  imdb/22/nm1092022_rm1333830144_1976-12-1_2013.jpg          0          1\n",
       "3  imdb/75/nm0281575_rm2889518592_1984-4-16_1993.jpg          0          1\n",
       "4   imdb/41/nm0025241_rm3024065536_1966-0-0_2008.jpg          0          1"
      ]
     },
     "execution_count": 5,
     "metadata": {},
     "output_type": "execute_result"
    }
   ],
   "source": [
    "df = pd.read_csv('/home/nicoli/github/ssd_keras/dataset/csv/imdb_csv/imdb_'+ attr + '_'+ task+ '.csv', index_col=0)\n",
    "df.head()"
   ]
  },
  {
   "cell_type": "code",
   "execution_count": 18,
   "metadata": {
    "collapsed": true
   },
   "outputs": [],
   "source": [
    "df[['xmin', 'xmax', 'ymin', 'ymax']] = df[['xmin', 'xmax', 'ymin', 'ymax']].astype(int)"
   ]
  },
  {
   "cell_type": "code",
   "execution_count": 6,
   "metadata": {},
   "outputs": [],
   "source": [
    "qtd = 10000\n",
    "train_split, val_split, test_split = (0.7,0.1,0.2)\n",
    "#classes = [[0,1],[1,0]]\n",
    "target = ['class_id']#['class_id1', 'class_id2']"
   ]
  },
  {
   "cell_type": "code",
   "execution_count": 7,
   "metadata": {
    "collapsed": true
   },
   "outputs": [],
   "source": [
    "train_df, val_df, test_df = set_age_data_splits(df, qtd, train_split, val_split, test_split, target)"
   ]
  },
  {
   "cell_type": "code",
   "execution_count": 8,
   "metadata": {},
   "outputs": [
    {
     "data": {
      "text/html": [
       "<div>\n",
       "<style scoped>\n",
       "    .dataframe tbody tr th:only-of-type {\n",
       "        vertical-align: middle;\n",
       "    }\n",
       "\n",
       "    .dataframe tbody tr th {\n",
       "        vertical-align: top;\n",
       "    }\n",
       "\n",
       "    .dataframe thead th {\n",
       "        text-align: right;\n",
       "    }\n",
       "</style>\n",
       "<table border=\"1\" class=\"dataframe\">\n",
       "  <thead>\n",
       "    <tr style=\"text-align: right;\">\n",
       "      <th></th>\n",
       "      <th>image_name</th>\n",
       "      <th>class_id1</th>\n",
       "      <th>class_id2</th>\n",
       "    </tr>\n",
       "  </thead>\n",
       "  <tbody>\n",
       "    <tr>\n",
       "      <th>0</th>\n",
       "      <td>imdb/60/nm0005460_rm2653139200_1953-2-8_2006.jpg</td>\n",
       "      <td>1</td>\n",
       "      <td>0</td>\n",
       "    </tr>\n",
       "    <tr>\n",
       "      <th>1</th>\n",
       "      <td>imdb/21/nm0005321_rm3817909504_1971-6-30_2013.jpg</td>\n",
       "      <td>1</td>\n",
       "      <td>0</td>\n",
       "    </tr>\n",
       "    <tr>\n",
       "      <th>2</th>\n",
       "      <td>imdb/22/nm1092022_rm1333830144_1976-12-1_2013.jpg</td>\n",
       "      <td>0</td>\n",
       "      <td>1</td>\n",
       "    </tr>\n",
       "    <tr>\n",
       "      <th>3</th>\n",
       "      <td>imdb/75/nm0281575_rm2889518592_1984-4-16_1993.jpg</td>\n",
       "      <td>0</td>\n",
       "      <td>1</td>\n",
       "    </tr>\n",
       "    <tr>\n",
       "      <th>4</th>\n",
       "      <td>imdb/41/nm0025241_rm3024065536_1966-0-0_2008.jpg</td>\n",
       "      <td>0</td>\n",
       "      <td>1</td>\n",
       "    </tr>\n",
       "  </tbody>\n",
       "</table>\n",
       "</div>"
      ],
      "text/plain": [
       "                                          image_name  class_id1  class_id2\n",
       "0   imdb/60/nm0005460_rm2653139200_1953-2-8_2006.jpg          1          0\n",
       "1  imdb/21/nm0005321_rm3817909504_1971-6-30_2013.jpg          1          0\n",
       "2  imdb/22/nm1092022_rm1333830144_1976-12-1_2013.jpg          0          1\n",
       "3  imdb/75/nm0281575_rm2889518592_1984-4-16_1993.jpg          0          1\n",
       "4   imdb/41/nm0025241_rm3024065536_1966-0-0_2008.jpg          0          1"
      ]
     },
     "execution_count": 8,
     "metadata": {},
     "output_type": "execute_result"
    }
   ],
   "source": [
    "train_df.head()"
   ]
  },
  {
   "cell_type": "code",
   "execution_count": 9,
   "metadata": {
    "collapsed": true
   },
   "outputs": [
    {
     "data": {
      "text/html": [
       "<div>\n",
       "<style scoped>\n",
       "    .dataframe tbody tr th:only-of-type {\n",
       "        vertical-align: middle;\n",
       "    }\n",
       "\n",
       "    .dataframe tbody tr th {\n",
       "        vertical-align: top;\n",
       "    }\n",
       "\n",
       "    .dataframe thead th {\n",
       "        text-align: right;\n",
       "    }\n",
       "</style>\n",
       "<table border=\"1\" class=\"dataframe\">\n",
       "  <thead>\n",
       "    <tr style=\"text-align: right;\">\n",
       "      <th></th>\n",
       "      <th>image_name</th>\n",
       "      <th>class_id1</th>\n",
       "      <th>class_id2</th>\n",
       "    </tr>\n",
       "  </thead>\n",
       "  <tbody>\n",
       "    <tr>\n",
       "      <th>33565</th>\n",
       "      <td>imdb/55/nm0362955_rm2232933120_1970-1-27_2011.jpg</td>\n",
       "      <td>1</td>\n",
       "      <td>0</td>\n",
       "    </tr>\n",
       "    <tr>\n",
       "      <th>33566</th>\n",
       "      <td>imdb/97/nm0476097_rm1156290560_1972-11-23_2002...</td>\n",
       "      <td>0</td>\n",
       "      <td>1</td>\n",
       "    </tr>\n",
       "    <tr>\n",
       "      <th>33567</th>\n",
       "      <td>imdb/60/nm0001560_rm3200030976_1955-3-9_2002.jpg</td>\n",
       "      <td>1</td>\n",
       "      <td>0</td>\n",
       "    </tr>\n",
       "    <tr>\n",
       "      <th>33568</th>\n",
       "      <td>imdb/35/nm1478535_rm2600450816_1998-4-6_2011.jpg</td>\n",
       "      <td>0</td>\n",
       "      <td>1</td>\n",
       "    </tr>\n",
       "    <tr>\n",
       "      <th>33569</th>\n",
       "      <td>imdb/37/nm0001337_rm3428483584_1978-11-24_2010...</td>\n",
       "      <td>1</td>\n",
       "      <td>0</td>\n",
       "    </tr>\n",
       "  </tbody>\n",
       "</table>\n",
       "</div>"
      ],
      "text/plain": [
       "                                              image_name  class_id1  class_id2\n",
       "33565  imdb/55/nm0362955_rm2232933120_1970-1-27_2011.jpg          1          0\n",
       "33566  imdb/97/nm0476097_rm1156290560_1972-11-23_2002...          0          1\n",
       "33567   imdb/60/nm0001560_rm3200030976_1955-3-9_2002.jpg          1          0\n",
       "33568   imdb/35/nm1478535_rm2600450816_1998-4-6_2011.jpg          0          1\n",
       "33569  imdb/37/nm0001337_rm3428483584_1978-11-24_2010...          1          0"
      ]
     },
     "execution_count": 9,
     "metadata": {},
     "output_type": "execute_result"
    }
   ],
   "source": [
    "val_df.head()"
   ]
  },
  {
   "cell_type": "code",
   "execution_count": 10,
   "metadata": {},
   "outputs": [
    {
     "data": {
      "text/html": [
       "<div>\n",
       "<style scoped>\n",
       "    .dataframe tbody tr th:only-of-type {\n",
       "        vertical-align: middle;\n",
       "    }\n",
       "\n",
       "    .dataframe tbody tr th {\n",
       "        vertical-align: top;\n",
       "    }\n",
       "\n",
       "    .dataframe thead th {\n",
       "        text-align: right;\n",
       "    }\n",
       "</style>\n",
       "<table border=\"1\" class=\"dataframe\">\n",
       "  <thead>\n",
       "    <tr style=\"text-align: right;\">\n",
       "      <th></th>\n",
       "      <th>image_name</th>\n",
       "      <th>class_id1</th>\n",
       "      <th>class_id2</th>\n",
       "    </tr>\n",
       "  </thead>\n",
       "  <tbody>\n",
       "    <tr>\n",
       "      <th>38360</th>\n",
       "      <td>imdb/71/nm0798971_rm1308949504_1970-12-1_2015.jpg</td>\n",
       "      <td>1</td>\n",
       "      <td>0</td>\n",
       "    </tr>\n",
       "    <tr>\n",
       "      <th>38361</th>\n",
       "      <td>imdb/59/nm1275259_rm3810834944_1986-3-16_2011.jpg</td>\n",
       "      <td>1</td>\n",
       "      <td>0</td>\n",
       "    </tr>\n",
       "    <tr>\n",
       "      <th>38362</th>\n",
       "      <td>imdb/45/nm0000545_rm2883557376_1945-7-26_1999.jpg</td>\n",
       "      <td>1</td>\n",
       "      <td>0</td>\n",
       "    </tr>\n",
       "    <tr>\n",
       "      <th>38363</th>\n",
       "      <td>imdb/52/nm0471352_rm2724774656_1957-7-9_2015.jpg</td>\n",
       "      <td>0</td>\n",
       "      <td>1</td>\n",
       "    </tr>\n",
       "    <tr>\n",
       "      <th>38364</th>\n",
       "      <td>imdb/54/nm0001454_rm2608513024_1965-4-16_2014.jpg</td>\n",
       "      <td>0</td>\n",
       "      <td>1</td>\n",
       "    </tr>\n",
       "  </tbody>\n",
       "</table>\n",
       "</div>"
      ],
      "text/plain": [
       "                                              image_name  class_id1  class_id2\n",
       "38360  imdb/71/nm0798971_rm1308949504_1970-12-1_2015.jpg          1          0\n",
       "38361  imdb/59/nm1275259_rm3810834944_1986-3-16_2011.jpg          1          0\n",
       "38362  imdb/45/nm0000545_rm2883557376_1945-7-26_1999.jpg          1          0\n",
       "38363   imdb/52/nm0471352_rm2724774656_1957-7-9_2015.jpg          0          1\n",
       "38364  imdb/54/nm0001454_rm2608513024_1965-4-16_2014.jpg          0          1"
      ]
     },
     "execution_count": 10,
     "metadata": {},
     "output_type": "execute_result"
    }
   ],
   "source": [
    "test_df.head()"
   ]
  },
  {
   "cell_type": "code",
   "execution_count": 12,
   "metadata": {},
   "outputs": [
    {
     "data": {
      "text/plain": [
       "'10000-70-10-20'"
      ]
     },
     "execution_count": 12,
     "metadata": {},
     "output_type": "execute_result"
    }
   ],
   "source": [
    "titulo = str(qtd) + '-' + str(int(100*train_split)) + '-' + str(int(100*val_split)) + '-' + str(int(100*test_split))\n",
    "titulo"
   ]
  },
  {
   "cell_type": "code",
   "execution_count": 13,
   "metadata": {
    "collapsed": true
   },
   "outputs": [],
   "source": [
    "\n",
    "train_df.to_csv('/home/nicoli/github/ssd_keras/dataset/csv/imdb_csv/imdb_' + attr + ' ' + task + '_'+ '_train_split_' + titulo + '.csv', index=False)\n",
    "val_df.to_csv('/home/nicoli/github/ssd_keras/dataset/csv/imdb_csv/imdb_' + attr +' ' + task + '_'+  '_val_split_' + titulo + '.csv',index=False)\n",
    "test_df.to_csv('/home/nicoli/github/ssd_keras/dataset/csv/imdb_csv/imdb_' + attr + ' ' + task + '_'+ '_test_split_' + titulo + '.csv',index=False)"
   ]
  },
  {
   "cell_type": "code",
   "execution_count": 14,
   "metadata": {},
   "outputs": [
    {
     "data": {
      "text/plain": [
       "image_name    0\n",
       "class_id1     0\n",
       "class_id2     0\n",
       "dtype: int64"
      ]
     },
     "execution_count": 14,
     "metadata": {},
     "output_type": "execute_result"
    }
   ],
   "source": [
    "train_df.isnull().sum()"
   ]
  },
  {
   "cell_type": "code",
   "execution_count": null,
   "metadata": {},
   "outputs": [],
   "source": []
  }
 ],
 "metadata": {
  "kernelspec": {
   "display_name": "Python 3",
   "language": "python",
   "name": "python3"
  },
  "language_info": {
   "codemirror_mode": {
    "name": "ipython",
    "version": 3
   },
   "file_extension": ".py",
   "mimetype": "text/x-python",
   "name": "python",
   "nbconvert_exporter": "python",
   "pygments_lexer": "ipython3",
   "version": "3.5.2"
  }
 },
 "nbformat": 4,
 "nbformat_minor": 2
}
