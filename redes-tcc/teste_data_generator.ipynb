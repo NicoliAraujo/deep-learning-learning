{
 "cells": [
  {
   "cell_type": "code",
   "execution_count": 1,
   "metadata": {
    "collapsed": true
   },
   "outputs": [],
   "source": [
    "import pandas as pd\n",
    "import numpy as np\n",
    "from data_generator.batch_generator import BatchGenerator"
   ]
  },
  {
   "cell_type": "code",
   "execution_count": 2,
   "metadata": {
    "collapsed": true
   },
   "outputs": [],
   "source": [
    "train_dataset = BatchGenerator(box_output_format=['class_id1', 'class_id2'])\n",
    "\n",
    "train_dataset.parse_csv(labels_filename='/home/nicoli/github/ssd_keras/dataset/csv/imdb_csv/imdb_gender_train_split_10000-70-10-2000.csv', \n",
    "                        images_dir='../../ssd_keras/dataset/',\n",
    "                        input_format=['image_name', 'xmin', 'xmax', 'ymin', 'ymax', 'class_id1', 'class_id2'])\n",
    "\n",
    "img_height, img_width = (64,64)\n",
    "\n",
    "train_generator = train_dataset.generate(batch_size=32,\n",
    "                                         shuffle=False,\n",
    "                                         ssd_train=False,\n",
    "                                         returns={'processed_labels'},\n",
    "                                         ssd_box_encoder=None,\n",
    "                                         convert_to_3_channels=True,\n",
    "                                         equalize=False,\n",
    "                                         brightness=(0.5, 2, 0.5),\n",
    "                                         flip=0.5,\n",
    "                                         translate=False,\n",
    "                                         scale=False,\n",
    "                                         max_crop_and_resize=False,\n",
    "                                         # This one is important because the Pascal VOC images vary in size\n",
    "                                         random_pad_and_resize=False,\n",
    "                                         # This one is important because the Pascal VOC images vary in size\n",
    "                                         random_crop=False,\n",
    "                                         crop=False,\n",
    "                                         resize=(img_height, img_width),\n",
    "                                         gray=False,\n",
    "                                         limit_boxes=True,\n",
    "                                         # While the anchor boxes are not being clipped, the ground truth boxes should be\n",
    "                                         include_thresh=0.4, \n",
    "                                         keep_images_without_gt=True)"
   ]
  },
  {
   "cell_type": "code",
   "execution_count": null,
   "metadata": {},
   "outputs": [],
   "source": [
    "\n",
    "result = next(train_generator)\n",
    "while len(result)<=2:\n",
    "    result = next(train_generator)"
   ]
  },
  {
   "cell_type": "code",
   "execution_count": 7,
   "metadata": {},
   "outputs": [
    {
     "data": {
      "text/plain": [
       "[array([[1, 0]]), array([[0, 1]]), array([[0, 1]])]"
      ]
     },
     "execution_count": 7,
     "metadata": {},
     "output_type": "execute_result"
    }
   ],
   "source": [
    "result"
   ]
  },
  {
   "cell_type": "code",
   "execution_count": null,
   "metadata": {},
   "outputs": [],
   "source": []
  }
 ],
 "metadata": {
  "kernelspec": {
   "display_name": "Python 3",
   "language": "python",
   "name": "python3"
  },
  "language_info": {
   "codemirror_mode": {
    "name": "ipython",
    "version": 3
   },
   "file_extension": ".py",
   "mimetype": "text/x-python",
   "name": "python",
   "nbconvert_exporter": "python",
   "pygments_lexer": "ipython3",
   "version": "3.5.2"
  }
 },
 "nbformat": 4,
 "nbformat_minor": 2
}
