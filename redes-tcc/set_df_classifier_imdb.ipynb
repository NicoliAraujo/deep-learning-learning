{
 "cells": [
  {
   "cell_type": "markdown",
   "metadata": {},
   "source": [
    "# Take imdb.mat file and reshape its data to a dataframe for a gender classifier to be fed into ssd "
   ]
  },
  {
   "cell_type": "code",
   "execution_count": 1,
   "metadata": {
    "collapsed": true
   },
   "outputs": [],
   "source": [
    "from data_generator.dataset_generator import *\n",
    "from datetime import datetime, timedelta"
   ]
  },
  {
   "cell_type": "markdown",
   "metadata": {},
   "source": [
    "## Reading dataset"
   ]
  },
  {
   "cell_type": "code",
   "execution_count": 2,
   "metadata": {
    "collapsed": true
   },
   "outputs": [],
   "source": [
    "data = read_data_from_mat('../../ssd_keras/dataset/csv/imdb_csv/imdb.mat')"
   ]
  },
  {
   "cell_type": "code",
   "execution_count": 3,
   "metadata": {
    "collapsed": true
   },
   "outputs": [],
   "source": [
    "df = get_dataframe_from_dictionary(data, 'imdb')"
   ]
  },
  {
   "cell_type": "code",
   "execution_count": 4,
   "metadata": {},
   "outputs": [
    {
     "data": {
      "text/html": [
       "<div>\n",
       "<style scoped>\n",
       "    .dataframe tbody tr th:only-of-type {\n",
       "        vertical-align: middle;\n",
       "    }\n",
       "\n",
       "    .dataframe tbody tr th {\n",
       "        vertical-align: top;\n",
       "    }\n",
       "\n",
       "    .dataframe thead th {\n",
       "        text-align: right;\n",
       "    }\n",
       "</style>\n",
       "<table border=\"1\" class=\"dataframe\">\n",
       "  <thead>\n",
       "    <tr style=\"text-align: right;\">\n",
       "      <th></th>\n",
       "      <th>dob</th>\n",
       "      <th>photo_taken</th>\n",
       "      <th>full_path</th>\n",
       "      <th>gender</th>\n",
       "      <th>name</th>\n",
       "      <th>face_location</th>\n",
       "      <th>face_score</th>\n",
       "      <th>second_face_score</th>\n",
       "      <th>celeb_id</th>\n",
       "    </tr>\n",
       "  </thead>\n",
       "  <tbody>\n",
       "    <tr>\n",
       "      <th>0</th>\n",
       "      <td>693726</td>\n",
       "      <td>1968</td>\n",
       "      <td>[01/nm0000001_rm124825600_1899-5-10_1968.jpg]</td>\n",
       "      <td>1.0</td>\n",
       "      <td>[Fred Astaire]</td>\n",
       "      <td>[[1072.926, 161.838, 1214.7839999999999, 303.6...</td>\n",
       "      <td>1.459693</td>\n",
       "      <td>1.118973</td>\n",
       "      <td>6488</td>\n",
       "    </tr>\n",
       "    <tr>\n",
       "      <th>1</th>\n",
       "      <td>693726</td>\n",
       "      <td>1970</td>\n",
       "      <td>[01/nm0000001_rm3343756032_1899-5-10_1970.jpg]</td>\n",
       "      <td>1.0</td>\n",
       "      <td>[Fred Astaire]</td>\n",
       "      <td>[[477.184, 100.352, 622.592, 245.76]]</td>\n",
       "      <td>2.543198</td>\n",
       "      <td>1.852008</td>\n",
       "      <td>6488</td>\n",
       "    </tr>\n",
       "    <tr>\n",
       "      <th>2</th>\n",
       "      <td>693726</td>\n",
       "      <td>1968</td>\n",
       "      <td>[01/nm0000001_rm577153792_1899-5-10_1968.jpg]</td>\n",
       "      <td>1.0</td>\n",
       "      <td>[Fred Astaire]</td>\n",
       "      <td>[[114.96964308962852, 114.96964308962852, 451....</td>\n",
       "      <td>3.455579</td>\n",
       "      <td>2.985660</td>\n",
       "      <td>6488</td>\n",
       "    </tr>\n",
       "    <tr>\n",
       "      <th>3</th>\n",
       "      <td>693726</td>\n",
       "      <td>1968</td>\n",
       "      <td>[01/nm0000001_rm946909184_1899-5-10_1968.jpg]</td>\n",
       "      <td>1.0</td>\n",
       "      <td>[Fred Astaire]</td>\n",
       "      <td>[[622.8855056426588, 424.21750383700805, 844.3...</td>\n",
       "      <td>1.872117</td>\n",
       "      <td>NaN</td>\n",
       "      <td>6488</td>\n",
       "    </tr>\n",
       "    <tr>\n",
       "      <th>4</th>\n",
       "      <td>693726</td>\n",
       "      <td>1968</td>\n",
       "      <td>[01/nm0000001_rm980463616_1899-5-10_1968.jpg]</td>\n",
       "      <td>1.0</td>\n",
       "      <td>[Fred Astaire]</td>\n",
       "      <td>[[1013.8590023603723, 233.8820422075853, 1201....</td>\n",
       "      <td>1.158766</td>\n",
       "      <td>NaN</td>\n",
       "      <td>6488</td>\n",
       "    </tr>\n",
       "  </tbody>\n",
       "</table>\n",
       "</div>"
      ],
      "text/plain": [
       "      dob  photo_taken                                       full_path  \\\n",
       "0  693726         1968   [01/nm0000001_rm124825600_1899-5-10_1968.jpg]   \n",
       "1  693726         1970  [01/nm0000001_rm3343756032_1899-5-10_1970.jpg]   \n",
       "2  693726         1968   [01/nm0000001_rm577153792_1899-5-10_1968.jpg]   \n",
       "3  693726         1968   [01/nm0000001_rm946909184_1899-5-10_1968.jpg]   \n",
       "4  693726         1968   [01/nm0000001_rm980463616_1899-5-10_1968.jpg]   \n",
       "\n",
       "   gender            name                                      face_location  \\\n",
       "0     1.0  [Fred Astaire]  [[1072.926, 161.838, 1214.7839999999999, 303.6...   \n",
       "1     1.0  [Fred Astaire]              [[477.184, 100.352, 622.592, 245.76]]   \n",
       "2     1.0  [Fred Astaire]  [[114.96964308962852, 114.96964308962852, 451....   \n",
       "3     1.0  [Fred Astaire]  [[622.8855056426588, 424.21750383700805, 844.3...   \n",
       "4     1.0  [Fred Astaire]  [[1013.8590023603723, 233.8820422075853, 1201....   \n",
       "\n",
       "   face_score  second_face_score  celeb_id  \n",
       "0    1.459693           1.118973      6488  \n",
       "1    2.543198           1.852008      6488  \n",
       "2    3.455579           2.985660      6488  \n",
       "3    1.872117                NaN      6488  \n",
       "4    1.158766                NaN      6488  "
      ]
     },
     "execution_count": 4,
     "metadata": {},
     "output_type": "execute_result"
    }
   ],
   "source": [
    "df.head(5)"
   ]
  },
  {
   "cell_type": "markdown",
   "metadata": {},
   "source": [
    "## Setting xmin, xmax, ymin, ymax and removing face_location column"
   ]
  },
  {
   "cell_type": "code",
   "execution_count": 5,
   "metadata": {
    "collapsed": true,
    "scrolled": true
   },
   "outputs": [],
   "source": [
    "df = set_face_locations(df)"
   ]
  },
  {
   "cell_type": "code",
   "execution_count": 6,
   "metadata": {},
   "outputs": [
    {
     "data": {
      "text/html": [
       "<div>\n",
       "<style scoped>\n",
       "    .dataframe tbody tr th:only-of-type {\n",
       "        vertical-align: middle;\n",
       "    }\n",
       "\n",
       "    .dataframe tbody tr th {\n",
       "        vertical-align: top;\n",
       "    }\n",
       "\n",
       "    .dataframe thead th {\n",
       "        text-align: right;\n",
       "    }\n",
       "</style>\n",
       "<table border=\"1\" class=\"dataframe\">\n",
       "  <thead>\n",
       "    <tr style=\"text-align: right;\">\n",
       "      <th></th>\n",
       "      <th>dob</th>\n",
       "      <th>photo_taken</th>\n",
       "      <th>full_path</th>\n",
       "      <th>gender</th>\n",
       "      <th>name</th>\n",
       "      <th>face_location</th>\n",
       "      <th>face_score</th>\n",
       "      <th>second_face_score</th>\n",
       "      <th>celeb_id</th>\n",
       "      <th>xmin</th>\n",
       "      <th>xmax</th>\n",
       "      <th>ymin</th>\n",
       "      <th>ymax</th>\n",
       "    </tr>\n",
       "  </thead>\n",
       "  <tbody>\n",
       "    <tr>\n",
       "      <th>372272</th>\n",
       "      <td>723324</td>\n",
       "      <td>2014</td>\n",
       "      <td>[12/nm1460812_rm4183152128_1980-5-23_2014.jpg]</td>\n",
       "      <td>1.0</td>\n",
       "      <td>[Lane Garrison]</td>\n",
       "      <td>[[526.336, 264.192, 1114.112, 851.968]]</td>\n",
       "      <td>3.860799</td>\n",
       "      <td>NaN</td>\n",
       "      <td>11386</td>\n",
       "      <td>526.336000</td>\n",
       "      <td>1114.112000</td>\n",
       "      <td>264.192000</td>\n",
       "      <td>851.968000</td>\n",
       "    </tr>\n",
       "    <tr>\n",
       "      <th>344522</th>\n",
       "      <td>720072</td>\n",
       "      <td>2015</td>\n",
       "      <td>[68/nm0553468_rm3404657152_1971-6-28_2015.jpg]</td>\n",
       "      <td>1.0</td>\n",
       "      <td>[Benito Martinez]</td>\n",
       "      <td>[[296.4746592027799, 79.79324245407463, 472.75...</td>\n",
       "      <td>4.228124</td>\n",
       "      <td>NaN</td>\n",
       "      <td>1908</td>\n",
       "      <td>296.474659</td>\n",
       "      <td>472.759455</td>\n",
       "      <td>79.793242</td>\n",
       "      <td>256.078038</td>\n",
       "    </tr>\n",
       "    <tr>\n",
       "      <th>152622</th>\n",
       "      <td>716184</td>\n",
       "      <td>2008</td>\n",
       "      <td>[80/nm0004980_rm2024770304_1960-11-4_2008.jpg]</td>\n",
       "      <td>0.0</td>\n",
       "      <td>[Kathy Griffin]</td>\n",
       "      <td>[[1, 1, 240, 360]]</td>\n",
       "      <td>-inf</td>\n",
       "      <td>NaN</td>\n",
       "      <td>10659</td>\n",
       "      <td>1.000000</td>\n",
       "      <td>240.000000</td>\n",
       "      <td>1.000000</td>\n",
       "      <td>360.000000</td>\n",
       "    </tr>\n",
       "    <tr>\n",
       "      <th>183692</th>\n",
       "      <td>721450</td>\n",
       "      <td>2004</td>\n",
       "      <td>[85/nm0103785_rm3650456576_1975-4-6_2004.jpg]</td>\n",
       "      <td>1.0</td>\n",
       "      <td>[Zach Braff]</td>\n",
       "      <td>[[943.061692413571, 152.61019078617136, 1279.7...</td>\n",
       "      <td>3.930270</td>\n",
       "      <td>NaN</td>\n",
       "      <td>20170</td>\n",
       "      <td>943.061692</td>\n",
       "      <td>1279.778622</td>\n",
       "      <td>152.610191</td>\n",
       "      <td>489.327120</td>\n",
       "    </tr>\n",
       "    <tr>\n",
       "      <th>144368</th>\n",
       "      <td>720728</td>\n",
       "      <td>2004</td>\n",
       "      <td>[78/nm0004778_rm61312000_1973-4-14_2004.jpg]</td>\n",
       "      <td>1.0</td>\n",
       "      <td>[Adrien Brody]</td>\n",
       "      <td>[[870.4, 362.496, 1015.808, 507.904]]</td>\n",
       "      <td>2.537934</td>\n",
       "      <td>2.219809</td>\n",
       "      <td>211</td>\n",
       "      <td>870.400000</td>\n",
       "      <td>1015.808000</td>\n",
       "      <td>362.496000</td>\n",
       "      <td>507.904000</td>\n",
       "    </tr>\n",
       "  </tbody>\n",
       "</table>\n",
       "</div>"
      ],
      "text/plain": [
       "           dob  photo_taken                                       full_path  \\\n",
       "372272  723324         2014  [12/nm1460812_rm4183152128_1980-5-23_2014.jpg]   \n",
       "344522  720072         2015  [68/nm0553468_rm3404657152_1971-6-28_2015.jpg]   \n",
       "152622  716184         2008  [80/nm0004980_rm2024770304_1960-11-4_2008.jpg]   \n",
       "183692  721450         2004   [85/nm0103785_rm3650456576_1975-4-6_2004.jpg]   \n",
       "144368  720728         2004    [78/nm0004778_rm61312000_1973-4-14_2004.jpg]   \n",
       "\n",
       "        gender               name  \\\n",
       "372272     1.0    [Lane Garrison]   \n",
       "344522     1.0  [Benito Martinez]   \n",
       "152622     0.0    [Kathy Griffin]   \n",
       "183692     1.0       [Zach Braff]   \n",
       "144368     1.0     [Adrien Brody]   \n",
       "\n",
       "                                            face_location  face_score  \\\n",
       "372272            [[526.336, 264.192, 1114.112, 851.968]]    3.860799   \n",
       "344522  [[296.4746592027799, 79.79324245407463, 472.75...    4.228124   \n",
       "152622                                 [[1, 1, 240, 360]]        -inf   \n",
       "183692  [[943.061692413571, 152.61019078617136, 1279.7...    3.930270   \n",
       "144368              [[870.4, 362.496, 1015.808, 507.904]]    2.537934   \n",
       "\n",
       "        second_face_score  celeb_id        xmin         xmax        ymin  \\\n",
       "372272                NaN     11386  526.336000  1114.112000  264.192000   \n",
       "344522                NaN      1908  296.474659   472.759455   79.793242   \n",
       "152622                NaN     10659    1.000000   240.000000    1.000000   \n",
       "183692                NaN     20170  943.061692  1279.778622  152.610191   \n",
       "144368           2.219809       211  870.400000  1015.808000  362.496000   \n",
       "\n",
       "              ymax  \n",
       "372272  851.968000  \n",
       "344522  256.078038  \n",
       "152622  360.000000  \n",
       "183692  489.327120  \n",
       "144368  507.904000  "
      ]
     },
     "execution_count": 6,
     "metadata": {},
     "output_type": "execute_result"
    }
   ],
   "source": [
    "df.sample(5)"
   ]
  },
  {
   "cell_type": "markdown",
   "metadata": {},
   "source": [
    "## Fixing strings --> full path and name"
   ]
  },
  {
   "cell_type": "code",
   "execution_count": 7,
   "metadata": {
    "collapsed": true
   },
   "outputs": [],
   "source": [
    "df = fix_full_path_no_thread(df, 'imdb')"
   ]
  },
  {
   "cell_type": "code",
   "execution_count": 8,
   "metadata": {},
   "outputs": [],
   "source": [
    "df.loc[:, 'name'] = df.loc[:, 'name'].apply(lambda item: item[0])"
   ]
  },
  {
   "cell_type": "code",
   "execution_count": 9,
   "metadata": {},
   "outputs": [
    {
     "data": {
      "text/html": [
       "<div>\n",
       "<style scoped>\n",
       "    .dataframe tbody tr th:only-of-type {\n",
       "        vertical-align: middle;\n",
       "    }\n",
       "\n",
       "    .dataframe tbody tr th {\n",
       "        vertical-align: top;\n",
       "    }\n",
       "\n",
       "    .dataframe thead th {\n",
       "        text-align: right;\n",
       "    }\n",
       "</style>\n",
       "<table border=\"1\" class=\"dataframe\">\n",
       "  <thead>\n",
       "    <tr style=\"text-align: right;\">\n",
       "      <th></th>\n",
       "      <th>dob</th>\n",
       "      <th>photo_taken</th>\n",
       "      <th>full_path</th>\n",
       "      <th>gender</th>\n",
       "      <th>name</th>\n",
       "      <th>face_location</th>\n",
       "      <th>face_score</th>\n",
       "      <th>second_face_score</th>\n",
       "      <th>celeb_id</th>\n",
       "      <th>xmin</th>\n",
       "      <th>xmax</th>\n",
       "      <th>ymin</th>\n",
       "      <th>ymax</th>\n",
       "    </tr>\n",
       "  </thead>\n",
       "  <tbody>\n",
       "    <tr>\n",
       "      <th>0</th>\n",
       "      <td>693726</td>\n",
       "      <td>1968</td>\n",
       "      <td>imdb/01/nm0000001_rm124825600_1899-5-10_1968.jpg</td>\n",
       "      <td>1.0</td>\n",
       "      <td>Fred Astaire</td>\n",
       "      <td>[[1072.926, 161.838, 1214.7839999999999, 303.6...</td>\n",
       "      <td>1.459693</td>\n",
       "      <td>1.118973</td>\n",
       "      <td>6488</td>\n",
       "      <td>1072.926000</td>\n",
       "      <td>1214.784000</td>\n",
       "      <td>161.838000</td>\n",
       "      <td>303.696000</td>\n",
       "    </tr>\n",
       "    <tr>\n",
       "      <th>1</th>\n",
       "      <td>693726</td>\n",
       "      <td>1970</td>\n",
       "      <td>imdb/01/nm0000001_rm3343756032_1899-5-10_1970.jpg</td>\n",
       "      <td>1.0</td>\n",
       "      <td>Fred Astaire</td>\n",
       "      <td>[[477.184, 100.352, 622.592, 245.76]]</td>\n",
       "      <td>2.543198</td>\n",
       "      <td>1.852008</td>\n",
       "      <td>6488</td>\n",
       "      <td>477.184000</td>\n",
       "      <td>622.592000</td>\n",
       "      <td>100.352000</td>\n",
       "      <td>245.760000</td>\n",
       "    </tr>\n",
       "    <tr>\n",
       "      <th>2</th>\n",
       "      <td>693726</td>\n",
       "      <td>1968</td>\n",
       "      <td>imdb/01/nm0000001_rm577153792_1899-5-10_1968.jpg</td>\n",
       "      <td>1.0</td>\n",
       "      <td>Fred Astaire</td>\n",
       "      <td>[[114.96964308962852, 114.96964308962852, 451....</td>\n",
       "      <td>3.455579</td>\n",
       "      <td>2.985660</td>\n",
       "      <td>6488</td>\n",
       "      <td>114.969643</td>\n",
       "      <td>451.686572</td>\n",
       "      <td>114.969643</td>\n",
       "      <td>451.686572</td>\n",
       "    </tr>\n",
       "    <tr>\n",
       "      <th>3</th>\n",
       "      <td>693726</td>\n",
       "      <td>1968</td>\n",
       "      <td>imdb/01/nm0000001_rm946909184_1899-5-10_1968.jpg</td>\n",
       "      <td>1.0</td>\n",
       "      <td>Fred Astaire</td>\n",
       "      <td>[[622.8855056426588, 424.21750383700805, 844.3...</td>\n",
       "      <td>1.872117</td>\n",
       "      <td>NaN</td>\n",
       "      <td>6488</td>\n",
       "      <td>622.885506</td>\n",
       "      <td>844.339008</td>\n",
       "      <td>424.217504</td>\n",
       "      <td>645.671006</td>\n",
       "    </tr>\n",
       "    <tr>\n",
       "      <th>4</th>\n",
       "      <td>693726</td>\n",
       "      <td>1968</td>\n",
       "      <td>imdb/01/nm0000001_rm980463616_1899-5-10_1968.jpg</td>\n",
       "      <td>1.0</td>\n",
       "      <td>Fred Astaire</td>\n",
       "      <td>[[1013.8590023603723, 233.8820422075853, 1201....</td>\n",
       "      <td>1.158766</td>\n",
       "      <td>NaN</td>\n",
       "      <td>6488</td>\n",
       "      <td>1013.859002</td>\n",
       "      <td>1201.586128</td>\n",
       "      <td>233.882042</td>\n",
       "      <td>421.609168</td>\n",
       "    </tr>\n",
       "  </tbody>\n",
       "</table>\n",
       "</div>"
      ],
      "text/plain": [
       "      dob  photo_taken                                          full_path  \\\n",
       "0  693726         1968   imdb/01/nm0000001_rm124825600_1899-5-10_1968.jpg   \n",
       "1  693726         1970  imdb/01/nm0000001_rm3343756032_1899-5-10_1970.jpg   \n",
       "2  693726         1968   imdb/01/nm0000001_rm577153792_1899-5-10_1968.jpg   \n",
       "3  693726         1968   imdb/01/nm0000001_rm946909184_1899-5-10_1968.jpg   \n",
       "4  693726         1968   imdb/01/nm0000001_rm980463616_1899-5-10_1968.jpg   \n",
       "\n",
       "   gender          name                                      face_location  \\\n",
       "0     1.0  Fred Astaire  [[1072.926, 161.838, 1214.7839999999999, 303.6...   \n",
       "1     1.0  Fred Astaire              [[477.184, 100.352, 622.592, 245.76]]   \n",
       "2     1.0  Fred Astaire  [[114.96964308962852, 114.96964308962852, 451....   \n",
       "3     1.0  Fred Astaire  [[622.8855056426588, 424.21750383700805, 844.3...   \n",
       "4     1.0  Fred Astaire  [[1013.8590023603723, 233.8820422075853, 1201....   \n",
       "\n",
       "   face_score  second_face_score  celeb_id         xmin         xmax  \\\n",
       "0    1.459693           1.118973      6488  1072.926000  1214.784000   \n",
       "1    2.543198           1.852008      6488   477.184000   622.592000   \n",
       "2    3.455579           2.985660      6488   114.969643   451.686572   \n",
       "3    1.872117                NaN      6488   622.885506   844.339008   \n",
       "4    1.158766                NaN      6488  1013.859002  1201.586128   \n",
       "\n",
       "         ymin        ymax  \n",
       "0  161.838000  303.696000  \n",
       "1  100.352000  245.760000  \n",
       "2  114.969643  451.686572  \n",
       "3  424.217504  645.671006  \n",
       "4  233.882042  421.609168  "
      ]
     },
     "execution_count": 9,
     "metadata": {},
     "output_type": "execute_result"
    }
   ],
   "source": [
    "df.head(5)"
   ]
  },
  {
   "cell_type": "markdown",
   "metadata": {},
   "source": [
    "## Getting age"
   ]
  },
  {
   "cell_type": "code",
   "execution_count": 10,
   "metadata": {},
   "outputs": [],
   "source": [
    "df['dob_date'] = df['dob'].apply(lambda item: set_dob_datetime(item))"
   ]
  },
  {
   "cell_type": "code",
   "execution_count": 11,
   "metadata": {},
   "outputs": [],
   "source": [
    "df['age'] = df['photo_taken'] - df['dob_date'].dt.year"
   ]
  },
  {
   "cell_type": "code",
   "execution_count": 12,
   "metadata": {},
   "outputs": [
    {
     "data": {
      "text/html": [
       "<div>\n",
       "<style scoped>\n",
       "    .dataframe tbody tr th:only-of-type {\n",
       "        vertical-align: middle;\n",
       "    }\n",
       "\n",
       "    .dataframe tbody tr th {\n",
       "        vertical-align: top;\n",
       "    }\n",
       "\n",
       "    .dataframe thead th {\n",
       "        text-align: right;\n",
       "    }\n",
       "</style>\n",
       "<table border=\"1\" class=\"dataframe\">\n",
       "  <thead>\n",
       "    <tr style=\"text-align: right;\">\n",
       "      <th></th>\n",
       "      <th>dob</th>\n",
       "      <th>photo_taken</th>\n",
       "      <th>full_path</th>\n",
       "      <th>gender</th>\n",
       "      <th>name</th>\n",
       "      <th>face_location</th>\n",
       "      <th>face_score</th>\n",
       "      <th>second_face_score</th>\n",
       "      <th>celeb_id</th>\n",
       "      <th>xmin</th>\n",
       "      <th>xmax</th>\n",
       "      <th>ymin</th>\n",
       "      <th>ymax</th>\n",
       "      <th>dob_date</th>\n",
       "      <th>age</th>\n",
       "    </tr>\n",
       "  </thead>\n",
       "  <tbody>\n",
       "    <tr>\n",
       "      <th>0</th>\n",
       "      <td>693726</td>\n",
       "      <td>1968</td>\n",
       "      <td>imdb/01/nm0000001_rm124825600_1899-5-10_1968.jpg</td>\n",
       "      <td>1.0</td>\n",
       "      <td>Fred Astaire</td>\n",
       "      <td>[[1072.926, 161.838, 1214.7839999999999, 303.6...</td>\n",
       "      <td>1.459693</td>\n",
       "      <td>1.118973</td>\n",
       "      <td>6488</td>\n",
       "      <td>1072.926000</td>\n",
       "      <td>1214.784000</td>\n",
       "      <td>161.838000</td>\n",
       "      <td>303.696000</td>\n",
       "      <td>1899-05-10</td>\n",
       "      <td>69.0</td>\n",
       "    </tr>\n",
       "    <tr>\n",
       "      <th>1</th>\n",
       "      <td>693726</td>\n",
       "      <td>1970</td>\n",
       "      <td>imdb/01/nm0000001_rm3343756032_1899-5-10_1970.jpg</td>\n",
       "      <td>1.0</td>\n",
       "      <td>Fred Astaire</td>\n",
       "      <td>[[477.184, 100.352, 622.592, 245.76]]</td>\n",
       "      <td>2.543198</td>\n",
       "      <td>1.852008</td>\n",
       "      <td>6488</td>\n",
       "      <td>477.184000</td>\n",
       "      <td>622.592000</td>\n",
       "      <td>100.352000</td>\n",
       "      <td>245.760000</td>\n",
       "      <td>1899-05-10</td>\n",
       "      <td>71.0</td>\n",
       "    </tr>\n",
       "    <tr>\n",
       "      <th>2</th>\n",
       "      <td>693726</td>\n",
       "      <td>1968</td>\n",
       "      <td>imdb/01/nm0000001_rm577153792_1899-5-10_1968.jpg</td>\n",
       "      <td>1.0</td>\n",
       "      <td>Fred Astaire</td>\n",
       "      <td>[[114.96964308962852, 114.96964308962852, 451....</td>\n",
       "      <td>3.455579</td>\n",
       "      <td>2.985660</td>\n",
       "      <td>6488</td>\n",
       "      <td>114.969643</td>\n",
       "      <td>451.686572</td>\n",
       "      <td>114.969643</td>\n",
       "      <td>451.686572</td>\n",
       "      <td>1899-05-10</td>\n",
       "      <td>69.0</td>\n",
       "    </tr>\n",
       "    <tr>\n",
       "      <th>3</th>\n",
       "      <td>693726</td>\n",
       "      <td>1968</td>\n",
       "      <td>imdb/01/nm0000001_rm946909184_1899-5-10_1968.jpg</td>\n",
       "      <td>1.0</td>\n",
       "      <td>Fred Astaire</td>\n",
       "      <td>[[622.8855056426588, 424.21750383700805, 844.3...</td>\n",
       "      <td>1.872117</td>\n",
       "      <td>NaN</td>\n",
       "      <td>6488</td>\n",
       "      <td>622.885506</td>\n",
       "      <td>844.339008</td>\n",
       "      <td>424.217504</td>\n",
       "      <td>645.671006</td>\n",
       "      <td>1899-05-10</td>\n",
       "      <td>69.0</td>\n",
       "    </tr>\n",
       "    <tr>\n",
       "      <th>4</th>\n",
       "      <td>693726</td>\n",
       "      <td>1968</td>\n",
       "      <td>imdb/01/nm0000001_rm980463616_1899-5-10_1968.jpg</td>\n",
       "      <td>1.0</td>\n",
       "      <td>Fred Astaire</td>\n",
       "      <td>[[1013.8590023603723, 233.8820422075853, 1201....</td>\n",
       "      <td>1.158766</td>\n",
       "      <td>NaN</td>\n",
       "      <td>6488</td>\n",
       "      <td>1013.859002</td>\n",
       "      <td>1201.586128</td>\n",
       "      <td>233.882042</td>\n",
       "      <td>421.609168</td>\n",
       "      <td>1899-05-10</td>\n",
       "      <td>69.0</td>\n",
       "    </tr>\n",
       "  </tbody>\n",
       "</table>\n",
       "</div>"
      ],
      "text/plain": [
       "      dob  photo_taken                                          full_path  \\\n",
       "0  693726         1968   imdb/01/nm0000001_rm124825600_1899-5-10_1968.jpg   \n",
       "1  693726         1970  imdb/01/nm0000001_rm3343756032_1899-5-10_1970.jpg   \n",
       "2  693726         1968   imdb/01/nm0000001_rm577153792_1899-5-10_1968.jpg   \n",
       "3  693726         1968   imdb/01/nm0000001_rm946909184_1899-5-10_1968.jpg   \n",
       "4  693726         1968   imdb/01/nm0000001_rm980463616_1899-5-10_1968.jpg   \n",
       "\n",
       "   gender          name                                      face_location  \\\n",
       "0     1.0  Fred Astaire  [[1072.926, 161.838, 1214.7839999999999, 303.6...   \n",
       "1     1.0  Fred Astaire              [[477.184, 100.352, 622.592, 245.76]]   \n",
       "2     1.0  Fred Astaire  [[114.96964308962852, 114.96964308962852, 451....   \n",
       "3     1.0  Fred Astaire  [[622.8855056426588, 424.21750383700805, 844.3...   \n",
       "4     1.0  Fred Astaire  [[1013.8590023603723, 233.8820422075853, 1201....   \n",
       "\n",
       "   face_score  second_face_score  celeb_id         xmin         xmax  \\\n",
       "0    1.459693           1.118973      6488  1072.926000  1214.784000   \n",
       "1    2.543198           1.852008      6488   477.184000   622.592000   \n",
       "2    3.455579           2.985660      6488   114.969643   451.686572   \n",
       "3    1.872117                NaN      6488   622.885506   844.339008   \n",
       "4    1.158766                NaN      6488  1013.859002  1201.586128   \n",
       "\n",
       "         ymin        ymax   dob_date   age  \n",
       "0  161.838000  303.696000 1899-05-10  69.0  \n",
       "1  100.352000  245.760000 1899-05-10  71.0  \n",
       "2  114.969643  451.686572 1899-05-10  69.0  \n",
       "3  424.217504  645.671006 1899-05-10  69.0  \n",
       "4  233.882042  421.609168 1899-05-10  69.0  "
      ]
     },
     "execution_count": 12,
     "metadata": {},
     "output_type": "execute_result"
    }
   ],
   "source": [
    "df.head()"
   ]
  },
  {
   "cell_type": "markdown",
   "metadata": {},
   "source": [
    "## Dropping unnecessary columns and NaN data"
   ]
  },
  {
   "cell_type": "code",
   "execution_count": 13,
   "metadata": {
    "collapsed": true
   },
   "outputs": [],
   "source": [
    "df.drop(['face_location', 'dob'], inplace=True, axis=1)"
   ]
  },
  {
   "cell_type": "code",
   "execution_count": 14,
   "metadata": {},
   "outputs": [],
   "source": [
    "df.dropna(subset=['age', 'dob_date', 'gender'], axis=0, inplace=True)"
   ]
  },
  {
   "cell_type": "code",
   "execution_count": 15,
   "metadata": {},
   "outputs": [
    {
     "data": {
      "text/plain": [
       "photo_taken               0\n",
       "full_path                 0\n",
       "gender                    0\n",
       "name                      0\n",
       "face_score                0\n",
       "second_face_score    242679\n",
       "celeb_id                  0\n",
       "xmin                      0\n",
       "xmax                      0\n",
       "ymin                      0\n",
       "ymax                      0\n",
       "dob_date                  0\n",
       "age                       0\n",
       "dtype: int64"
      ]
     },
     "execution_count": 15,
     "metadata": {},
     "output_type": "execute_result"
    }
   ],
   "source": [
    "df.isnull().sum()"
   ]
  },
  {
   "cell_type": "markdown",
   "metadata": {},
   "source": [
    "## Set features order"
   ]
  },
  {
   "cell_type": "code",
   "execution_count": 16,
   "metadata": {},
   "outputs": [],
   "source": [
    "df = df[['celeb_id', 'name', 'full_path', 'face_score','second_face_score',\n",
    "         'xmin','xmax','ymin', 'ymax', 'dob_date', 'photo_taken', 'age', 'gender']]"
   ]
  },
  {
   "cell_type": "markdown",
   "metadata": {},
   "source": [
    "## Saving complete clean dataset"
   ]
  },
  {
   "cell_type": "code",
   "execution_count": 17,
   "metadata": {
    "collapsed": true
   },
   "outputs": [],
   "source": [
    "df_age = set_labels_for_age(df).sample(frac=1).reset_index(drop=True)\n",
    "df_gender = set_labels_for_gender(df).sample(frac=1).reset_index(drop=True)"
   ]
  },
  {
   "cell_type": "code",
   "execution_count": null,
   "metadata": {
    "collapsed": true
   },
   "outputs": [],
   "source": [
    "df_age.head(5)"
   ]
  },
  {
   "cell_type": "code",
   "execution_count": null,
   "metadata": {},
   "outputs": [],
   "source": [
    "df_gender.head(5)"
   ]
  },
  {
   "cell_type": "code",
   "execution_count": null,
   "metadata": {},
   "outputs": [],
   "source": [
    "df_age.to_csv('../../ssd_keras/dataset/csv/imdb_csv/imdb_age.csv')\n",
    "df_gender.to_csv('../../ssd_keras/dataset/csv/imdb_csv/imdb_gender.csv')"
   ]
  },
  {
   "cell_type": "code",
   "execution_count": null,
   "metadata": {},
   "outputs": [],
   "source": [
    "df.to_csv('../../ssd_keras/dataset/csv/imdb_csv/imdb.csv')"
   ]
  }
 ],
 "metadata": {
  "kernelspec": {
   "display_name": "Python 3",
   "language": "python",
   "name": "python3"
  },
  "language_info": {
   "codemirror_mode": {
    "name": "ipython",
    "version": 3
   },
   "file_extension": ".py",
   "mimetype": "text/x-python",
   "name": "python",
   "nbconvert_exporter": "python",
   "pygments_lexer": "ipython3",
   "version": "3.5.2"
  }
 },
 "nbformat": 4,
 "nbformat_minor": 2
}
