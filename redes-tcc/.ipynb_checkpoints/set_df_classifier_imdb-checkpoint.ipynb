{
 "cells": [
  {
   "cell_type": "markdown",
   "metadata": {},
   "source": [
    "# Take imdb.mat file and reshape its data to a dataframe for a gender classifier to be fed into ssd "
   ]
  },
  {
   "cell_type": "code",
   "execution_count": 18,
   "metadata": {
    "collapsed": true
   },
   "outputs": [],
   "source": [
    "from data_generator.dataset_generator import *\n",
    "from datetime import datetime, timedelta"
   ]
  },
  {
   "cell_type": "markdown",
   "metadata": {},
   "source": [
    "## Reading dataset"
   ]
  },
  {
   "cell_type": "code",
   "execution_count": 2,
   "metadata": {
    "collapsed": true
   },
   "outputs": [],
   "source": [
    "data = read_data_from_mat('../../ssd_keras/dataset/csv/imdb_csv/imdb.mat')"
   ]
  },
  {
   "cell_type": "code",
   "execution_count": 3,
   "metadata": {
    "collapsed": true
   },
   "outputs": [],
   "source": [
    "df = get_dataframe_from_dictionary(data, 'imdb')"
   ]
  },
  {
   "cell_type": "code",
   "execution_count": 4,
   "metadata": {},
   "outputs": [
    {
     "data": {
      "text/html": [
       "<div>\n",
       "<style scoped>\n",
       "    .dataframe tbody tr th:only-of-type {\n",
       "        vertical-align: middle;\n",
       "    }\n",
       "\n",
       "    .dataframe tbody tr th {\n",
       "        vertical-align: top;\n",
       "    }\n",
       "\n",
       "    .dataframe thead th {\n",
       "        text-align: right;\n",
       "    }\n",
       "</style>\n",
       "<table border=\"1\" class=\"dataframe\">\n",
       "  <thead>\n",
       "    <tr style=\"text-align: right;\">\n",
       "      <th></th>\n",
       "      <th>dob</th>\n",
       "      <th>photo_taken</th>\n",
       "      <th>full_path</th>\n",
       "      <th>gender</th>\n",
       "      <th>name</th>\n",
       "      <th>face_location</th>\n",
       "      <th>face_score</th>\n",
       "      <th>second_face_score</th>\n",
       "      <th>celeb_id</th>\n",
       "    </tr>\n",
       "  </thead>\n",
       "  <tbody>\n",
       "    <tr>\n",
       "      <th>0</th>\n",
       "      <td>693726</td>\n",
       "      <td>1968</td>\n",
       "      <td>[01/nm0000001_rm124825600_1899-5-10_1968.jpg]</td>\n",
       "      <td>1.0</td>\n",
       "      <td>[Fred Astaire]</td>\n",
       "      <td>[[1072.926, 161.838, 1214.7839999999999, 303.6...</td>\n",
       "      <td>1.459693</td>\n",
       "      <td>1.118973</td>\n",
       "      <td>6488</td>\n",
       "    </tr>\n",
       "    <tr>\n",
       "      <th>1</th>\n",
       "      <td>693726</td>\n",
       "      <td>1970</td>\n",
       "      <td>[01/nm0000001_rm3343756032_1899-5-10_1970.jpg]</td>\n",
       "      <td>1.0</td>\n",
       "      <td>[Fred Astaire]</td>\n",
       "      <td>[[477.184, 100.352, 622.592, 245.76]]</td>\n",
       "      <td>2.543198</td>\n",
       "      <td>1.852008</td>\n",
       "      <td>6488</td>\n",
       "    </tr>\n",
       "    <tr>\n",
       "      <th>2</th>\n",
       "      <td>693726</td>\n",
       "      <td>1968</td>\n",
       "      <td>[01/nm0000001_rm577153792_1899-5-10_1968.jpg]</td>\n",
       "      <td>1.0</td>\n",
       "      <td>[Fred Astaire]</td>\n",
       "      <td>[[114.96964308962852, 114.96964308962852, 451....</td>\n",
       "      <td>3.455579</td>\n",
       "      <td>2.985660</td>\n",
       "      <td>6488</td>\n",
       "    </tr>\n",
       "    <tr>\n",
       "      <th>3</th>\n",
       "      <td>693726</td>\n",
       "      <td>1968</td>\n",
       "      <td>[01/nm0000001_rm946909184_1899-5-10_1968.jpg]</td>\n",
       "      <td>1.0</td>\n",
       "      <td>[Fred Astaire]</td>\n",
       "      <td>[[622.8855056426588, 424.21750383700805, 844.3...</td>\n",
       "      <td>1.872117</td>\n",
       "      <td>NaN</td>\n",
       "      <td>6488</td>\n",
       "    </tr>\n",
       "    <tr>\n",
       "      <th>4</th>\n",
       "      <td>693726</td>\n",
       "      <td>1968</td>\n",
       "      <td>[01/nm0000001_rm980463616_1899-5-10_1968.jpg]</td>\n",
       "      <td>1.0</td>\n",
       "      <td>[Fred Astaire]</td>\n",
       "      <td>[[1013.8590023603723, 233.8820422075853, 1201....</td>\n",
       "      <td>1.158766</td>\n",
       "      <td>NaN</td>\n",
       "      <td>6488</td>\n",
       "    </tr>\n",
       "  </tbody>\n",
       "</table>\n",
       "</div>"
      ],
      "text/plain": [
       "      dob  photo_taken                                       full_path  \\\n",
       "0  693726         1968   [01/nm0000001_rm124825600_1899-5-10_1968.jpg]   \n",
       "1  693726         1970  [01/nm0000001_rm3343756032_1899-5-10_1970.jpg]   \n",
       "2  693726         1968   [01/nm0000001_rm577153792_1899-5-10_1968.jpg]   \n",
       "3  693726         1968   [01/nm0000001_rm946909184_1899-5-10_1968.jpg]   \n",
       "4  693726         1968   [01/nm0000001_rm980463616_1899-5-10_1968.jpg]   \n",
       "\n",
       "   gender            name                                      face_location  \\\n",
       "0     1.0  [Fred Astaire]  [[1072.926, 161.838, 1214.7839999999999, 303.6...   \n",
       "1     1.0  [Fred Astaire]              [[477.184, 100.352, 622.592, 245.76]]   \n",
       "2     1.0  [Fred Astaire]  [[114.96964308962852, 114.96964308962852, 451....   \n",
       "3     1.0  [Fred Astaire]  [[622.8855056426588, 424.21750383700805, 844.3...   \n",
       "4     1.0  [Fred Astaire]  [[1013.8590023603723, 233.8820422075853, 1201....   \n",
       "\n",
       "   face_score  second_face_score  celeb_id  \n",
       "0    1.459693           1.118973      6488  \n",
       "1    2.543198           1.852008      6488  \n",
       "2    3.455579           2.985660      6488  \n",
       "3    1.872117                NaN      6488  \n",
       "4    1.158766                NaN      6488  "
      ]
     },
     "execution_count": 4,
     "metadata": {},
     "output_type": "execute_result"
    }
   ],
   "source": [
    "df.head(5)"
   ]
  },
  {
   "cell_type": "markdown",
   "metadata": {},
   "source": [
    "## Setting xmin, xmax, ymin, ymax and removing face_location column"
   ]
  },
  {
   "cell_type": "code",
   "execution_count": 5,
   "metadata": {
    "collapsed": true,
    "scrolled": true
   },
   "outputs": [],
   "source": [
    "df = set_face_locations(df)"
   ]
  },
  {
   "cell_type": "code",
   "execution_count": 6,
   "metadata": {},
   "outputs": [
    {
     "data": {
      "text/html": [
       "<div>\n",
       "<style scoped>\n",
       "    .dataframe tbody tr th:only-of-type {\n",
       "        vertical-align: middle;\n",
       "    }\n",
       "\n",
       "    .dataframe tbody tr th {\n",
       "        vertical-align: top;\n",
       "    }\n",
       "\n",
       "    .dataframe thead th {\n",
       "        text-align: right;\n",
       "    }\n",
       "</style>\n",
       "<table border=\"1\" class=\"dataframe\">\n",
       "  <thead>\n",
       "    <tr style=\"text-align: right;\">\n",
       "      <th></th>\n",
       "      <th>dob</th>\n",
       "      <th>photo_taken</th>\n",
       "      <th>full_path</th>\n",
       "      <th>gender</th>\n",
       "      <th>name</th>\n",
       "      <th>face_location</th>\n",
       "      <th>face_score</th>\n",
       "      <th>second_face_score</th>\n",
       "      <th>celeb_id</th>\n",
       "      <th>xmin</th>\n",
       "      <th>xmax</th>\n",
       "      <th>ymin</th>\n",
       "      <th>ymax</th>\n",
       "    </tr>\n",
       "  </thead>\n",
       "  <tbody>\n",
       "    <tr>\n",
       "      <th>437094</th>\n",
       "      <td>727257</td>\n",
       "      <td>2011</td>\n",
       "      <td>[61/nm0092961_rm872328192_1991-2-28_2011.jpg]</td>\n",
       "      <td>0.0</td>\n",
       "      <td>[Sarah Bolger]</td>\n",
       "      <td>[[1, 1, 426, 640]]</td>\n",
       "      <td>-inf</td>\n",
       "      <td>NaN</td>\n",
       "      <td>17189</td>\n",
       "      <td>1.000000</td>\n",
       "      <td>426.000000</td>\n",
       "      <td>1.000000</td>\n",
       "      <td>640.000000</td>\n",
       "    </tr>\n",
       "    <tr>\n",
       "      <th>294884</th>\n",
       "      <td>718984</td>\n",
       "      <td>2012</td>\n",
       "      <td>[21/nm0836121_rm557233152_1968-7-5_2012.jpg]</td>\n",
       "      <td>1.0</td>\n",
       "      <td>[Michael Stuhlbarg]</td>\n",
       "      <td>[[690.176, 133.12, 983.04, 425.984]]</td>\n",
       "      <td>1.040922</td>\n",
       "      <td>0.846652</td>\n",
       "      <td>13727</td>\n",
       "      <td>690.176000</td>\n",
       "      <td>983.040000</td>\n",
       "      <td>133.120000</td>\n",
       "      <td>425.984000</td>\n",
       "    </tr>\n",
       "    <tr>\n",
       "      <th>119556</th>\n",
       "      <td>720269</td>\n",
       "      <td>2013</td>\n",
       "      <td>[05/nm0001605_rm3385501184_1972-1-11_2013.jpg]</td>\n",
       "      <td>0.0</td>\n",
       "      <td>[Amanda Peet]</td>\n",
       "      <td>[[1292.9964843675587, 183.58763061418796, 1472...</td>\n",
       "      <td>4.538516</td>\n",
       "      <td>3.065267</td>\n",
       "      <td>760</td>\n",
       "      <td>1292.996484</td>\n",
       "      <td>1472.488115</td>\n",
       "      <td>183.587631</td>\n",
       "      <td>363.079261</td>\n",
       "    </tr>\n",
       "    <tr>\n",
       "      <th>139144</th>\n",
       "      <td>705263</td>\n",
       "      <td>2012</td>\n",
       "      <td>[62/nm0004462_rm2042410240_1930-12-11_2012.jpg]</td>\n",
       "      <td>1.0</td>\n",
       "      <td>[Jean-Louis Trintignant]</td>\n",
       "      <td>[[405.4694013648621, 486.15368163783455, 1129....</td>\n",
       "      <td>4.442067</td>\n",
       "      <td>NaN</td>\n",
       "      <td>8651</td>\n",
       "      <td>405.469401</td>\n",
       "      <td>1129.579924</td>\n",
       "      <td>486.153682</td>\n",
       "      <td>1210.264204</td>\n",
       "    </tr>\n",
       "    <tr>\n",
       "      <th>107112</th>\n",
       "      <td>713359</td>\n",
       "      <td>2009</td>\n",
       "      <td>[54/nm0001354_rm1924827904_1953-2-9_2009.jpg]</td>\n",
       "      <td>1.0</td>\n",
       "      <td>[Ciarán Hinds]</td>\n",
       "      <td>[[283.85424128182973, 54.004295240343076, 362....</td>\n",
       "      <td>1.770514</td>\n",
       "      <td>NaN</td>\n",
       "      <td>3750</td>\n",
       "      <td>283.854241</td>\n",
       "      <td>362.455684</td>\n",
       "      <td>54.004295</td>\n",
       "      <td>132.605738</td>\n",
       "    </tr>\n",
       "  </tbody>\n",
       "</table>\n",
       "</div>"
      ],
      "text/plain": [
       "           dob  photo_taken                                        full_path  \\\n",
       "437094  727257         2011    [61/nm0092961_rm872328192_1991-2-28_2011.jpg]   \n",
       "294884  718984         2012     [21/nm0836121_rm557233152_1968-7-5_2012.jpg]   \n",
       "119556  720269         2013   [05/nm0001605_rm3385501184_1972-1-11_2013.jpg]   \n",
       "139144  705263         2012  [62/nm0004462_rm2042410240_1930-12-11_2012.jpg]   \n",
       "107112  713359         2009    [54/nm0001354_rm1924827904_1953-2-9_2009.jpg]   \n",
       "\n",
       "        gender                      name  \\\n",
       "437094     0.0            [Sarah Bolger]   \n",
       "294884     1.0       [Michael Stuhlbarg]   \n",
       "119556     0.0             [Amanda Peet]   \n",
       "139144     1.0  [Jean-Louis Trintignant]   \n",
       "107112     1.0            [Ciarán Hinds]   \n",
       "\n",
       "                                            face_location  face_score  \\\n",
       "437094                                 [[1, 1, 426, 640]]        -inf   \n",
       "294884               [[690.176, 133.12, 983.04, 425.984]]    1.040922   \n",
       "119556  [[1292.9964843675587, 183.58763061418796, 1472...    4.538516   \n",
       "139144  [[405.4694013648621, 486.15368163783455, 1129....    4.442067   \n",
       "107112  [[283.85424128182973, 54.004295240343076, 362....    1.770514   \n",
       "\n",
       "        second_face_score  celeb_id         xmin         xmax        ymin  \\\n",
       "437094                NaN     17189     1.000000   426.000000    1.000000   \n",
       "294884           0.846652     13727   690.176000   983.040000  133.120000   \n",
       "119556           3.065267       760  1292.996484  1472.488115  183.587631   \n",
       "139144                NaN      8651   405.469401  1129.579924  486.153682   \n",
       "107112                NaN      3750   283.854241   362.455684   54.004295   \n",
       "\n",
       "               ymax  \n",
       "437094   640.000000  \n",
       "294884   425.984000  \n",
       "119556   363.079261  \n",
       "139144  1210.264204  \n",
       "107112   132.605738  "
      ]
     },
     "execution_count": 6,
     "metadata": {},
     "output_type": "execute_result"
    }
   ],
   "source": [
    "df.sample(5)"
   ]
  },
  {
   "cell_type": "markdown",
   "metadata": {},
   "source": [
    "## Fixing strings --> full path and name"
   ]
  },
  {
   "cell_type": "code",
   "execution_count": 7,
   "metadata": {
    "collapsed": true
   },
   "outputs": [],
   "source": [
    "df = fix_full_path_no_thread(df, 'imdb')"
   ]
  },
  {
   "cell_type": "code",
   "execution_count": 8,
   "metadata": {},
   "outputs": [],
   "source": [
    "df.loc[:, 'name'] = df.loc[:, 'name'].apply(lambda item: item[0])"
   ]
  },
  {
   "cell_type": "code",
   "execution_count": 9,
   "metadata": {},
   "outputs": [
    {
     "data": {
      "text/html": [
       "<div>\n",
       "<style scoped>\n",
       "    .dataframe tbody tr th:only-of-type {\n",
       "        vertical-align: middle;\n",
       "    }\n",
       "\n",
       "    .dataframe tbody tr th {\n",
       "        vertical-align: top;\n",
       "    }\n",
       "\n",
       "    .dataframe thead th {\n",
       "        text-align: right;\n",
       "    }\n",
       "</style>\n",
       "<table border=\"1\" class=\"dataframe\">\n",
       "  <thead>\n",
       "    <tr style=\"text-align: right;\">\n",
       "      <th></th>\n",
       "      <th>dob</th>\n",
       "      <th>photo_taken</th>\n",
       "      <th>full_path</th>\n",
       "      <th>gender</th>\n",
       "      <th>name</th>\n",
       "      <th>face_location</th>\n",
       "      <th>face_score</th>\n",
       "      <th>second_face_score</th>\n",
       "      <th>celeb_id</th>\n",
       "      <th>xmin</th>\n",
       "      <th>xmax</th>\n",
       "      <th>ymin</th>\n",
       "      <th>ymax</th>\n",
       "    </tr>\n",
       "  </thead>\n",
       "  <tbody>\n",
       "    <tr>\n",
       "      <th>0</th>\n",
       "      <td>693726</td>\n",
       "      <td>1968</td>\n",
       "      <td>imdb/01/nm0000001_rm124825600_1899-5-10_1968.jpg</td>\n",
       "      <td>1.0</td>\n",
       "      <td>Fred Astaire</td>\n",
       "      <td>[[1072.926, 161.838, 1214.7839999999999, 303.6...</td>\n",
       "      <td>1.459693</td>\n",
       "      <td>1.118973</td>\n",
       "      <td>6488</td>\n",
       "      <td>1072.926000</td>\n",
       "      <td>1214.784000</td>\n",
       "      <td>161.838000</td>\n",
       "      <td>303.696000</td>\n",
       "    </tr>\n",
       "    <tr>\n",
       "      <th>1</th>\n",
       "      <td>693726</td>\n",
       "      <td>1970</td>\n",
       "      <td>imdb/01/nm0000001_rm3343756032_1899-5-10_1970.jpg</td>\n",
       "      <td>1.0</td>\n",
       "      <td>Fred Astaire</td>\n",
       "      <td>[[477.184, 100.352, 622.592, 245.76]]</td>\n",
       "      <td>2.543198</td>\n",
       "      <td>1.852008</td>\n",
       "      <td>6488</td>\n",
       "      <td>477.184000</td>\n",
       "      <td>622.592000</td>\n",
       "      <td>100.352000</td>\n",
       "      <td>245.760000</td>\n",
       "    </tr>\n",
       "    <tr>\n",
       "      <th>2</th>\n",
       "      <td>693726</td>\n",
       "      <td>1968</td>\n",
       "      <td>imdb/01/nm0000001_rm577153792_1899-5-10_1968.jpg</td>\n",
       "      <td>1.0</td>\n",
       "      <td>Fred Astaire</td>\n",
       "      <td>[[114.96964308962852, 114.96964308962852, 451....</td>\n",
       "      <td>3.455579</td>\n",
       "      <td>2.985660</td>\n",
       "      <td>6488</td>\n",
       "      <td>114.969643</td>\n",
       "      <td>451.686572</td>\n",
       "      <td>114.969643</td>\n",
       "      <td>451.686572</td>\n",
       "    </tr>\n",
       "    <tr>\n",
       "      <th>3</th>\n",
       "      <td>693726</td>\n",
       "      <td>1968</td>\n",
       "      <td>imdb/01/nm0000001_rm946909184_1899-5-10_1968.jpg</td>\n",
       "      <td>1.0</td>\n",
       "      <td>Fred Astaire</td>\n",
       "      <td>[[622.8855056426588, 424.21750383700805, 844.3...</td>\n",
       "      <td>1.872117</td>\n",
       "      <td>NaN</td>\n",
       "      <td>6488</td>\n",
       "      <td>622.885506</td>\n",
       "      <td>844.339008</td>\n",
       "      <td>424.217504</td>\n",
       "      <td>645.671006</td>\n",
       "    </tr>\n",
       "    <tr>\n",
       "      <th>4</th>\n",
       "      <td>693726</td>\n",
       "      <td>1968</td>\n",
       "      <td>imdb/01/nm0000001_rm980463616_1899-5-10_1968.jpg</td>\n",
       "      <td>1.0</td>\n",
       "      <td>Fred Astaire</td>\n",
       "      <td>[[1013.8590023603723, 233.8820422075853, 1201....</td>\n",
       "      <td>1.158766</td>\n",
       "      <td>NaN</td>\n",
       "      <td>6488</td>\n",
       "      <td>1013.859002</td>\n",
       "      <td>1201.586128</td>\n",
       "      <td>233.882042</td>\n",
       "      <td>421.609168</td>\n",
       "    </tr>\n",
       "  </tbody>\n",
       "</table>\n",
       "</div>"
      ],
      "text/plain": [
       "      dob  photo_taken                                          full_path  \\\n",
       "0  693726         1968   imdb/01/nm0000001_rm124825600_1899-5-10_1968.jpg   \n",
       "1  693726         1970  imdb/01/nm0000001_rm3343756032_1899-5-10_1970.jpg   \n",
       "2  693726         1968   imdb/01/nm0000001_rm577153792_1899-5-10_1968.jpg   \n",
       "3  693726         1968   imdb/01/nm0000001_rm946909184_1899-5-10_1968.jpg   \n",
       "4  693726         1968   imdb/01/nm0000001_rm980463616_1899-5-10_1968.jpg   \n",
       "\n",
       "   gender          name                                      face_location  \\\n",
       "0     1.0  Fred Astaire  [[1072.926, 161.838, 1214.7839999999999, 303.6...   \n",
       "1     1.0  Fred Astaire              [[477.184, 100.352, 622.592, 245.76]]   \n",
       "2     1.0  Fred Astaire  [[114.96964308962852, 114.96964308962852, 451....   \n",
       "3     1.0  Fred Astaire  [[622.8855056426588, 424.21750383700805, 844.3...   \n",
       "4     1.0  Fred Astaire  [[1013.8590023603723, 233.8820422075853, 1201....   \n",
       "\n",
       "   face_score  second_face_score  celeb_id         xmin         xmax  \\\n",
       "0    1.459693           1.118973      6488  1072.926000  1214.784000   \n",
       "1    2.543198           1.852008      6488   477.184000   622.592000   \n",
       "2    3.455579           2.985660      6488   114.969643   451.686572   \n",
       "3    1.872117                NaN      6488   622.885506   844.339008   \n",
       "4    1.158766                NaN      6488  1013.859002  1201.586128   \n",
       "\n",
       "         ymin        ymax  \n",
       "0  161.838000  303.696000  \n",
       "1  100.352000  245.760000  \n",
       "2  114.969643  451.686572  \n",
       "3  424.217504  645.671006  \n",
       "4  233.882042  421.609168  "
      ]
     },
     "execution_count": 9,
     "metadata": {},
     "output_type": "execute_result"
    }
   ],
   "source": [
    "df.head(5)"
   ]
  },
  {
   "cell_type": "markdown",
   "metadata": {},
   "source": [
    "## Getting age"
   ]
  },
  {
   "cell_type": "code",
   "execution_count": 10,
   "metadata": {},
   "outputs": [],
   "source": [
    "df['dob_date'] = df['dob'].apply(lambda item: set_dob_datetime(item))"
   ]
  },
  {
   "cell_type": "code",
   "execution_count": 11,
   "metadata": {},
   "outputs": [],
   "source": [
    "df['age'] = df['photo_taken'] - df['dob_date'].dt.year"
   ]
  },
  {
   "cell_type": "code",
   "execution_count": 12,
   "metadata": {},
   "outputs": [
    {
     "data": {
      "text/html": [
       "<div>\n",
       "<style scoped>\n",
       "    .dataframe tbody tr th:only-of-type {\n",
       "        vertical-align: middle;\n",
       "    }\n",
       "\n",
       "    .dataframe tbody tr th {\n",
       "        vertical-align: top;\n",
       "    }\n",
       "\n",
       "    .dataframe thead th {\n",
       "        text-align: right;\n",
       "    }\n",
       "</style>\n",
       "<table border=\"1\" class=\"dataframe\">\n",
       "  <thead>\n",
       "    <tr style=\"text-align: right;\">\n",
       "      <th></th>\n",
       "      <th>dob</th>\n",
       "      <th>photo_taken</th>\n",
       "      <th>full_path</th>\n",
       "      <th>gender</th>\n",
       "      <th>name</th>\n",
       "      <th>face_location</th>\n",
       "      <th>face_score</th>\n",
       "      <th>second_face_score</th>\n",
       "      <th>celeb_id</th>\n",
       "      <th>xmin</th>\n",
       "      <th>xmax</th>\n",
       "      <th>ymin</th>\n",
       "      <th>ymax</th>\n",
       "      <th>dob_date</th>\n",
       "      <th>age</th>\n",
       "    </tr>\n",
       "  </thead>\n",
       "  <tbody>\n",
       "    <tr>\n",
       "      <th>0</th>\n",
       "      <td>693726</td>\n",
       "      <td>1968</td>\n",
       "      <td>imdb/01/nm0000001_rm124825600_1899-5-10_1968.jpg</td>\n",
       "      <td>1.0</td>\n",
       "      <td>Fred Astaire</td>\n",
       "      <td>[[1072.926, 161.838, 1214.7839999999999, 303.6...</td>\n",
       "      <td>1.459693</td>\n",
       "      <td>1.118973</td>\n",
       "      <td>6488</td>\n",
       "      <td>1072.926000</td>\n",
       "      <td>1214.784000</td>\n",
       "      <td>161.838000</td>\n",
       "      <td>303.696000</td>\n",
       "      <td>1899-05-10</td>\n",
       "      <td>69.0</td>\n",
       "    </tr>\n",
       "    <tr>\n",
       "      <th>1</th>\n",
       "      <td>693726</td>\n",
       "      <td>1970</td>\n",
       "      <td>imdb/01/nm0000001_rm3343756032_1899-5-10_1970.jpg</td>\n",
       "      <td>1.0</td>\n",
       "      <td>Fred Astaire</td>\n",
       "      <td>[[477.184, 100.352, 622.592, 245.76]]</td>\n",
       "      <td>2.543198</td>\n",
       "      <td>1.852008</td>\n",
       "      <td>6488</td>\n",
       "      <td>477.184000</td>\n",
       "      <td>622.592000</td>\n",
       "      <td>100.352000</td>\n",
       "      <td>245.760000</td>\n",
       "      <td>1899-05-10</td>\n",
       "      <td>71.0</td>\n",
       "    </tr>\n",
       "    <tr>\n",
       "      <th>2</th>\n",
       "      <td>693726</td>\n",
       "      <td>1968</td>\n",
       "      <td>imdb/01/nm0000001_rm577153792_1899-5-10_1968.jpg</td>\n",
       "      <td>1.0</td>\n",
       "      <td>Fred Astaire</td>\n",
       "      <td>[[114.96964308962852, 114.96964308962852, 451....</td>\n",
       "      <td>3.455579</td>\n",
       "      <td>2.985660</td>\n",
       "      <td>6488</td>\n",
       "      <td>114.969643</td>\n",
       "      <td>451.686572</td>\n",
       "      <td>114.969643</td>\n",
       "      <td>451.686572</td>\n",
       "      <td>1899-05-10</td>\n",
       "      <td>69.0</td>\n",
       "    </tr>\n",
       "    <tr>\n",
       "      <th>3</th>\n",
       "      <td>693726</td>\n",
       "      <td>1968</td>\n",
       "      <td>imdb/01/nm0000001_rm946909184_1899-5-10_1968.jpg</td>\n",
       "      <td>1.0</td>\n",
       "      <td>Fred Astaire</td>\n",
       "      <td>[[622.8855056426588, 424.21750383700805, 844.3...</td>\n",
       "      <td>1.872117</td>\n",
       "      <td>NaN</td>\n",
       "      <td>6488</td>\n",
       "      <td>622.885506</td>\n",
       "      <td>844.339008</td>\n",
       "      <td>424.217504</td>\n",
       "      <td>645.671006</td>\n",
       "      <td>1899-05-10</td>\n",
       "      <td>69.0</td>\n",
       "    </tr>\n",
       "    <tr>\n",
       "      <th>4</th>\n",
       "      <td>693726</td>\n",
       "      <td>1968</td>\n",
       "      <td>imdb/01/nm0000001_rm980463616_1899-5-10_1968.jpg</td>\n",
       "      <td>1.0</td>\n",
       "      <td>Fred Astaire</td>\n",
       "      <td>[[1013.8590023603723, 233.8820422075853, 1201....</td>\n",
       "      <td>1.158766</td>\n",
       "      <td>NaN</td>\n",
       "      <td>6488</td>\n",
       "      <td>1013.859002</td>\n",
       "      <td>1201.586128</td>\n",
       "      <td>233.882042</td>\n",
       "      <td>421.609168</td>\n",
       "      <td>1899-05-10</td>\n",
       "      <td>69.0</td>\n",
       "    </tr>\n",
       "  </tbody>\n",
       "</table>\n",
       "</div>"
      ],
      "text/plain": [
       "      dob  photo_taken                                          full_path  \\\n",
       "0  693726         1968   imdb/01/nm0000001_rm124825600_1899-5-10_1968.jpg   \n",
       "1  693726         1970  imdb/01/nm0000001_rm3343756032_1899-5-10_1970.jpg   \n",
       "2  693726         1968   imdb/01/nm0000001_rm577153792_1899-5-10_1968.jpg   \n",
       "3  693726         1968   imdb/01/nm0000001_rm946909184_1899-5-10_1968.jpg   \n",
       "4  693726         1968   imdb/01/nm0000001_rm980463616_1899-5-10_1968.jpg   \n",
       "\n",
       "   gender          name                                      face_location  \\\n",
       "0     1.0  Fred Astaire  [[1072.926, 161.838, 1214.7839999999999, 303.6...   \n",
       "1     1.0  Fred Astaire              [[477.184, 100.352, 622.592, 245.76]]   \n",
       "2     1.0  Fred Astaire  [[114.96964308962852, 114.96964308962852, 451....   \n",
       "3     1.0  Fred Astaire  [[622.8855056426588, 424.21750383700805, 844.3...   \n",
       "4     1.0  Fred Astaire  [[1013.8590023603723, 233.8820422075853, 1201....   \n",
       "\n",
       "   face_score  second_face_score  celeb_id         xmin         xmax  \\\n",
       "0    1.459693           1.118973      6488  1072.926000  1214.784000   \n",
       "1    2.543198           1.852008      6488   477.184000   622.592000   \n",
       "2    3.455579           2.985660      6488   114.969643   451.686572   \n",
       "3    1.872117                NaN      6488   622.885506   844.339008   \n",
       "4    1.158766                NaN      6488  1013.859002  1201.586128   \n",
       "\n",
       "         ymin        ymax   dob_date   age  \n",
       "0  161.838000  303.696000 1899-05-10  69.0  \n",
       "1  100.352000  245.760000 1899-05-10  71.0  \n",
       "2  114.969643  451.686572 1899-05-10  69.0  \n",
       "3  424.217504  645.671006 1899-05-10  69.0  \n",
       "4  233.882042  421.609168 1899-05-10  69.0  "
      ]
     },
     "execution_count": 12,
     "metadata": {},
     "output_type": "execute_result"
    }
   ],
   "source": [
    "df.head()"
   ]
  },
  {
   "cell_type": "markdown",
   "metadata": {},
   "source": [
    "## Dropping unnecessary columns and NaN data"
   ]
  },
  {
   "cell_type": "code",
   "execution_count": 13,
   "metadata": {
    "collapsed": true
   },
   "outputs": [],
   "source": [
    "df.drop(['face_location', 'dob'], inplace=True, axis=1)"
   ]
  },
  {
   "cell_type": "code",
   "execution_count": 14,
   "metadata": {},
   "outputs": [],
   "source": [
    "df.dropna(subset=['age', 'dob_date', 'gender'], axis=0, inplace=True)"
   ]
  },
  {
   "cell_type": "code",
   "execution_count": 19,
   "metadata": {},
   "outputs": [
    {
     "data": {
      "text/plain": [
       "photo_taken               0\n",
       "full_path                 0\n",
       "gender                    0\n",
       "name                      0\n",
       "face_score                0\n",
       "second_face_score    242679\n",
       "celeb_id                  0\n",
       "xmin                      0\n",
       "xmax                      0\n",
       "ymin                      0\n",
       "ymax                      0\n",
       "dob_date                  0\n",
       "age                       0\n",
       "dtype: int64"
      ]
     },
     "execution_count": 19,
     "metadata": {},
     "output_type": "execute_result"
    }
   ],
   "source": [
    "df.isnull().sum()"
   ]
  },
  {
   "cell_type": "markdown",
   "metadata": {},
   "source": [
    "## Set features order"
   ]
  },
  {
   "cell_type": "code",
   "execution_count": null,
   "metadata": {},
   "outputs": [],
   "source": [
    "df = df[['celeb_id', 'name', 'full_path', 'face_score','second_face_score',\n",
    "         'xmin','xmax','ymin', 'ymax', 'dob_date', 'photo_taken', 'age', 'gender']]"
   ]
  },
  {
   "cell_type": "markdown",
   "metadata": {},
   "source": [
    "## Saving complete clean dataset"
   ]
  },
  {
   "cell_type": "code",
   "execution_count": 20,
   "metadata": {
    "collapsed": true
   },
   "outputs": [
    {
     "ename": "NameError",
     "evalue": "name 'df' is not defined",
     "output_type": "error",
     "traceback": [
      "\u001b[0;31m---------------------------------------------------------------------------\u001b[0m",
      "\u001b[0;31mNameError\u001b[0m                                 Traceback (most recent call last)",
      "\u001b[0;32m<ipython-input-20-05ef32931440>\u001b[0m in \u001b[0;36m<module>\u001b[0;34m()\u001b[0m\n\u001b[1;32m      1\u001b[0m \u001b[0mdf_age\u001b[0m \u001b[0;34m=\u001b[0m \u001b[0mset_labels_for_age\u001b[0m\u001b[0;34m(\u001b[0m\u001b[0mdf\u001b[0m\u001b[0;34m)\u001b[0m\u001b[0;34m.\u001b[0m\u001b[0msample\u001b[0m\u001b[0;34m(\u001b[0m\u001b[0mfrac\u001b[0m\u001b[0;34m=\u001b[0m\u001b[0;36m1\u001b[0m\u001b[0;34m)\u001b[0m\u001b[0;34m.\u001b[0m\u001b[0mreset_index\u001b[0m\u001b[0;34m(\u001b[0m\u001b[0mdrop\u001b[0m\u001b[0;34m=\u001b[0m\u001b[0;32mTrue\u001b[0m\u001b[0;34m)\u001b[0m\u001b[0;34m\u001b[0m\u001b[0m\n\u001b[0;32m----> 2\u001b[0;31m \u001b[0mdf_gender\u001b[0m \u001b[0;34m=\u001b[0m \u001b[0mset_labels_for_gender\u001b[0m\u001b[0;34m(\u001b[0m\u001b[0mdf\u001b[0m\u001b[0;34m)\u001b[0m\u001b[0;34m.\u001b[0m\u001b[0msample\u001b[0m\u001b[0;34m(\u001b[0m\u001b[0mfrac\u001b[0m\u001b[0;34m=\u001b[0m\u001b[0;36m1\u001b[0m\u001b[0;34m)\u001b[0m\u001b[0;34m.\u001b[0m\u001b[0mreset_index\u001b[0m\u001b[0;34m(\u001b[0m\u001b[0mdrop\u001b[0m\u001b[0;34m=\u001b[0m\u001b[0;32mTrue\u001b[0m\u001b[0;34m)\u001b[0m\u001b[0;34m\u001b[0m\u001b[0m\n\u001b[0m",
      "\u001b[0;32m~/github/deep-learning-learning/redes-tcc/data_generator/dataset_generator.py\u001b[0m in \u001b[0;36mset_labels_for_gender\u001b[0;34m(dataframe_edited)\u001b[0m\n\u001b[1;32m    121\u001b[0m \u001b[0;34m\u001b[0m\u001b[0m\n\u001b[1;32m    122\u001b[0m \u001b[0;32mdef\u001b[0m \u001b[0mset_labels_for_gender\u001b[0m\u001b[0;34m(\u001b[0m\u001b[0mdataframe_edited\u001b[0m\u001b[0;34m)\u001b[0m\u001b[0;34m:\u001b[0m\u001b[0;34m\u001b[0m\u001b[0m\n\u001b[0;32m--> 123\u001b[0;31m     dataframe_edited = df.rename(columns={'full_path': 'image_name',\n\u001b[0m\u001b[1;32m    124\u001b[0m                        'gender': 'class_id'})\n\u001b[1;32m    125\u001b[0m     \u001b[0;32mreturn\u001b[0m \u001b[0mdataframe_edited\u001b[0m\u001b[0;34m[\u001b[0m\u001b[0;34m[\u001b[0m\u001b[0;34m'image_name'\u001b[0m\u001b[0;34m,\u001b[0m \u001b[0;34m'xmin'\u001b[0m\u001b[0;34m,\u001b[0m \u001b[0;34m'xmax'\u001b[0m\u001b[0;34m,\u001b[0m \u001b[0;34m'ymin'\u001b[0m\u001b[0;34m,\u001b[0m \u001b[0;34m'ymax'\u001b[0m\u001b[0;34m,\u001b[0m \u001b[0;34m'class_id'\u001b[0m\u001b[0;34m]\u001b[0m\u001b[0;34m]\u001b[0m\u001b[0;34m\u001b[0m\u001b[0m\n",
      "\u001b[0;31mNameError\u001b[0m: name 'df' is not defined"
     ]
    }
   ],
   "source": [
    "df_age = set_labels_for_age(df).sample(frac=1).reset_index(drop=True)\n",
    "df_gender = set_labels_for_gender(df).sample(frac=1).reset_index(drop=True)"
   ]
  },
  {
   "cell_type": "code",
   "execution_count": null,
   "metadata": {
    "collapsed": true
   },
   "outputs": [],
   "source": [
    "df_age.head(5)"
   ]
  },
  {
   "cell_type": "code",
   "execution_count": null,
   "metadata": {},
   "outputs": [],
   "source": [
    "df_gender.head(5)"
   ]
  },
  {
   "cell_type": "code",
   "execution_count": null,
   "metadata": {},
   "outputs": [],
   "source": [
    "df_age.to_csv('../../ssd_keras/dataset/csv/imdb_csv/imdb_age.csv')\n",
    "df_gender.to_csv('../../ssd_keras/dataset/csv/imdb_csv/imdb_gender.csv')"
   ]
  },
  {
   "cell_type": "code",
   "execution_count": null,
   "metadata": {},
   "outputs": [],
   "source": [
    "df.to_csv('../../ssd_keras/dataset/csv/imdb_csv/imdb.csv')"
   ]
  },
  {
   "cell_type": "code",
   "execution_count": null,
   "metadata": {},
   "outputs": [],
   "source": []
  }
 ],
 "metadata": {
  "kernelspec": {
   "display_name": "Python 3",
   "language": "python",
   "name": "python3"
  },
  "language_info": {
   "codemirror_mode": {
    "name": "ipython",
    "version": 3
   },
   "file_extension": ".py",
   "mimetype": "text/x-python",
   "name": "python",
   "nbconvert_exporter": "python",
   "pygments_lexer": "ipython3",
   "version": "3.5.2"
  }
 },
 "nbformat": 4,
 "nbformat_minor": 2
}
