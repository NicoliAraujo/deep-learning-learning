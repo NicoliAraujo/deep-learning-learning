{
 "cells": [
  {
   "cell_type": "markdown",
   "metadata": {},
   "source": [
    "# Take imdb dataframe set to ssd, sample it and split it into train, test and validation data"
   ]
  },
  {
   "cell_type": "code",
   "execution_count": 14,
   "metadata": {
    "collapsed": true
   },
   "outputs": [],
   "source": [
    "import os, sys\n",
    "os.chdir(sys.path[1])"
   ]
  },
  {
   "cell_type": "code",
   "execution_count": 15,
   "metadata": {
    "collapsed": true
   },
   "outputs": [],
   "source": [
    "import pandas as pd\n",
    "from data_generator.dataset_generator import *"
   ]
  },
  {
   "cell_type": "code",
   "execution_count": 16,
   "metadata": {},
   "outputs": [],
   "source": [
    "attr = 'age'"
   ]
  },
  {
   "cell_type": "code",
   "execution_count": 17,
   "metadata": {},
   "outputs": [
    {
     "data": {
      "text/html": [
       "<div>\n",
       "<style scoped>\n",
       "    .dataframe tbody tr th:only-of-type {\n",
       "        vertical-align: middle;\n",
       "    }\n",
       "\n",
       "    .dataframe tbody tr th {\n",
       "        vertical-align: top;\n",
       "    }\n",
       "\n",
       "    .dataframe thead th {\n",
       "        text-align: right;\n",
       "    }\n",
       "</style>\n",
       "<table border=\"1\" class=\"dataframe\">\n",
       "  <thead>\n",
       "    <tr style=\"text-align: right;\">\n",
       "      <th></th>\n",
       "      <th>image_name</th>\n",
       "      <th>xmin</th>\n",
       "      <th>xmax</th>\n",
       "      <th>ymin</th>\n",
       "      <th>ymax</th>\n",
       "      <th>class_id</th>\n",
       "    </tr>\n",
       "  </thead>\n",
       "  <tbody>\n",
       "    <tr>\n",
       "      <th>0</th>\n",
       "      <td>imdb/01/nm0000001_rm124825600_1899-5-10_1968.jpg</td>\n",
       "      <td>1072.926000</td>\n",
       "      <td>1214.784000</td>\n",
       "      <td>161.838000</td>\n",
       "      <td>303.696000</td>\n",
       "      <td>69</td>\n",
       "    </tr>\n",
       "    <tr>\n",
       "      <th>1</th>\n",
       "      <td>imdb/01/nm0000001_rm3343756032_1899-5-10_1970.jpg</td>\n",
       "      <td>477.184000</td>\n",
       "      <td>622.592000</td>\n",
       "      <td>100.352000</td>\n",
       "      <td>245.760000</td>\n",
       "      <td>71</td>\n",
       "    </tr>\n",
       "    <tr>\n",
       "      <th>2</th>\n",
       "      <td>imdb/01/nm0000001_rm577153792_1899-5-10_1968.jpg</td>\n",
       "      <td>114.969643</td>\n",
       "      <td>451.686572</td>\n",
       "      <td>114.969643</td>\n",
       "      <td>451.686572</td>\n",
       "      <td>69</td>\n",
       "    </tr>\n",
       "    <tr>\n",
       "      <th>3</th>\n",
       "      <td>imdb/01/nm0000001_rm946909184_1899-5-10_1968.jpg</td>\n",
       "      <td>622.885506</td>\n",
       "      <td>844.339008</td>\n",
       "      <td>424.217504</td>\n",
       "      <td>645.671006</td>\n",
       "      <td>69</td>\n",
       "    </tr>\n",
       "    <tr>\n",
       "      <th>4</th>\n",
       "      <td>imdb/01/nm0000001_rm980463616_1899-5-10_1968.jpg</td>\n",
       "      <td>1013.859002</td>\n",
       "      <td>1201.586128</td>\n",
       "      <td>233.882042</td>\n",
       "      <td>421.609168</td>\n",
       "      <td>69</td>\n",
       "    </tr>\n",
       "  </tbody>\n",
       "</table>\n",
       "</div>"
      ],
      "text/plain": [
       "                                          image_name         xmin  \\\n",
       "0   imdb/01/nm0000001_rm124825600_1899-5-10_1968.jpg  1072.926000   \n",
       "1  imdb/01/nm0000001_rm3343756032_1899-5-10_1970.jpg   477.184000   \n",
       "2   imdb/01/nm0000001_rm577153792_1899-5-10_1968.jpg   114.969643   \n",
       "3   imdb/01/nm0000001_rm946909184_1899-5-10_1968.jpg   622.885506   \n",
       "4   imdb/01/nm0000001_rm980463616_1899-5-10_1968.jpg  1013.859002   \n",
       "\n",
       "          xmax        ymin        ymax  class_id  \n",
       "0  1214.784000  161.838000  303.696000        69  \n",
       "1   622.592000  100.352000  245.760000        71  \n",
       "2   451.686572  114.969643  451.686572        69  \n",
       "3   844.339008  424.217504  645.671006        69  \n",
       "4  1201.586128  233.882042  421.609168        69  "
      ]
     },
     "execution_count": 17,
     "metadata": {},
     "output_type": "execute_result"
    }
   ],
   "source": [
    "df = pd.read_csv('/home/nicoli/github/ssd_keras/dataset/csv/imdb_csv/imdb_'+ attr + '.csv', index_col=0)\n",
    "df.head()"
   ]
  },
  {
   "cell_type": "code",
   "execution_count": 18,
   "metadata": {
    "collapsed": true
   },
   "outputs": [],
   "source": [
    "df[['xmin', 'xmax', 'ymin', 'ymax']] = df[['xmin', 'xmax', 'ymin', 'ymax']].astype(int)"
   ]
  },
  {
   "cell_type": "code",
   "execution_count": 19,
   "metadata": {},
   "outputs": [],
   "source": [
    "qtd = 10000\n",
    "train_split, val_split, test_split = (0.7,0.1,0.2)\n",
    "#classes = [[0,1],[1,0]]\n",
    "target = ['class_id']#['class_id1', 'class_id2']"
   ]
  },
  {
   "cell_type": "code",
   "execution_count": 20,
   "metadata": {
    "collapsed": true
   },
   "outputs": [],
   "source": [
    "train_df, val_df, test_df = set_age_data_splits(df, qtd, train_split, val_split, test_split, target)"
   ]
  },
  {
   "cell_type": "code",
   "execution_count": 21,
   "metadata": {},
   "outputs": [
    {
     "data": {
      "text/html": [
       "<div>\n",
       "<style scoped>\n",
       "    .dataframe tbody tr th:only-of-type {\n",
       "        vertical-align: middle;\n",
       "    }\n",
       "\n",
       "    .dataframe tbody tr th {\n",
       "        vertical-align: top;\n",
       "    }\n",
       "\n",
       "    .dataframe thead th {\n",
       "        text-align: right;\n",
       "    }\n",
       "</style>\n",
       "<table border=\"1\" class=\"dataframe\">\n",
       "  <thead>\n",
       "    <tr style=\"text-align: right;\">\n",
       "      <th></th>\n",
       "      <th>image_name</th>\n",
       "      <th>xmin</th>\n",
       "      <th>xmax</th>\n",
       "      <th>ymin</th>\n",
       "      <th>ymax</th>\n",
       "      <th>class_id</th>\n",
       "    </tr>\n",
       "  </thead>\n",
       "  <tbody>\n",
       "    <tr>\n",
       "      <th>0</th>\n",
       "      <td>imdb/01/nm0000001_rm124825600_1899-5-10_1968.jpg</td>\n",
       "      <td>1072</td>\n",
       "      <td>1214</td>\n",
       "      <td>161</td>\n",
       "      <td>303</td>\n",
       "      <td>69</td>\n",
       "    </tr>\n",
       "    <tr>\n",
       "      <th>1</th>\n",
       "      <td>imdb/01/nm0000001_rm3343756032_1899-5-10_1970.jpg</td>\n",
       "      <td>477</td>\n",
       "      <td>622</td>\n",
       "      <td>100</td>\n",
       "      <td>245</td>\n",
       "      <td>71</td>\n",
       "    </tr>\n",
       "    <tr>\n",
       "      <th>2</th>\n",
       "      <td>imdb/01/nm0000001_rm577153792_1899-5-10_1968.jpg</td>\n",
       "      <td>114</td>\n",
       "      <td>451</td>\n",
       "      <td>114</td>\n",
       "      <td>451</td>\n",
       "      <td>69</td>\n",
       "    </tr>\n",
       "    <tr>\n",
       "      <th>3</th>\n",
       "      <td>imdb/01/nm0000001_rm946909184_1899-5-10_1968.jpg</td>\n",
       "      <td>622</td>\n",
       "      <td>844</td>\n",
       "      <td>424</td>\n",
       "      <td>645</td>\n",
       "      <td>69</td>\n",
       "    </tr>\n",
       "    <tr>\n",
       "      <th>4</th>\n",
       "      <td>imdb/01/nm0000001_rm980463616_1899-5-10_1968.jpg</td>\n",
       "      <td>1013</td>\n",
       "      <td>1201</td>\n",
       "      <td>233</td>\n",
       "      <td>421</td>\n",
       "      <td>69</td>\n",
       "    </tr>\n",
       "  </tbody>\n",
       "</table>\n",
       "</div>"
      ],
      "text/plain": [
       "                                          image_name  xmin  xmax  ymin  ymax  \\\n",
       "0   imdb/01/nm0000001_rm124825600_1899-5-10_1968.jpg  1072  1214   161   303   \n",
       "1  imdb/01/nm0000001_rm3343756032_1899-5-10_1970.jpg   477   622   100   245   \n",
       "2   imdb/01/nm0000001_rm577153792_1899-5-10_1968.jpg   114   451   114   451   \n",
       "3   imdb/01/nm0000001_rm946909184_1899-5-10_1968.jpg   622   844   424   645   \n",
       "4   imdb/01/nm0000001_rm980463616_1899-5-10_1968.jpg  1013  1201   233   421   \n",
       "\n",
       "   class_id  \n",
       "0        69  \n",
       "1        71  \n",
       "2        69  \n",
       "3        69  \n",
       "4        69  "
      ]
     },
     "execution_count": 21,
     "metadata": {},
     "output_type": "execute_result"
    }
   ],
   "source": [
    "train_df.head()"
   ]
  },
  {
   "cell_type": "code",
   "execution_count": 22,
   "metadata": {
    "collapsed": true
   },
   "outputs": [
    {
     "data": {
      "text/html": [
       "<div>\n",
       "<style scoped>\n",
       "    .dataframe tbody tr th:only-of-type {\n",
       "        vertical-align: middle;\n",
       "    }\n",
       "\n",
       "    .dataframe tbody tr th {\n",
       "        vertical-align: top;\n",
       "    }\n",
       "\n",
       "    .dataframe thead th {\n",
       "        text-align: right;\n",
       "    }\n",
       "</style>\n",
       "<table border=\"1\" class=\"dataframe\">\n",
       "  <thead>\n",
       "    <tr style=\"text-align: right;\">\n",
       "      <th></th>\n",
       "      <th>image_name</th>\n",
       "      <th>xmin</th>\n",
       "      <th>xmax</th>\n",
       "      <th>ymin</th>\n",
       "      <th>ymax</th>\n",
       "      <th>class_id</th>\n",
       "    </tr>\n",
       "  </thead>\n",
       "  <tbody>\n",
       "    <tr>\n",
       "      <th>273823</th>\n",
       "      <td>imdb/22/nm0644022_rm1681112320_1962-10-22_2008...</td>\n",
       "      <td>1212</td>\n",
       "      <td>1599</td>\n",
       "      <td>174</td>\n",
       "      <td>562</td>\n",
       "      <td>46</td>\n",
       "    </tr>\n",
       "    <tr>\n",
       "      <th>273824</th>\n",
       "      <td>imdb/22/nm0644022_rm1775819520_1962-10-22_2008...</td>\n",
       "      <td>486</td>\n",
       "      <td>1210</td>\n",
       "      <td>566</td>\n",
       "      <td>1290</td>\n",
       "      <td>46</td>\n",
       "    </tr>\n",
       "    <tr>\n",
       "      <th>273825</th>\n",
       "      <td>imdb/22/nm0644022_rm182897664_1962-10-22_2014.jpg</td>\n",
       "      <td>60</td>\n",
       "      <td>126</td>\n",
       "      <td>23</td>\n",
       "      <td>89</td>\n",
       "      <td>52</td>\n",
       "    </tr>\n",
       "    <tr>\n",
       "      <th>273826</th>\n",
       "      <td>imdb/22/nm0644022_rm1882184960_1962-10-22_2013...</td>\n",
       "      <td>1564</td>\n",
       "      <td>1720</td>\n",
       "      <td>230</td>\n",
       "      <td>386</td>\n",
       "      <td>51</td>\n",
       "    </tr>\n",
       "    <tr>\n",
       "      <th>273827</th>\n",
       "      <td>imdb/22/nm0644022_rm199674880_1962-10-22_2014.jpg</td>\n",
       "      <td>42</td>\n",
       "      <td>104</td>\n",
       "      <td>56</td>\n",
       "      <td>118</td>\n",
       "      <td>52</td>\n",
       "    </tr>\n",
       "  </tbody>\n",
       "</table>\n",
       "</div>"
      ],
      "text/plain": [
       "                                               image_name  xmin  xmax  ymin  \\\n",
       "273823  imdb/22/nm0644022_rm1681112320_1962-10-22_2008...  1212  1599   174   \n",
       "273824  imdb/22/nm0644022_rm1775819520_1962-10-22_2008...   486  1210   566   \n",
       "273825  imdb/22/nm0644022_rm182897664_1962-10-22_2014.jpg    60   126    23   \n",
       "273826  imdb/22/nm0644022_rm1882184960_1962-10-22_2013...  1564  1720   230   \n",
       "273827  imdb/22/nm0644022_rm199674880_1962-10-22_2014.jpg    42   104    56   \n",
       "\n",
       "        ymax  class_id  \n",
       "273823   562        46  \n",
       "273824  1290        46  \n",
       "273825    89        52  \n",
       "273826   386        51  \n",
       "273827   118        52  "
      ]
     },
     "execution_count": 22,
     "metadata": {},
     "output_type": "execute_result"
    }
   ],
   "source": [
    "val_df.head()"
   ]
  },
  {
   "cell_type": "code",
   "execution_count": 23,
   "metadata": {},
   "outputs": [
    {
     "data": {
      "text/html": [
       "<div>\n",
       "<style scoped>\n",
       "    .dataframe tbody tr th:only-of-type {\n",
       "        vertical-align: middle;\n",
       "    }\n",
       "\n",
       "    .dataframe tbody tr th {\n",
       "        vertical-align: top;\n",
       "    }\n",
       "\n",
       "    .dataframe thead th {\n",
       "        text-align: right;\n",
       "    }\n",
       "</style>\n",
       "<table border=\"1\" class=\"dataframe\">\n",
       "  <thead>\n",
       "    <tr style=\"text-align: right;\">\n",
       "      <th></th>\n",
       "      <th>image_name</th>\n",
       "      <th>xmin</th>\n",
       "      <th>xmax</th>\n",
       "      <th>ymin</th>\n",
       "      <th>ymax</th>\n",
       "      <th>class_id</th>\n",
       "    </tr>\n",
       "  </thead>\n",
       "  <tbody>\n",
       "    <tr>\n",
       "      <th>312947</th>\n",
       "      <td>imdb/99/nm0268199_rm2399314688_1976-5-31_2013.jpg</td>\n",
       "      <td>792</td>\n",
       "      <td>948</td>\n",
       "      <td>423</td>\n",
       "      <td>579</td>\n",
       "      <td>37</td>\n",
       "    </tr>\n",
       "    <tr>\n",
       "      <th>312948</th>\n",
       "      <td>imdb/99/nm0268199_rm2401343488_1976-5-31_2002.jpg</td>\n",
       "      <td>208</td>\n",
       "      <td>254</td>\n",
       "      <td>156</td>\n",
       "      <td>202</td>\n",
       "      <td>26</td>\n",
       "    </tr>\n",
       "    <tr>\n",
       "      <th>312949</th>\n",
       "      <td>imdb/99/nm0268199_rm2402719744_1976-5-31_2003.jpg</td>\n",
       "      <td>308</td>\n",
       "      <td>378</td>\n",
       "      <td>55</td>\n",
       "      <td>126</td>\n",
       "      <td>27</td>\n",
       "    </tr>\n",
       "    <tr>\n",
       "      <th>312950</th>\n",
       "      <td>imdb/99/nm0268199_rm2424873728_1976-5-31_2013.jpg</td>\n",
       "      <td>607</td>\n",
       "      <td>799</td>\n",
       "      <td>283</td>\n",
       "      <td>475</td>\n",
       "      <td>37</td>\n",
       "    </tr>\n",
       "    <tr>\n",
       "      <th>312951</th>\n",
       "      <td>imdb/99/nm0268199_rm2458428160_1976-5-31_2013.jpg</td>\n",
       "      <td>1292</td>\n",
       "      <td>1654</td>\n",
       "      <td>244</td>\n",
       "      <td>605</td>\n",
       "      <td>37</td>\n",
       "    </tr>\n",
       "  </tbody>\n",
       "</table>\n",
       "</div>"
      ],
      "text/plain": [
       "                                               image_name  xmin  xmax  ymin  \\\n",
       "312947  imdb/99/nm0268199_rm2399314688_1976-5-31_2013.jpg   792   948   423   \n",
       "312948  imdb/99/nm0268199_rm2401343488_1976-5-31_2002.jpg   208   254   156   \n",
       "312949  imdb/99/nm0268199_rm2402719744_1976-5-31_2003.jpg   308   378    55   \n",
       "312950  imdb/99/nm0268199_rm2424873728_1976-5-31_2013.jpg   607   799   283   \n",
       "312951  imdb/99/nm0268199_rm2458428160_1976-5-31_2013.jpg  1292  1654   244   \n",
       "\n",
       "        ymax  class_id  \n",
       "312947   579        37  \n",
       "312948   202        26  \n",
       "312949   126        27  \n",
       "312950   475        37  \n",
       "312951   605        37  "
      ]
     },
     "execution_count": 23,
     "metadata": {},
     "output_type": "execute_result"
    }
   ],
   "source": [
    "test_df.head()"
   ]
  },
  {
   "cell_type": "code",
   "execution_count": 24,
   "metadata": {},
   "outputs": [
    {
     "data": {
      "text/plain": [
       "'10000-70-10-2000'"
      ]
     },
     "execution_count": 24,
     "metadata": {},
     "output_type": "execute_result"
    }
   ],
   "source": [
    "titulo = str(qtd) + '-' + str(int(100*train_split)) + '-' + str(int(100*val_split)) + '-' + str(int(100*20))\n",
    "titulo"
   ]
  },
  {
   "cell_type": "code",
   "execution_count": 25,
   "metadata": {
    "collapsed": true
   },
   "outputs": [],
   "source": [
    "\n",
    "train_df.to_csv('/home/nicoli/github/ssd_keras/dataset/csv/imdb_csv/imdb_' + attr + '_train_split_' + titulo + '.csv', index=False)\n",
    "val_df.to_csv('/home/nicoli/github/ssd_keras/dataset/csv/imdb_csv/imdb_' + attr + '_val_split_' + titulo + '.csv',index=False)\n",
    "test_df.to_csv('/home/nicoli/github/ssd_keras/dataset/csv/imdb_csv/imdb_' + attr + '_test_split_' + titulo + '.csv',index=False)"
   ]
  },
  {
   "cell_type": "code",
   "execution_count": 26,
   "metadata": {},
   "outputs": [
    {
     "data": {
      "text/plain": [
       "image_name    0\n",
       "xmin          0\n",
       "xmax          0\n",
       "ymin          0\n",
       "ymax          0\n",
       "class_id      0\n",
       "dtype: int64"
      ]
     },
     "execution_count": 26,
     "metadata": {},
     "output_type": "execute_result"
    }
   ],
   "source": [
    "train_df.isnull().sum()"
   ]
  }
 ],
 "metadata": {
  "kernelspec": {
   "display_name": "Python 3",
   "language": "python",
   "name": "python3"
  },
  "language_info": {
   "codemirror_mode": {
    "name": "ipython",
    "version": 3
   },
   "file_extension": ".py",
   "mimetype": "text/x-python",
   "name": "python",
   "nbconvert_exporter": "python",
   "pygments_lexer": "ipython3",
   "version": "3.5.2"
  }
 },
 "nbformat": 4,
 "nbformat_minor": 2
}
