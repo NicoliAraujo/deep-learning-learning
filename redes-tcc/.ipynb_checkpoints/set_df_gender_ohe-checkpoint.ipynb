{
 "cells": [
  {
   "cell_type": "code",
   "execution_count": 15,
   "metadata": {
    "collapsed": true
   },
   "outputs": [],
   "source": [
    "import  pandas as pd\n",
    "from data_generator.dataset_generator import set_labels_for_gender"
   ]
  },
  {
   "cell_type": "code",
   "execution_count": 16,
   "metadata": {
    "collapsed": true
   },
   "outputs": [],
   "source": [
    "df = pd.read_csv('/home/nicoli/github/ssd_keras/dataset/csv/imdb_csv/imdb_clean_50.csv', index_col=0)"
   ]
  },
  {
   "cell_type": "code",
   "execution_count": 17,
   "metadata": {},
   "outputs": [],
   "source": [
    "df_gender = set_labels_for_gender(df, task='classification').sample(frac=1).reset_index(drop=True)"
   ]
  },
  {
   "cell_type": "code",
   "execution_count": 18,
   "metadata": {},
   "outputs": [
    {
     "data": {
      "text/html": [
       "<div>\n",
       "<style scoped>\n",
       "    .dataframe tbody tr th:only-of-type {\n",
       "        vertical-align: middle;\n",
       "    }\n",
       "\n",
       "    .dataframe tbody tr th {\n",
       "        vertical-align: top;\n",
       "    }\n",
       "\n",
       "    .dataframe thead th {\n",
       "        text-align: right;\n",
       "    }\n",
       "</style>\n",
       "<table border=\"1\" class=\"dataframe\">\n",
       "  <thead>\n",
       "    <tr style=\"text-align: right;\">\n",
       "      <th></th>\n",
       "      <th>image_name</th>\n",
       "      <th>class_id</th>\n",
       "    </tr>\n",
       "  </thead>\n",
       "  <tbody>\n",
       "    <tr>\n",
       "      <th>0</th>\n",
       "      <td>imdb/33/nm2079733_rm2734925824_1983-12-2_2009.jpg</td>\n",
       "      <td>0.0</td>\n",
       "    </tr>\n",
       "    <tr>\n",
       "      <th>1</th>\n",
       "      <td>imdb/34/nm0000134_rm974818816_1943-8-17_1984.jpg</td>\n",
       "      <td>1.0</td>\n",
       "    </tr>\n",
       "    <tr>\n",
       "      <th>2</th>\n",
       "      <td>imdb/96/nm0015196_rm2242820608_1978-5-12_2010.jpg</td>\n",
       "      <td>0.0</td>\n",
       "    </tr>\n",
       "    <tr>\n",
       "      <th>3</th>\n",
       "      <td>imdb/04/nm0278304_rm2797700864_1979-8-22_2010.jpg</td>\n",
       "      <td>0.0</td>\n",
       "    </tr>\n",
       "    <tr>\n",
       "      <th>4</th>\n",
       "      <td>imdb/43/nm2017943_rm2779224064_1982-4-5_2007.jpg</td>\n",
       "      <td>0.0</td>\n",
       "    </tr>\n",
       "  </tbody>\n",
       "</table>\n",
       "</div>"
      ],
      "text/plain": [
       "                                          image_name  class_id\n",
       "0  imdb/33/nm2079733_rm2734925824_1983-12-2_2009.jpg       0.0\n",
       "1   imdb/34/nm0000134_rm974818816_1943-8-17_1984.jpg       1.0\n",
       "2  imdb/96/nm0015196_rm2242820608_1978-5-12_2010.jpg       0.0\n",
       "3  imdb/04/nm0278304_rm2797700864_1979-8-22_2010.jpg       0.0\n",
       "4   imdb/43/nm2017943_rm2779224064_1982-4-5_2007.jpg       0.0"
      ]
     },
     "execution_count": 18,
     "metadata": {},
     "output_type": "execute_result"
    }
   ],
   "source": [
    "df_gender.head()"
   ]
  },
  {
   "cell_type": "code",
   "execution_count": 19,
   "metadata": {
    "collapsed": true
   },
   "outputs": [],
   "source": [
    "df_gender['class_id']+=1"
   ]
  },
  {
   "cell_type": "code",
   "execution_count": 20,
   "metadata": {
    "collapsed": true
   },
   "outputs": [],
   "source": [
    "from sklearn.preprocessing import OneHotEncoder"
   ]
  },
  {
   "cell_type": "code",
   "execution_count": 21,
   "metadata": {
    "collapsed": true
   },
   "outputs": [],
   "source": [
    "onehot_encoder = OneHotEncoder(sparse=False)\n",
    "onehot_encoded = onehot_encoder.fit_transform(df_gender['class_id'].values.reshape(-1,1))"
   ]
  },
  {
   "cell_type": "code",
   "execution_count": 22,
   "metadata": {},
   "outputs": [
    {
     "data": {
      "text/plain": [
       "(452132, 2)"
      ]
     },
     "execution_count": 22,
     "metadata": {},
     "output_type": "execute_result"
    }
   ],
   "source": [
    "onehot_encoded.shape"
   ]
  },
  {
   "cell_type": "code",
   "execution_count": 23,
   "metadata": {
    "collapsed": true
   },
   "outputs": [],
   "source": [
    "df_gender['class_id1'] = 0\n",
    "df_gender['class_id1'] = onehot_encoded.T[0].astype(int)\n",
    "df_gender['class_id2'] = 0\n",
    "df_gender['class_id2'] = onehot_encoded.T[1].astype(int)"
   ]
  },
  {
   "cell_type": "code",
   "execution_count": 24,
   "metadata": {},
   "outputs": [
    {
     "data": {
      "text/html": [
       "<div>\n",
       "<style scoped>\n",
       "    .dataframe tbody tr th:only-of-type {\n",
       "        vertical-align: middle;\n",
       "    }\n",
       "\n",
       "    .dataframe tbody tr th {\n",
       "        vertical-align: top;\n",
       "    }\n",
       "\n",
       "    .dataframe thead th {\n",
       "        text-align: right;\n",
       "    }\n",
       "</style>\n",
       "<table border=\"1\" class=\"dataframe\">\n",
       "  <thead>\n",
       "    <tr style=\"text-align: right;\">\n",
       "      <th></th>\n",
       "      <th>image_name</th>\n",
       "      <th>class_id1</th>\n",
       "      <th>class_id2</th>\n",
       "    </tr>\n",
       "  </thead>\n",
       "  <tbody>\n",
       "    <tr>\n",
       "      <th>130154</th>\n",
       "      <td>imdb/22/nm0202322_rm928684544_1979-12-26_2002.jpg</td>\n",
       "      <td>0</td>\n",
       "      <td>1</td>\n",
       "    </tr>\n",
       "    <tr>\n",
       "      <th>375204</th>\n",
       "      <td>imdb/25/nm0000625_rm2722208000_1976-7-9_1988.jpg</td>\n",
       "      <td>0</td>\n",
       "      <td>1</td>\n",
       "    </tr>\n",
       "    <tr>\n",
       "      <th>343789</th>\n",
       "      <td>imdb/34/nm0647634_rm4014661120_1989-2-16_2013.jpg</td>\n",
       "      <td>1</td>\n",
       "      <td>0</td>\n",
       "    </tr>\n",
       "    <tr>\n",
       "      <th>63318</th>\n",
       "      <td>imdb/01/nm0000401_rm2186381824_1961-7-30_2000.jpg</td>\n",
       "      <td>0</td>\n",
       "      <td>1</td>\n",
       "    </tr>\n",
       "    <tr>\n",
       "      <th>66655</th>\n",
       "      <td>imdb/17/nm0005517_rm3383801344_1972-10-29_2012...</td>\n",
       "      <td>1</td>\n",
       "      <td>0</td>\n",
       "    </tr>\n",
       "    <tr>\n",
       "      <th>67575</th>\n",
       "      <td>imdb/92/nm0001392_rm1489476352_1961-10-31_2001...</td>\n",
       "      <td>0</td>\n",
       "      <td>1</td>\n",
       "    </tr>\n",
       "    <tr>\n",
       "      <th>219651</th>\n",
       "      <td>imdb/72/nm1194672_rm1499568896_1981-9-9_2005.jpg</td>\n",
       "      <td>1</td>\n",
       "      <td>0</td>\n",
       "    </tr>\n",
       "    <tr>\n",
       "      <th>343062</th>\n",
       "      <td>imdb/42/nm0004742_rm813872384_1967-4-18_2012.jpg</td>\n",
       "      <td>1</td>\n",
       "      <td>0</td>\n",
       "    </tr>\n",
       "    <tr>\n",
       "      <th>100105</th>\n",
       "      <td>imdb/22/nm1396022_rm2968564224_1979-6-7_2008.jpg</td>\n",
       "      <td>1</td>\n",
       "      <td>0</td>\n",
       "    </tr>\n",
       "    <tr>\n",
       "      <th>160132</th>\n",
       "      <td>imdb/29/nm0000129_rm2636680192_1962-7-3_2005.jpg</td>\n",
       "      <td>0</td>\n",
       "      <td>1</td>\n",
       "    </tr>\n",
       "  </tbody>\n",
       "</table>\n",
       "</div>"
      ],
      "text/plain": [
       "                                               image_name  class_id1  \\\n",
       "130154  imdb/22/nm0202322_rm928684544_1979-12-26_2002.jpg          0   \n",
       "375204   imdb/25/nm0000625_rm2722208000_1976-7-9_1988.jpg          0   \n",
       "343789  imdb/34/nm0647634_rm4014661120_1989-2-16_2013.jpg          1   \n",
       "63318   imdb/01/nm0000401_rm2186381824_1961-7-30_2000.jpg          0   \n",
       "66655   imdb/17/nm0005517_rm3383801344_1972-10-29_2012...          1   \n",
       "67575   imdb/92/nm0001392_rm1489476352_1961-10-31_2001...          0   \n",
       "219651   imdb/72/nm1194672_rm1499568896_1981-9-9_2005.jpg          1   \n",
       "343062   imdb/42/nm0004742_rm813872384_1967-4-18_2012.jpg          1   \n",
       "100105   imdb/22/nm1396022_rm2968564224_1979-6-7_2008.jpg          1   \n",
       "160132   imdb/29/nm0000129_rm2636680192_1962-7-3_2005.jpg          0   \n",
       "\n",
       "        class_id2  \n",
       "130154          1  \n",
       "375204          1  \n",
       "343789          0  \n",
       "63318           1  \n",
       "66655           0  \n",
       "67575           1  \n",
       "219651          0  \n",
       "343062          0  \n",
       "100105          0  \n",
       "160132          1  "
      ]
     },
     "execution_count": 24,
     "metadata": {},
     "output_type": "execute_result"
    }
   ],
   "source": [
    "df_gender.drop('class_id', axis=1, inplace=True)\n",
    "df_gender.sample(10)"
   ]
  },
  {
   "cell_type": "code",
   "execution_count": 25,
   "metadata": {
    "collapsed": true
   },
   "outputs": [],
   "source": [
    "df_gender.to_csv('/home/nicoli/github/ssd_keras/dataset/csv/imdb_csv/imdb_gender_classification.csv')"
   ]
  },
  {
   "cell_type": "code",
   "execution_count": null,
   "metadata": {
    "collapsed": true
   },
   "outputs": [],
   "source": []
  }
 ],
 "metadata": {
  "kernelspec": {
   "display_name": "Python 3",
   "language": "python",
   "name": "python3"
  },
  "language_info": {
   "codemirror_mode": {
    "name": "ipython",
    "version": 3
   },
   "file_extension": ".py",
   "mimetype": "text/x-python",
   "name": "python",
   "nbconvert_exporter": "python",
   "pygments_lexer": "ipython3",
   "version": "3.5.2"
  }
 },
 "nbformat": 4,
 "nbformat_minor": 2
}
