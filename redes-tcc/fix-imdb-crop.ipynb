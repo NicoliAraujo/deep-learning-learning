{
 "cells": [
  {
   "cell_type": "code",
   "execution_count": 29,
   "metadata": {
    "collapsed": true
   },
   "outputs": [],
   "source": [
    "import pandas as pd\n",
    "import imageio\n",
    "from shutil import copyfile"
   ]
  },
  {
   "cell_type": "code",
   "execution_count": 30,
   "metadata": {
    "collapsed": true
   },
   "outputs": [],
   "source": [
    "df = pd.read_csv('dataset/csv/imdb_csv/imdb_age_regression.csv', index_col=0)"
   ]
  },
  {
   "cell_type": "code",
   "execution_count": 31,
   "metadata": {},
   "outputs": [
    {
     "data": {
      "text/html": [
       "<div>\n",
       "<style scoped>\n",
       "    .dataframe tbody tr th:only-of-type {\n",
       "        vertical-align: middle;\n",
       "    }\n",
       "\n",
       "    .dataframe tbody tr th {\n",
       "        vertical-align: top;\n",
       "    }\n",
       "\n",
       "    .dataframe thead th {\n",
       "        text-align: right;\n",
       "    }\n",
       "</style>\n",
       "<table border=\"1\" class=\"dataframe\">\n",
       "  <thead>\n",
       "    <tr style=\"text-align: right;\">\n",
       "      <th></th>\n",
       "      <th>image_name</th>\n",
       "      <th>class_id</th>\n",
       "    </tr>\n",
       "  </thead>\n",
       "  <tbody>\n",
       "    <tr>\n",
       "      <th>0</th>\n",
       "      <td>imdb/79/nm0000379_rm537499648_1982-4-30_2006.jpg</td>\n",
       "      <td>24</td>\n",
       "    </tr>\n",
       "    <tr>\n",
       "      <th>1</th>\n",
       "      <td>imdb/50/nm0001650_rm281973760_1970-3-20_2005.jpg</td>\n",
       "      <td>35</td>\n",
       "    </tr>\n",
       "    <tr>\n",
       "      <th>2</th>\n",
       "      <td>imdb/38/nm0001638_rm3096615168_1941-6-10_1999.jpg</td>\n",
       "      <td>58</td>\n",
       "    </tr>\n",
       "  </tbody>\n",
       "</table>\n",
       "</div>"
      ],
      "text/plain": [
       "                                          image_name  class_id\n",
       "0   imdb/79/nm0000379_rm537499648_1982-4-30_2006.jpg        24\n",
       "1   imdb/50/nm0001650_rm281973760_1970-3-20_2005.jpg        35\n",
       "2  imdb/38/nm0001638_rm3096615168_1941-6-10_1999.jpg        58"
      ]
     },
     "execution_count": 31,
     "metadata": {},
     "output_type": "execute_result"
    }
   ],
   "source": [
    "df.head(3)"
   ]
  },
  {
   "cell_type": "code",
   "execution_count": 32,
   "metadata": {},
   "outputs": [
    {
     "data": {
      "text/plain": [
       "'imdb/79/nm0000379_rm537499648_1982-4-30_2006.jpg'"
      ]
     },
     "execution_count": 32,
     "metadata": {},
     "output_type": "execute_result"
    }
   ],
   "source": [
    "df.loc[0, 'image_name']"
   ]
  },
  {
   "cell_type": "code",
   "execution_count": 33,
   "metadata": {
    "collapsed": true
   },
   "outputs": [],
   "source": [
    "def tryGetImage(filename):\n",
    "    #filename = df_item.image_name\n",
    "    try:\n",
    "        imageio.imread('dataset/imdb-hand-crop/'+ filename)\n",
    "        #print('ok')\n",
    "    except:\n",
    "        copyfile('dataset/' + filename, 'dataset/imdb-hand-crop-erro/' + filename)\n",
    "        print(filename)"
   ]
  },
  {
   "cell_type": "code",
   "execution_count": 43,
   "metadata": {},
   "outputs": [
    {
     "name": "stderr",
     "output_type": "stream",
     "text": [
      "/usr/lib/python3/dist-packages/PIL/TiffImagePlugin.py:694: UserWarning: Corrupt EXIF data.  Expecting to read 12 bytes but only got 4. \n",
      "  warnings.warn(str(msg))\n",
      "/usr/lib/python3/dist-packages/PIL/TiffImagePlugin.py:694: UserWarning: Corrupt EXIF data.  Expecting to read 2 bytes but only got 0. \n",
      "  warnings.warn(str(msg))\n",
      "/usr/lib/python3/dist-packages/PIL/TiffImagePlugin.py:680: UserWarning: Possibly corrupt EXIF data.  Expecting to read 19660800 bytes but only got 0. Skipping tag 0\n",
      "  \"Skipping tag %s\" % (size, len(data), tag))\n",
      "/usr/lib/python3/dist-packages/PIL/TiffImagePlugin.py:680: UserWarning: Possibly corrupt EXIF data.  Expecting to read 4000000 bytes but only got 0. Skipping tag 50856\n",
      "  \"Skipping tag %s\" % (size, len(data), tag))\n",
      "/usr/lib/python3/dist-packages/PIL/TiffImagePlugin.py:680: UserWarning: Possibly corrupt EXIF data.  Expecting to read 8000000 bytes but only got 0. Skipping tag 2320\n",
      "  \"Skipping tag %s\" % (size, len(data), tag))\n",
      "/usr/lib/python3/dist-packages/PIL/TiffImagePlugin.py:680: UserWarning: Possibly corrupt EXIF data.  Expecting to read 1000000 bytes but only got 0. Skipping tag 18928\n",
      "  \"Skipping tag %s\" % (size, len(data), tag))\n",
      "/usr/lib/python3/dist-packages/PIL/TiffImagePlugin.py:680: UserWarning: Possibly corrupt EXIF data.  Expecting to read 2000000 bytes but only got 0. Skipping tag 62712\n",
      "  \"Skipping tag %s\" % (size, len(data), tag))\n",
      "/usr/lib/python3/dist-packages/PIL/TiffImagePlugin.py:680: UserWarning: Possibly corrupt EXIF data.  Expecting to read 27262976 bytes but only got 0. Skipping tag 2\n",
      "  \"Skipping tag %s\" % (size, len(data), tag))\n",
      "/usr/lib/python3/dist-packages/PIL/TiffImagePlugin.py:680: UserWarning: Possibly corrupt EXIF data.  Expecting to read 65536 bytes but only got 0. Skipping tag 3\n",
      "  \"Skipping tag %s\" % (size, len(data), tag))\n",
      "/usr/lib/python3/dist-packages/PIL/TiffImagePlugin.py:680: UserWarning: Possibly corrupt EXIF data.  Expecting to read 524288 bytes but only got 0. Skipping tag 5\n",
      "  \"Skipping tag %s\" % (size, len(data), tag))\n",
      "/usr/lib/python3/dist-packages/PIL/TiffImagePlugin.py:680: UserWarning: Possibly corrupt EXIF data.  Expecting to read 1048576 bytes but only got 0. Skipping tag 5\n",
      "  \"Skipping tag %s\" % (size, len(data), tag))\n",
      "/usr/lib/python3/dist-packages/PIL/TiffImagePlugin.py:680: UserWarning: Possibly corrupt EXIF data.  Expecting to read 131072 bytes but only got 0. Skipping tag 3\n",
      "  \"Skipping tag %s\" % (size, len(data), tag))\n",
      "/usr/lib/python3/dist-packages/PIL/TiffImagePlugin.py:680: UserWarning: Possibly corrupt EXIF data.  Expecting to read 12582912 bytes but only got 0. Skipping tag 2\n",
      "  \"Skipping tag %s\" % (size, len(data), tag))\n",
      "/usr/lib/python3/dist-packages/PIL/TiffImagePlugin.py:680: UserWarning: Possibly corrupt EXIF data.  Expecting to read 5373952 bytes but only got 0. Skipping tag 5\n",
      "  \"Skipping tag %s\" % (size, len(data), tag))\n",
      "/usr/lib/python3/dist-packages/PIL/TiffImagePlugin.py:680: UserWarning: Possibly corrupt EXIF data.  Expecting to read 6422528 bytes but only got 0. Skipping tag 5\n",
      "  \"Skipping tag %s\" % (size, len(data), tag))\n",
      "/usr/lib/python3/dist-packages/PIL/TiffImagePlugin.py:680: UserWarning: Possibly corrupt EXIF data.  Expecting to read 19136512 bytes but only got 0. Skipping tag 5\n",
      "  \"Skipping tag %s\" % (size, len(data), tag))\n",
      "/usr/lib/python3/dist-packages/PIL/TiffImagePlugin.py:680: UserWarning: Possibly corrupt EXIF data.  Expecting to read 11141120 bytes but only got 0. Skipping tag 5\n",
      "  \"Skipping tag %s\" % (size, len(data), tag))\n",
      "/usr/lib/python3/dist-packages/PIL/TiffImagePlugin.py:680: UserWarning: Possibly corrupt EXIF data.  Expecting to read 28049408 bytes but only got 1020. Skipping tag 4\n",
      "  \"Skipping tag %s\" % (size, len(data), tag))\n",
      "/usr/lib/python3/dist-packages/PIL/TiffImagePlugin.py:694: UserWarning: Corrupt EXIF data.  Expecting to read 12 bytes but only got 2. \n",
      "  warnings.warn(str(msg))\n"
     ]
    },
    {
     "name": "stdout",
     "output_type": "stream",
     "text": [
      "imdb/74/nm0004874_rm1546685952_1967-7-18_1998.jpg\n"
     ]
    },
    {
     "name": "stderr",
     "output_type": "stream",
     "text": [
      "/usr/lib/python3/dist-packages/PIL/TiffImagePlugin.py:680: UserWarning: Possibly corrupt EXIF data.  Expecting to read 20 bytes but only got 0. Skipping tag 306\n",
      "  \"Skipping tag %s\" % (size, len(data), tag))\n",
      "/usr/lib/python3/dist-packages/PIL/TiffImagePlugin.py:680: UserWarning: Possibly corrupt EXIF data.  Expecting to read 10 bytes but only got 0. Skipping tag 272\n",
      "  \"Skipping tag %s\" % (size, len(data), tag))\n",
      "/usr/lib/python3/dist-packages/PIL/TiffImagePlugin.py:680: UserWarning: Possibly corrupt EXIF data.  Expecting to read 4718592 bytes but only got 0. Skipping tag 0\n",
      "  \"Skipping tag %s\" % (size, len(data), tag))\n",
      "/usr/lib/python3/dist-packages/PIL/TiffImagePlugin.py:680: UserWarning: Possibly corrupt EXIF data.  Expecting to read 1703936 bytes but only got 0. Skipping tag 2\n",
      "  \"Skipping tag %s\" % (size, len(data), tag))\n",
      "/usr/lib/python3/dist-packages/PIL/TiffImagePlugin.py:680: UserWarning: Possibly corrupt EXIF data.  Expecting to read 1572864 bytes but only got 0. Skipping tag 2\n",
      "  \"Skipping tag %s\" % (size, len(data), tag))\n",
      "/usr/lib/python3/dist-packages/PIL/TiffImagePlugin.py:680: UserWarning: Possibly corrupt EXIF data.  Expecting to read 4784128 bytes but only got 0. Skipping tag 5\n",
      "  \"Skipping tag %s\" % (size, len(data), tag))\n"
     ]
    },
    {
     "name": "stdout",
     "output_type": "stream",
     "text": [
      "imdb/58/nm0000158_rm2804977152_1956-7-9_1998.jpg\n"
     ]
    },
    {
     "name": "stderr",
     "output_type": "stream",
     "text": [
      "/usr/lib/python3/dist-packages/PIL/TiffImagePlugin.py:694: UserWarning: Corrupt EXIF data.  Expecting to read 4 bytes but only got 0. \n",
      "  warnings.warn(str(msg))\n"
     ]
    },
    {
     "name": "stdout",
     "output_type": "stream",
     "text": [
      "imdb/65/nm0004965_rm1429245440_1970-10-25_1998.jpg\n",
      "imdb/82/nm5266282_rm1058074880_1972-5-13_2015.jpg\n",
      "imdb/25/nm0000125_rm1268108800_1930-8-25_1989.jpg\n"
     ]
    },
    {
     "name": "stderr",
     "output_type": "stream",
     "text": [
      "/usr/lib/python3/dist-packages/PIL/TiffImagePlugin.py:694: UserWarning: Corrupt EXIF data.  Expecting to read 12 bytes but only got 0. \n",
      "  warnings.warn(str(msg))\n"
     ]
    },
    {
     "name": "stdout",
     "output_type": "stream",
     "text": [
      "imdb/43/nm0341743_rm1737805312_1947-7-31_1987.jpg\n",
      "imdb/29/nm0000229_rm1479577088_1946-12-18_1998.jpg\n",
      "imdb/24/nm0001524_rm1888800256_1959-11-14_1987.jpg\n"
     ]
    },
    {
     "name": "stderr",
     "output_type": "stream",
     "text": [
      "/usr/lib/python3/dist-packages/PIL/TiffImagePlugin.py:680: UserWarning: Possibly corrupt EXIF data.  Expecting to read 128 bytes but only got 0. Skipping tag 33723\n",
      "  \"Skipping tag %s\" % (size, len(data), tag))\n"
     ]
    },
    {
     "name": "stdout",
     "output_type": "stream",
     "text": [
      "imdb/69/nm0001169_rm1117244928_1945-7-19_1990.jpg\n",
      "imdb/11/nm0001111_rm1513131520_1969-10-8_1998.jpg\n",
      "imdb/10/nm0000610_rm1580240384_1974-12-17_1998.jpg\n",
      "imdb/54/nm0000354_rm3039858176_1970-10-8_1998.jpg\n",
      "imdb/74/nm0004874_rm1546685952_1967-7-18_1998.jpg\n",
      "imdb/58/nm0000158_rm2804977152_1956-7-9_1998.jpg\n",
      "imdb/65/nm0004965_rm1429245440_1970-10-25_1998.jpg\n",
      "imdb/82/nm5266282_rm1058074880_1972-5-13_2015.jpg\n",
      "imdb/25/nm0000125_rm1268108800_1930-8-25_1989.jpg\n",
      "imdb/43/nm0341743_rm1737805312_1947-7-31_1987.jpg\n",
      "imdb/29/nm0000229_rm1479577088_1946-12-18_1998.jpg\n",
      "imdb/24/nm0001524_rm1888800256_1959-11-14_1987.jpg\n",
      "imdb/69/nm0001169_rm1117244928_1945-7-19_1990.jpg\n",
      "imdb/11/nm0001111_rm1513131520_1969-10-8_1998.jpg\n",
      "imdb/10/nm0000610_rm1580240384_1974-12-17_1998.jpg\n",
      "imdb/54/nm0000354_rm3039858176_1970-10-8_1998.jpg\n"
     ]
    },
    {
     "data": {
      "text/html": [
       "<div>\n",
       "<style scoped>\n",
       "    .dataframe tbody tr th:only-of-type {\n",
       "        vertical-align: middle;\n",
       "    }\n",
       "\n",
       "    .dataframe tbody tr th {\n",
       "        vertical-align: top;\n",
       "    }\n",
       "\n",
       "    .dataframe thead th {\n",
       "        text-align: right;\n",
       "    }\n",
       "</style>\n",
       "<table border=\"1\" class=\"dataframe\">\n",
       "  <thead>\n",
       "    <tr style=\"text-align: right;\">\n",
       "      <th></th>\n",
       "      <th>image_name</th>\n",
       "    </tr>\n",
       "  </thead>\n",
       "  <tbody>\n",
       "    <tr>\n",
       "      <th>0</th>\n",
       "      <td>None</td>\n",
       "    </tr>\n",
       "    <tr>\n",
       "      <th>1</th>\n",
       "      <td>None</td>\n",
       "    </tr>\n",
       "    <tr>\n",
       "      <th>2</th>\n",
       "      <td>None</td>\n",
       "    </tr>\n",
       "    <tr>\n",
       "      <th>3</th>\n",
       "      <td>None</td>\n",
       "    </tr>\n",
       "    <tr>\n",
       "      <th>4</th>\n",
       "      <td>None</td>\n",
       "    </tr>\n",
       "    <tr>\n",
       "      <th>5</th>\n",
       "      <td>None</td>\n",
       "    </tr>\n",
       "    <tr>\n",
       "      <th>6</th>\n",
       "      <td>None</td>\n",
       "    </tr>\n",
       "    <tr>\n",
       "      <th>7</th>\n",
       "      <td>None</td>\n",
       "    </tr>\n",
       "    <tr>\n",
       "      <th>8</th>\n",
       "      <td>None</td>\n",
       "    </tr>\n",
       "    <tr>\n",
       "      <th>9</th>\n",
       "      <td>None</td>\n",
       "    </tr>\n",
       "    <tr>\n",
       "      <th>10</th>\n",
       "      <td>None</td>\n",
       "    </tr>\n",
       "    <tr>\n",
       "      <th>11</th>\n",
       "      <td>None</td>\n",
       "    </tr>\n",
       "    <tr>\n",
       "      <th>12</th>\n",
       "      <td>None</td>\n",
       "    </tr>\n",
       "    <tr>\n",
       "      <th>13</th>\n",
       "      <td>None</td>\n",
       "    </tr>\n",
       "    <tr>\n",
       "      <th>14</th>\n",
       "      <td>None</td>\n",
       "    </tr>\n",
       "    <tr>\n",
       "      <th>15</th>\n",
       "      <td>None</td>\n",
       "    </tr>\n",
       "    <tr>\n",
       "      <th>16</th>\n",
       "      <td>None</td>\n",
       "    </tr>\n",
       "    <tr>\n",
       "      <th>17</th>\n",
       "      <td>None</td>\n",
       "    </tr>\n",
       "    <tr>\n",
       "      <th>18</th>\n",
       "      <td>None</td>\n",
       "    </tr>\n",
       "    <tr>\n",
       "      <th>19</th>\n",
       "      <td>None</td>\n",
       "    </tr>\n",
       "    <tr>\n",
       "      <th>20</th>\n",
       "      <td>None</td>\n",
       "    </tr>\n",
       "    <tr>\n",
       "      <th>21</th>\n",
       "      <td>None</td>\n",
       "    </tr>\n",
       "    <tr>\n",
       "      <th>22</th>\n",
       "      <td>None</td>\n",
       "    </tr>\n",
       "    <tr>\n",
       "      <th>23</th>\n",
       "      <td>None</td>\n",
       "    </tr>\n",
       "    <tr>\n",
       "      <th>24</th>\n",
       "      <td>None</td>\n",
       "    </tr>\n",
       "    <tr>\n",
       "      <th>25</th>\n",
       "      <td>None</td>\n",
       "    </tr>\n",
       "    <tr>\n",
       "      <th>26</th>\n",
       "      <td>None</td>\n",
       "    </tr>\n",
       "    <tr>\n",
       "      <th>27</th>\n",
       "      <td>None</td>\n",
       "    </tr>\n",
       "    <tr>\n",
       "      <th>28</th>\n",
       "      <td>None</td>\n",
       "    </tr>\n",
       "    <tr>\n",
       "      <th>29</th>\n",
       "      <td>None</td>\n",
       "    </tr>\n",
       "    <tr>\n",
       "      <th>...</th>\n",
       "      <td>...</td>\n",
       "    </tr>\n",
       "    <tr>\n",
       "      <th>47920</th>\n",
       "      <td>None</td>\n",
       "    </tr>\n",
       "    <tr>\n",
       "      <th>47921</th>\n",
       "      <td>None</td>\n",
       "    </tr>\n",
       "    <tr>\n",
       "      <th>47922</th>\n",
       "      <td>None</td>\n",
       "    </tr>\n",
       "    <tr>\n",
       "      <th>47923</th>\n",
       "      <td>None</td>\n",
       "    </tr>\n",
       "    <tr>\n",
       "      <th>47924</th>\n",
       "      <td>None</td>\n",
       "    </tr>\n",
       "    <tr>\n",
       "      <th>47925</th>\n",
       "      <td>None</td>\n",
       "    </tr>\n",
       "    <tr>\n",
       "      <th>47926</th>\n",
       "      <td>None</td>\n",
       "    </tr>\n",
       "    <tr>\n",
       "      <th>47927</th>\n",
       "      <td>None</td>\n",
       "    </tr>\n",
       "    <tr>\n",
       "      <th>47928</th>\n",
       "      <td>None</td>\n",
       "    </tr>\n",
       "    <tr>\n",
       "      <th>47929</th>\n",
       "      <td>None</td>\n",
       "    </tr>\n",
       "    <tr>\n",
       "      <th>47930</th>\n",
       "      <td>None</td>\n",
       "    </tr>\n",
       "    <tr>\n",
       "      <th>47931</th>\n",
       "      <td>None</td>\n",
       "    </tr>\n",
       "    <tr>\n",
       "      <th>47932</th>\n",
       "      <td>None</td>\n",
       "    </tr>\n",
       "    <tr>\n",
       "      <th>47933</th>\n",
       "      <td>None</td>\n",
       "    </tr>\n",
       "    <tr>\n",
       "      <th>47934</th>\n",
       "      <td>None</td>\n",
       "    </tr>\n",
       "    <tr>\n",
       "      <th>47935</th>\n",
       "      <td>None</td>\n",
       "    </tr>\n",
       "    <tr>\n",
       "      <th>47936</th>\n",
       "      <td>None</td>\n",
       "    </tr>\n",
       "    <tr>\n",
       "      <th>47937</th>\n",
       "      <td>None</td>\n",
       "    </tr>\n",
       "    <tr>\n",
       "      <th>47938</th>\n",
       "      <td>None</td>\n",
       "    </tr>\n",
       "    <tr>\n",
       "      <th>47939</th>\n",
       "      <td>None</td>\n",
       "    </tr>\n",
       "    <tr>\n",
       "      <th>47940</th>\n",
       "      <td>None</td>\n",
       "    </tr>\n",
       "    <tr>\n",
       "      <th>47941</th>\n",
       "      <td>None</td>\n",
       "    </tr>\n",
       "    <tr>\n",
       "      <th>47942</th>\n",
       "      <td>None</td>\n",
       "    </tr>\n",
       "    <tr>\n",
       "      <th>47943</th>\n",
       "      <td>None</td>\n",
       "    </tr>\n",
       "    <tr>\n",
       "      <th>47944</th>\n",
       "      <td>None</td>\n",
       "    </tr>\n",
       "    <tr>\n",
       "      <th>47945</th>\n",
       "      <td>None</td>\n",
       "    </tr>\n",
       "    <tr>\n",
       "      <th>47946</th>\n",
       "      <td>None</td>\n",
       "    </tr>\n",
       "    <tr>\n",
       "      <th>47947</th>\n",
       "      <td>None</td>\n",
       "    </tr>\n",
       "    <tr>\n",
       "      <th>47948</th>\n",
       "      <td>None</td>\n",
       "    </tr>\n",
       "    <tr>\n",
       "      <th>47949</th>\n",
       "      <td>None</td>\n",
       "    </tr>\n",
       "  </tbody>\n",
       "</table>\n",
       "<p>47950 rows × 1 columns</p>\n",
       "</div>"
      ],
      "text/plain": [
       "      image_name\n",
       "0           None\n",
       "1           None\n",
       "2           None\n",
       "3           None\n",
       "4           None\n",
       "5           None\n",
       "6           None\n",
       "7           None\n",
       "8           None\n",
       "9           None\n",
       "10          None\n",
       "11          None\n",
       "12          None\n",
       "13          None\n",
       "14          None\n",
       "15          None\n",
       "16          None\n",
       "17          None\n",
       "18          None\n",
       "19          None\n",
       "20          None\n",
       "21          None\n",
       "22          None\n",
       "23          None\n",
       "24          None\n",
       "25          None\n",
       "26          None\n",
       "27          None\n",
       "28          None\n",
       "29          None\n",
       "...          ...\n",
       "47920       None\n",
       "47921       None\n",
       "47922       None\n",
       "47923       None\n",
       "47924       None\n",
       "47925       None\n",
       "47926       None\n",
       "47927       None\n",
       "47928       None\n",
       "47929       None\n",
       "47930       None\n",
       "47931       None\n",
       "47932       None\n",
       "47933       None\n",
       "47934       None\n",
       "47935       None\n",
       "47936       None\n",
       "47937       None\n",
       "47938       None\n",
       "47939       None\n",
       "47940       None\n",
       "47941       None\n",
       "47942       None\n",
       "47943       None\n",
       "47944       None\n",
       "47945       None\n",
       "47946       None\n",
       "47947       None\n",
       "47948       None\n",
       "47949       None\n",
       "\n",
       "[47950 rows x 1 columns]"
      ]
     },
     "execution_count": 43,
     "metadata": {},
     "output_type": "execute_result"
    }
   ],
   "source": [
    "pd.DataFrame(df['image_name']).applymap(tryGetImage)"
   ]
  },
  {
   "cell_type": "code",
   "execution_count": null,
   "metadata": {
    "collapsed": true
   },
   "outputs": [],
   "source": []
  },
  {
   "cell_type": "code",
   "execution_count": 1,
   "metadata": {
    "collapsed": true
   },
   "outputs": [],
   "source": [
    "import os"
   ]
  },
  {
   "cell_type": "code",
   "execution_count": 3,
   "metadata": {
    "collapsed": true
   },
   "outputs": [],
   "source": [
    "os.makedirs('dataset/imdb-hand-crop-erro/imdb')"
   ]
  },
  {
   "cell_type": "code",
   "execution_count": 21,
   "metadata": {
    "collapsed": true
   },
   "outputs": [],
   "source": [
    "lista = [str(i) for i in range(10, 100)]"
   ]
  },
  {
   "cell_type": "code",
   "execution_count": 22,
   "metadata": {
    "collapsed": true
   },
   "outputs": [],
   "source": [
    "for i in range(0,10):\n",
    "    lista.append('0' + str(i))"
   ]
  },
  {
   "cell_type": "code",
   "execution_count": 23,
   "metadata": {},
   "outputs": [
    {
     "data": {
      "text/plain": [
       "100"
      ]
     },
     "execution_count": 23,
     "metadata": {},
     "output_type": "execute_result"
    }
   ],
   "source": [
    "len(lista)"
   ]
  },
  {
   "cell_type": "code",
   "execution_count": 38,
   "metadata": {
    "collapsed": true
   },
   "outputs": [],
   "source": [
    "for i in range(len(lista)):\n",
    "    os.makedirs('dataset/imdb-hand-crop-erro/imdb/' + lista[i])"
   ]
  },
  {
   "cell_type": "code",
   "execution_count": 40,
   "metadata": {},
   "outputs": [
    {
     "data": {
      "text/plain": [
       "['35',\n",
       " '03',\n",
       " '79',\n",
       " '83',\n",
       " '11',\n",
       " '22',\n",
       " '58',\n",
       " '19',\n",
       " '04',\n",
       " '49',\n",
       " '95',\n",
       " '15',\n",
       " '64',\n",
       " '30',\n",
       " '62',\n",
       " '65',\n",
       " '81',\n",
       " '55',\n",
       " '87',\n",
       " '33',\n",
       " '78',\n",
       " '68',\n",
       " '99',\n",
       " '25',\n",
       " '80',\n",
       " '01',\n",
       " '63',\n",
       " '12',\n",
       " '73',\n",
       " '32',\n",
       " '84',\n",
       " '27',\n",
       " '07',\n",
       " '88',\n",
       " '98',\n",
       " '26',\n",
       " '41',\n",
       " '16',\n",
       " '71',\n",
       " '82',\n",
       " '37',\n",
       " '53',\n",
       " '72',\n",
       " '54',\n",
       " '42',\n",
       " '61',\n",
       " '52',\n",
       " '75',\n",
       " '57',\n",
       " '96',\n",
       " '44',\n",
       " '17',\n",
       " '10',\n",
       " '67',\n",
       " '13',\n",
       " '08',\n",
       " '39',\n",
       " '69',\n",
       " '24',\n",
       " '93',\n",
       " '97',\n",
       " '14',\n",
       " '91',\n",
       " '94',\n",
       " '47',\n",
       " '70',\n",
       " '23',\n",
       " '21',\n",
       " '50',\n",
       " '90',\n",
       " '28',\n",
       " '51',\n",
       " '45',\n",
       " '29',\n",
       " '66',\n",
       " '34',\n",
       " '20',\n",
       " '48',\n",
       " '00',\n",
       " '85',\n",
       " '60',\n",
       " '40',\n",
       " '06',\n",
       " '02',\n",
       " '89',\n",
       " '36',\n",
       " '74',\n",
       " '86',\n",
       " '92',\n",
       " '59',\n",
       " '76',\n",
       " '43',\n",
       " '46',\n",
       " '09',\n",
       " '05',\n",
       " '31',\n",
       " '56',\n",
       " '77',\n",
       " '18',\n",
       " '38']"
      ]
     },
     "execution_count": 40,
     "metadata": {},
     "output_type": "execute_result"
    }
   ],
   "source": [
    "os.listdir('dataset/imdb-hand-crop-erro/imdb')"
   ]
  },
  {
   "cell_type": "code",
   "execution_count": null,
   "metadata": {
    "collapsed": true
   },
   "outputs": [],
   "source": []
  }
 ],
 "metadata": {
  "kernelspec": {
   "display_name": "Python 3",
   "language": "python",
   "name": "python3"
  },
  "language_info": {
   "codemirror_mode": {
    "name": "ipython",
    "version": 3
   },
   "file_extension": ".py",
   "mimetype": "text/x-python",
   "name": "python",
   "nbconvert_exporter": "python",
   "pygments_lexer": "ipython3",
   "version": "3.5.2"
  }
 },
 "nbformat": 4,
 "nbformat_minor": 2
}
