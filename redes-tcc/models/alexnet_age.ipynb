{
 "cells": [
  {
   "cell_type": "code",
   "execution_count": 2,
   "metadata": {},
   "outputs": [],
   "source": [
    "import sys\n",
    "sys.path.append('../')"
   ]
  },
  {
   "cell_type": "code",
   "execution_count": 4,
   "metadata": {},
   "outputs": [
    {
     "name": "stderr",
     "output_type": "stream",
     "text": [
      "/usr/local/lib/python3.5/dist-packages/h5py/__init__.py:34: FutureWarning: Conversion of the second argument of issubdtype from `float` to `np.floating` is deprecated. In future, it will be treated as `np.float64 == np.dtype(float).type`.\n",
      "  from ._conv import register_converters as _register_converters\n",
      "Using TensorFlow backend.\n"
     ]
    }
   ],
   "source": [
    "import pandas as pd\n",
    "import numpy as np\n",
    "from data_generator.batch_generator import BatchGenerator\n",
    "from keras.optimizers import Adam\n",
    "from keras.callbacks import ModelCheckpoint\n",
    "from models import AlexNet\n",
    "from keras import backend as K\n",
    "K.set_image_data_format('channels_last')"
   ]
  },
  {
   "cell_type": "code",
   "execution_count": 15,
   "metadata": {},
   "outputs": [],
   "source": [
    "train_dataset = BatchGenerator(box_output_format=['class_id'])\n",
    "validation_dataset = BatchGenerator(box_output_format=['class_id'])\n",
    "\n",
    "train_dataset.parse_csv(labels_filename='/home/nicoli/github/ssd_keras/dataset/csv/imdb_csv/imdb_age_regression_train_split_2-100-0-0.csv', \n",
    "                        images_dir='../../ssd_keras/dataset/',\n",
    "                        input_format=['image_name', 'class_id'])\n",
    "\n",
    "validation_dataset.parse_csv(labels_filename='/home/nicoli/github/ssd_keras/dataset/csv/imdb_csv/imdb_age_regression_train_split_2-100-0-0.csv', \n",
    "                            images_dir='../../ssd_keras/dataset/',\n",
    "                            input_format=['image_name', 'class_id'])"
   ]
  },
  {
   "cell_type": "code",
   "execution_count": 16,
   "metadata": {},
   "outputs": [],
   "source": [
    "img_height, img_width, img_depth = (224,224,3)\n",
    "\n",
    "epochs = 1\n",
    "\n",
    "train_batch_size = 2\n",
    "shuffle = True\n",
    "ssd_train = False\n",
    "\n",
    "validation_batch_size = 2\n"
   ]
  },
  {
   "cell_type": "code",
   "execution_count": 18,
   "metadata": {},
   "outputs": [
    {
     "name": "stdout",
     "output_type": "stream",
     "text": [
      "Number of images in the dataset: 2\n",
      "Number of images in the dataset: 2\n"
     ]
    }
   ],
   "source": [
    "train_generator = train_dataset.generate(batch_size=train_batch_size,\n",
    "                                         shuffle=shuffle,\n",
    "                                         divide_by_stddev=255,\n",
    "                                         ssd_train=ssd_train,\n",
    "                                         returns={'processed_labels'},\n",
    "                                         resize=(img_height, img_width))\n",
    "\n",
    "validation_generator = validation_dataset.generate(batch_size=validation_batch_size,\n",
    "                                                   shuffle=shuffle,\n",
    "                                                   ssd_train=ssd_train,\n",
    "                                                   divide_by_stddev=255,\n",
    "                                                   returns={'processed_labels'},\n",
    "                                                   resize=(img_height, img_width))\n",
    "\n",
    "print(\"Number of images in the dataset:\", train_dataset.get_n_samples())\n",
    "print(\"Number of images in the dataset:\", validation_dataset.get_n_samples())"
   ]
  },
  {
   "cell_type": "code",
   "execution_count": 25,
   "metadata": {},
   "outputs": [],
   "source": [
    "steps_per_epoch = train_dataset.get_n_samples()/train_batch_size\n",
    "validation_steps = validation_dataset.get_n_samples()/validation_batch_size"
   ]
  },
  {
   "cell_type": "code",
   "execution_count": 26,
   "metadata": {},
   "outputs": [
    {
     "name": "stderr",
     "output_type": "stream",
     "text": [
      "/home/nicoli/github/deep-learning-learning/redes-tcc/models.py:145: UserWarning: Considering a regression task with output function being 'relu'\n",
      "  warnings.warn('Considering a regression task with output function being \\'relu\\'')\n"
     ]
    }
   ],
   "source": [
    "n_classes=1\n",
    "alexnet = AlexNet(n_classes, img_width, img_height, img_depth=)"
   ]
  },
  {
   "cell_type": "code",
   "execution_count": 27,
   "metadata": {},
   "outputs": [],
   "source": [
    "optimizer = Adam(lr=0.001, beta_1=0.9, beta_2=0.999, epsilon=None, decay=0.00001, amsgrad=True)"
   ]
  },
  {
   "cell_type": "code",
   "execution_count": 28,
   "metadata": {},
   "outputs": [],
   "source": [
    "checkpoint = ModelCheckpoint(filepath='callbacks/alexnet/age/weights2ex.{epoch:02d}-{val_loss:.2f}.hdf5',\n",
    "                           monitor='val_loss',\n",
    "                           verbose=1,\n",
    "                           save_best_only=False,\n",
    "                           period=5)\n",
    "callbacks = [checkpoint]"
   ]
  },
  {
   "cell_type": "code",
   "execution_count": 29,
   "metadata": {},
   "outputs": [],
   "source": [
    "alexnet.model.compile(loss='mean_squared_error', optimizer=optimizer, metrics=['mse', 'mae'])"
   ]
  },
  {
   "cell_type": "code",
   "execution_count": 30,
   "metadata": {},
   "outputs": [
    {
     "name": "stdout",
     "output_type": "stream",
     "text": [
      "Epoch 1/10\n",
      "1/1 [==============================] - 71s 71s/step - loss: 3117.3723 - mean_squared_error: 3117.3723 - mean_absolute_error: 54.1662 - val_loss: 523917.1562 - val_mean_squared_error: 523917.1562 - val_mean_absolute_error: 631.9721\n",
      "Epoch 2/10\n",
      "1/1 [==============================] - 6s 6s/step - loss: 10159.7773 - mean_squared_error: 10159.7773 - mean_absolute_error: 91.5094 - val_loss: 3457.8931 - val_mean_squared_error: 3457.8931 - val_mean_absolute_error: 57.1006\n",
      "Epoch 3/10\n",
      "1/1 [==============================] - 3s 3s/step - loss: 3249.8481 - mean_squared_error: 3249.8481 - mean_absolute_error: 55.5134 - val_loss: 6594.1836 - val_mean_squared_error: 6594.1836 - val_mean_absolute_error: 57.4773\n",
      "Epoch 4/10\n",
      "1/1 [==============================] - 2s 2s/step - loss: 740.5194 - mean_squared_error: 740.5194 - mean_absolute_error: 27.1214 - val_loss: 4670185.5000 - val_mean_squared_error: 4670185.5000 - val_mean_absolute_error: 1902.1664\n",
      "Epoch 5/10\n",
      "1/1 [==============================] - 2s 2s/step - loss: 437027.1250 - mean_squared_error: 437027.1250 - mean_absolute_error: 660.0643 - val_loss: 51716.6172 - val_mean_squared_error: 51716.6172 - val_mean_absolute_error: 193.3364\n",
      "\n",
      "Epoch 00005: saving model to callbacks/alexnet/age/weights2ex.05-51716.62.hdf5\n",
      "Epoch 6/10\n",
      "1/1 [==============================] - 5s 5s/step - loss: 2229.7378 - mean_squared_error: 2229.7378 - mean_absolute_error: 46.4820 - val_loss: 3310.6599 - val_mean_squared_error: 3310.6599 - val_mean_absolute_error: 55.9411\n",
      "Epoch 7/10\n",
      "1/1 [==============================] - 2s 2s/step - loss: 3237.4373 - mean_squared_error: 3237.4373 - mean_absolute_error: 55.3751 - val_loss: 3254.5361 - val_mean_squared_error: 3254.5361 - val_mean_absolute_error: 55.4921\n",
      "Epoch 8/10\n",
      "1/1 [==============================] - 4s 4s/step - loss: 3217.9539 - mean_squared_error: 3217.9539 - mean_absolute_error: 55.2149 - val_loss: 27988.5527 - val_mean_squared_error: 27988.5527 - val_mean_absolute_error: 146.3304\n",
      "Epoch 9/10\n",
      "1/1 [==============================] - 2s 2s/step - loss: 5707.0483 - mean_squared_error: 5707.0483 - mean_absolute_error: 73.9397 - val_loss: 3547.5276 - val_mean_squared_error: 3547.5276 - val_mean_absolute_error: 57.7926\n",
      "Epoch 10/10\n",
      "1/1 [==============================] - 2s 2s/step - loss: 3393.9121 - mean_squared_error: 3393.9121 - mean_absolute_error: 56.6626 - val_loss: 3923.3816 - val_mean_squared_error: 3923.3816 - val_mean_absolute_error: 60.6271\n",
      "\n",
      "Epoch 00010: saving model to callbacks/alexnet/age/weights2ex.10-3923.38.hdf5\n"
     ]
    },
    {
     "data": {
      "text/plain": [
       "<keras.callbacks.History at 0x7f8a9e7e98d0>"
      ]
     },
     "execution_count": 30,
     "metadata": {},
     "output_type": "execute_result"
    }
   ],
   "source": [
    "alexnet.model.fit_generator(train_generator, epochs=10, \n",
    "                             steps_per_epoch=1, \n",
    "                             validation_data=validation_generator,\n",
    "                             validation_steps=validation_steps,\n",
    "                             callbacks=callbacks)"
   ]
  },
  {
   "cell_type": "code",
   "execution_count": 1,
   "metadata": {},
   "outputs": [],
   "source": [
    "from keras.layers import Dropout"
   ]
  },
  {
   "cell_type": "code",
   "execution_count": null,
   "metadata": {},
   "outputs": [],
   "source": [
    "Dropout()"
   ]
  }
 ],
 "metadata": {
  "kernelspec": {
   "display_name": "Python 3",
   "language": "python",
   "name": "python3"
  },
  "language_info": {
   "codemirror_mode": {
    "name": "ipython",
    "version": 3
   },
   "file_extension": ".py",
   "mimetype": "text/x-python",
   "name": "python",
   "nbconvert_exporter": "python",
   "pygments_lexer": "ipython3",
   "version": "3.5.2"
  }
 },
 "nbformat": 4,
 "nbformat_minor": 2
}
