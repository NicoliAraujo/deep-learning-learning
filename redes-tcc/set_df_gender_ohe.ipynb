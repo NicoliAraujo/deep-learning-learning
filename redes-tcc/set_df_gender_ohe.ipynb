{
 "cells": [
  {
   "cell_type": "code",
   "execution_count": 1,
   "metadata": {},
   "outputs": [],
   "source": [
    "import  pandas as pd"
   ]
  },
  {
   "cell_type": "code",
   "execution_count": 4,
   "metadata": {},
   "outputs": [],
   "source": [
    "df_gender = pd.read_csv('../../ssd_keras/dataset/csv/imdb_csv/imdb_gender.csv', index_col=0)"
   ]
  },
  {
   "cell_type": "code",
   "execution_count": 24,
   "metadata": {},
   "outputs": [
    {
     "data": {
      "text/html": [
       "<div>\n",
       "<style scoped>\n",
       "    .dataframe tbody tr th:only-of-type {\n",
       "        vertical-align: middle;\n",
       "    }\n",
       "\n",
       "    .dataframe tbody tr th {\n",
       "        vertical-align: top;\n",
       "    }\n",
       "\n",
       "    .dataframe thead th {\n",
       "        text-align: right;\n",
       "    }\n",
       "</style>\n",
       "<table border=\"1\" class=\"dataframe\">\n",
       "  <thead>\n",
       "    <tr style=\"text-align: right;\">\n",
       "      <th></th>\n",
       "      <th>image_name</th>\n",
       "      <th>xmin</th>\n",
       "      <th>xmax</th>\n",
       "      <th>ymin</th>\n",
       "      <th>ymax</th>\n",
       "      <th>class_id</th>\n",
       "    </tr>\n",
       "  </thead>\n",
       "  <tbody>\n",
       "    <tr>\n",
       "      <th>0</th>\n",
       "      <td>imdb/01/nm0000001_rm124825600_1899-5-10_1968.jpg</td>\n",
       "      <td>1072.926000</td>\n",
       "      <td>1214.784000</td>\n",
       "      <td>161.838000</td>\n",
       "      <td>303.696000</td>\n",
       "      <td>2</td>\n",
       "    </tr>\n",
       "    <tr>\n",
       "      <th>1</th>\n",
       "      <td>imdb/01/nm0000001_rm3343756032_1899-5-10_1970.jpg</td>\n",
       "      <td>477.184000</td>\n",
       "      <td>622.592000</td>\n",
       "      <td>100.352000</td>\n",
       "      <td>245.760000</td>\n",
       "      <td>2</td>\n",
       "    </tr>\n",
       "    <tr>\n",
       "      <th>2</th>\n",
       "      <td>imdb/01/nm0000001_rm577153792_1899-5-10_1968.jpg</td>\n",
       "      <td>114.969643</td>\n",
       "      <td>451.686572</td>\n",
       "      <td>114.969643</td>\n",
       "      <td>451.686572</td>\n",
       "      <td>2</td>\n",
       "    </tr>\n",
       "    <tr>\n",
       "      <th>3</th>\n",
       "      <td>imdb/01/nm0000001_rm946909184_1899-5-10_1968.jpg</td>\n",
       "      <td>622.885506</td>\n",
       "      <td>844.339008</td>\n",
       "      <td>424.217504</td>\n",
       "      <td>645.671006</td>\n",
       "      <td>2</td>\n",
       "    </tr>\n",
       "    <tr>\n",
       "      <th>4</th>\n",
       "      <td>imdb/01/nm0000001_rm980463616_1899-5-10_1968.jpg</td>\n",
       "      <td>1013.859002</td>\n",
       "      <td>1201.586128</td>\n",
       "      <td>233.882042</td>\n",
       "      <td>421.609168</td>\n",
       "      <td>2</td>\n",
       "    </tr>\n",
       "  </tbody>\n",
       "</table>\n",
       "</div>"
      ],
      "text/plain": [
       "                                          image_name         xmin  \\\n",
       "0   imdb/01/nm0000001_rm124825600_1899-5-10_1968.jpg  1072.926000   \n",
       "1  imdb/01/nm0000001_rm3343756032_1899-5-10_1970.jpg   477.184000   \n",
       "2   imdb/01/nm0000001_rm577153792_1899-5-10_1968.jpg   114.969643   \n",
       "3   imdb/01/nm0000001_rm946909184_1899-5-10_1968.jpg   622.885506   \n",
       "4   imdb/01/nm0000001_rm980463616_1899-5-10_1968.jpg  1013.859002   \n",
       "\n",
       "          xmax        ymin        ymax  class_id  \n",
       "0  1214.784000  161.838000  303.696000         2  \n",
       "1   622.592000  100.352000  245.760000         2  \n",
       "2   451.686572  114.969643  451.686572         2  \n",
       "3   844.339008  424.217504  645.671006         2  \n",
       "4  1201.586128  233.882042  421.609168         2  "
      ]
     },
     "execution_count": 24,
     "metadata": {},
     "output_type": "execute_result"
    }
   ],
   "source": [
    "df_gender.head()"
   ]
  },
  {
   "cell_type": "code",
   "execution_count": 23,
   "metadata": {},
   "outputs": [],
   "source": [
    "df_gender['class_id']+=1"
   ]
  },
  {
   "cell_type": "code",
   "execution_count": 25,
   "metadata": {},
   "outputs": [],
   "source": [
    "from sklearn.preprocessing import OneHotEncoder"
   ]
  },
  {
   "cell_type": "code",
   "execution_count": 32,
   "metadata": {},
   "outputs": [],
   "source": [
    "onehot_encoder = OneHotEncoder(sparse=False)\n",
    "onehot_encoded = onehot_encoder.fit_transform(df_gender['class_id'].values.reshape(-1,1))"
   ]
  },
  {
   "cell_type": "code",
   "execution_count": 37,
   "metadata": {},
   "outputs": [
    {
     "data": {
      "text/plain": [
       "(391087, 2)"
      ]
     },
     "execution_count": 37,
     "metadata": {},
     "output_type": "execute_result"
    }
   ],
   "source": [
    "onehot_encoded.shape"
   ]
  },
  {
   "cell_type": "code",
   "execution_count": 48,
   "metadata": {},
   "outputs": [],
   "source": [
    "df_gender['class_id1'] = 0\n",
    "df_gender['class_id1'] = onehot_encoded.T[0].astype(int)\n",
    "df_gender['class_id2'] = 0\n",
    "df_gender['class_id2'] = onehot_encoded.T[1].astype(int)"
   ]
  },
  {
   "cell_type": "code",
   "execution_count": 55,
   "metadata": {},
   "outputs": [
    {
     "data": {
      "text/html": [
       "<div>\n",
       "<style scoped>\n",
       "    .dataframe tbody tr th:only-of-type {\n",
       "        vertical-align: middle;\n",
       "    }\n",
       "\n",
       "    .dataframe tbody tr th {\n",
       "        vertical-align: top;\n",
       "    }\n",
       "\n",
       "    .dataframe thead th {\n",
       "        text-align: right;\n",
       "    }\n",
       "</style>\n",
       "<table border=\"1\" class=\"dataframe\">\n",
       "  <thead>\n",
       "    <tr style=\"text-align: right;\">\n",
       "      <th></th>\n",
       "      <th>image_name</th>\n",
       "      <th>xmin</th>\n",
       "      <th>xmax</th>\n",
       "      <th>ymin</th>\n",
       "      <th>ymax</th>\n",
       "      <th>class_id1</th>\n",
       "      <th>class_id2</th>\n",
       "    </tr>\n",
       "  </thead>\n",
       "  <tbody>\n",
       "    <tr>\n",
       "      <th>287018</th>\n",
       "      <td>imdb/26/nm2159926_rm3666059264_1978-5-28_2013.jpg</td>\n",
       "      <td>453.734572</td>\n",
       "      <td>790.451502</td>\n",
       "      <td>265.531834</td>\n",
       "      <td>602.248763</td>\n",
       "      <td>0</td>\n",
       "      <td>1</td>\n",
       "    </tr>\n",
       "    <tr>\n",
       "      <th>348452</th>\n",
       "      <td>imdb/51/nm4874651_rm1318638592_1996-1-15_2014.jpg</td>\n",
       "      <td>328.394778</td>\n",
       "      <td>436.526371</td>\n",
       "      <td>182.885988</td>\n",
       "      <td>291.017581</td>\n",
       "      <td>1</td>\n",
       "      <td>0</td>\n",
       "    </tr>\n",
       "    <tr>\n",
       "      <th>366420</th>\n",
       "      <td>imdb/21/nm3683221_rm3068320000_1984-9-29_2013.jpg</td>\n",
       "      <td>377.077843</td>\n",
       "      <td>501.437124</td>\n",
       "      <td>112.430472</td>\n",
       "      <td>236.789753</td>\n",
       "      <td>0</td>\n",
       "      <td>1</td>\n",
       "    </tr>\n",
       "    <tr>\n",
       "      <th>193161</th>\n",
       "      <td>imdb/75/nm1312575_rm3287219200_1984-3-10_2015.jpg</td>\n",
       "      <td>763.036557</td>\n",
       "      <td>1045.050265</td>\n",
       "      <td>383.018278</td>\n",
       "      <td>665.031987</td>\n",
       "      <td>1</td>\n",
       "      <td>0</td>\n",
       "    </tr>\n",
       "    <tr>\n",
       "      <th>78259</th>\n",
       "      <td>imdb/32/nm0000932_rm2318912256_1966-8-14_2010.jpg</td>\n",
       "      <td>836.185100</td>\n",
       "      <td>1251.205650</td>\n",
       "      <td>326.434650</td>\n",
       "      <td>741.455200</td>\n",
       "      <td>1</td>\n",
       "      <td>0</td>\n",
       "    </tr>\n",
       "    <tr>\n",
       "      <th>125426</th>\n",
       "      <td>imdb/47/nm0004747_rm4060257024_1978-9-4_2000.jpg</td>\n",
       "      <td>121.638000</td>\n",
       "      <td>162.960000</td>\n",
       "      <td>51.798000</td>\n",
       "      <td>93.120000</td>\n",
       "      <td>0</td>\n",
       "      <td>1</td>\n",
       "    </tr>\n",
       "    <tr>\n",
       "      <th>37896</th>\n",
       "      <td>imdb/85/nm0000285_rm1395691008_1958-4-3_1996.jpg</td>\n",
       "      <td>347.949082</td>\n",
       "      <td>1124.178516</td>\n",
       "      <td>780.325434</td>\n",
       "      <td>1556.554868</td>\n",
       "      <td>0</td>\n",
       "      <td>1</td>\n",
       "    </tr>\n",
       "    <tr>\n",
       "      <th>79169</th>\n",
       "      <td>imdb/54/nm0000954_rm1765051904_1962-3-2_2000.jpg</td>\n",
       "      <td>493.568000</td>\n",
       "      <td>786.432000</td>\n",
       "      <td>493.568000</td>\n",
       "      <td>786.432000</td>\n",
       "      <td>0</td>\n",
       "      <td>1</td>\n",
       "    </tr>\n",
       "    <tr>\n",
       "      <th>85274</th>\n",
       "      <td>imdb/10/nm0001110_rm1036622592_1965-8-11_2005.jpg</td>\n",
       "      <td>159.531640</td>\n",
       "      <td>223.830766</td>\n",
       "      <td>58.446778</td>\n",
       "      <td>122.745904</td>\n",
       "      <td>1</td>\n",
       "      <td>0</td>\n",
       "    </tr>\n",
       "    <tr>\n",
       "      <th>209818</th>\n",
       "      <td>imdb/97/nm0021597_rm3732850688_1947-6-17_1989.jpg</td>\n",
       "      <td>2136.066987</td>\n",
       "      <td>2568.498030</td>\n",
       "      <td>197.577908</td>\n",
       "      <td>630.008951</td>\n",
       "      <td>0</td>\n",
       "      <td>1</td>\n",
       "    </tr>\n",
       "  </tbody>\n",
       "</table>\n",
       "</div>"
      ],
      "text/plain": [
       "                                               image_name         xmin  \\\n",
       "287018  imdb/26/nm2159926_rm3666059264_1978-5-28_2013.jpg   453.734572   \n",
       "348452  imdb/51/nm4874651_rm1318638592_1996-1-15_2014.jpg   328.394778   \n",
       "366420  imdb/21/nm3683221_rm3068320000_1984-9-29_2013.jpg   377.077843   \n",
       "193161  imdb/75/nm1312575_rm3287219200_1984-3-10_2015.jpg   763.036557   \n",
       "78259   imdb/32/nm0000932_rm2318912256_1966-8-14_2010.jpg   836.185100   \n",
       "125426   imdb/47/nm0004747_rm4060257024_1978-9-4_2000.jpg   121.638000   \n",
       "37896    imdb/85/nm0000285_rm1395691008_1958-4-3_1996.jpg   347.949082   \n",
       "79169    imdb/54/nm0000954_rm1765051904_1962-3-2_2000.jpg   493.568000   \n",
       "85274   imdb/10/nm0001110_rm1036622592_1965-8-11_2005.jpg   159.531640   \n",
       "209818  imdb/97/nm0021597_rm3732850688_1947-6-17_1989.jpg  2136.066987   \n",
       "\n",
       "               xmax        ymin         ymax  class_id1  class_id2  \n",
       "287018   790.451502  265.531834   602.248763          0          1  \n",
       "348452   436.526371  182.885988   291.017581          1          0  \n",
       "366420   501.437124  112.430472   236.789753          0          1  \n",
       "193161  1045.050265  383.018278   665.031987          1          0  \n",
       "78259   1251.205650  326.434650   741.455200          1          0  \n",
       "125426   162.960000   51.798000    93.120000          0          1  \n",
       "37896   1124.178516  780.325434  1556.554868          0          1  \n",
       "79169    786.432000  493.568000   786.432000          0          1  \n",
       "85274    223.830766   58.446778   122.745904          1          0  \n",
       "209818  2568.498030  197.577908   630.008951          0          1  "
      ]
     },
     "execution_count": 55,
     "metadata": {},
     "output_type": "execute_result"
    }
   ],
   "source": [
    "#df_gender.drop('class_id', axis=1, inplace=True)\n",
    "df_gender.sample(10)"
   ]
  },
  {
   "cell_type": "code",
   "execution_count": 56,
   "metadata": {},
   "outputs": [],
   "source": [
    "df_gender.to_csv('../../ssd_keras/dataset/csv/imdb_csv/imdb_gender.csv')"
   ]
  },
  {
   "cell_type": "code",
   "execution_count": null,
   "metadata": {},
   "outputs": [],
   "source": []
  }
 ],
 "metadata": {
  "kernelspec": {
   "display_name": "Python 3",
   "language": "python",
   "name": "python3"
  },
  "language_info": {
   "codemirror_mode": {
    "name": "ipython",
    "version": 3
   },
   "file_extension": ".py",
   "mimetype": "text/x-python",
   "name": "python",
   "nbconvert_exporter": "python",
   "pygments_lexer": "ipython3",
   "version": "3.5.2"
  }
 },
 "nbformat": 4,
 "nbformat_minor": 2
}
