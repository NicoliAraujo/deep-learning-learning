{
 "cells": [
  {
   "cell_type": "code",
   "execution_count": 1,
   "metadata": {},
   "outputs": [],
   "source": [
    "import pandas as pd\n",
    "import numpy as np\n",
    "\n",
    "import matplotlib.pyplot as plt\n",
    "import seaborn as sns\n",
    "\n",
    "%matplotlib inline"
   ]
  },
  {
   "cell_type": "code",
   "execution_count": 2,
   "metadata": {},
   "outputs": [],
   "source": [
    "df_dirty = pd.read_csv('/home/nicoli/github/ssd_keras/dataset/csv/imdb_csv/imdb.csv', index_col=0)\n",
    "df_clean_50 = pd.read_csv('/home/nicoli/github/ssd_keras/dataset/csv/imdb_csv/imdb_clean_50.csv', index_col=0)"
   ]
  },
  {
   "cell_type": "code",
   "execution_count": 3,
   "metadata": {},
   "outputs": [
    {
     "data": {
      "text/plain": [
       "((452132, 13), (140964, 13))"
      ]
     },
     "execution_count": 3,
     "metadata": {},
     "output_type": "execute_result"
    }
   ],
   "source": [
    "df_dirty.shape, df_clean_50.shape"
   ]
  },
  {
   "cell_type": "code",
   "execution_count": 5,
   "metadata": {},
   "outputs": [],
   "source": [
    "sns.set_style(\"ticks\")"
   ]
  },
  {
   "cell_type": "code",
   "execution_count": 13,
   "metadata": {},
   "outputs": [
    {
     "data": {
      "text/plain": [
       "Text(0.5,0,'ID Celebridade')"
      ]
     },
     "execution_count": 13,
     "metadata": {},
     "output_type": "execute_result"
    },
    {
     "data": {
      "text/plain": [
       "Text(0,0.5,'Quantidade')"
      ]
     },
     "execution_count": 13,
     "metadata": {},
     "output_type": "execute_result"
    },
    {
     "data": {
      "text/plain": [
       "(0, 700)"
      ]
     },
     "execution_count": 13,
     "metadata": {},
     "output_type": "execute_result"
    },
    {
     "data": {
      "image/png": "[encoded data removed]",
      "text/plain": [
       "<matplotlib.figure.Figure at 0x7f4848269748>"
      ]
     },
     "metadata": {},
     "output_type": "display_data"
    }
   ],
   "source": [
    "bins = df_dirty.groupby('celeb_id').size().size\n",
    "fig1, ax1 = plt.subplots()\n",
    "ax1 = sns.distplot(df_dirty['celeb_id'], bins=bins, kde=False, color='black')\n",
    "ax1.set_xlabel(\"ID Celebridade\")\n",
    "ax1.set_ylabel(\"Quantidade\")\n",
    "ax1.set_ylim(0,700, auto=True)\n",
    "fig1.savefig(\"/home/nicoli/github/nicoli-tcc/imagens/celeb_id_hist_old.png\")"
   ]
  },
  {
   "cell_type": "code",
   "execution_count": 15,
   "metadata": {},
   "outputs": [
    {
     "data": {
      "text/plain": [
       "(0, 300)"
      ]
     },
     "execution_count": 15,
     "metadata": {},
     "output_type": "execute_result"
    },
    {
     "data": {
      "text/plain": [
       "Text(0.5,0,'ID Celebridade')"
      ]
     },
     "execution_count": 15,
     "metadata": {},
     "output_type": "execute_result"
    },
    {
     "data": {
      "text/plain": [
       "Text(0,0.5,'Quantidade')"
      ]
     },
     "execution_count": 15,
     "metadata": {},
     "output_type": "execute_result"
    },
    {
     "data": {
      "image/png": "[encoded data removed]",
      "text/plain": [
       "<matplotlib.figure.Figure at 0x7f48480cfdd8>"
      ]
     },
     "metadata": {},
     "output_type": "display_data"
    }
   ],
   "source": [
    "bins_clean = df_clean_50.groupby('celeb_id').size().size\n",
    "fig2, ax2 = plt.subplots()\n",
    "ax2 = sns.distplot(df_clean_50['celeb_id'], bins=bins_clean, kde=False, color='black')\n",
    "ax1.set_ylim(0,300, auto=True)\n",
    "ax2.set_xlabel(\"ID Celebridade\")\n",
    "ax2.set_ylabel(\"Quantidade\")\n",
    "fig2.savefig(\"/home/nicoli/github/nicoli-tcc/imagens/celeb_id_hist_clean.png\")\n"
   ]
  },
  {
   "cell_type": "code",
   "execution_count": 27,
   "metadata": {},
   "outputs": [
    {
     "data": {
      "text/plain": [
       "305090          Adriana Karembeu\n",
       "144209              Adrien Brody\n",
       "205019    Aishwarya Rai Bachchan\n",
       "205015    Aishwarya Rai Bachchan\n",
       "324334            Alison Sweeney\n",
       "324336            Alison Sweeney\n",
       "324338            Alison Sweeney\n",
       "324323            Alison Sweeney\n",
       "378337             Ashley Benson\n",
       "378334             Ashley Benson\n",
       "286275            Barbara Palvin\n",
       "338984                Bill Hader\n",
       "339049                Bill Hader\n",
       "338963                Bill Hader\n",
       "444787            Bobby Moynihan\n",
       "444795            Bobby Moynihan\n",
       "273030            Branko Tomovic\n",
       "273035            Branko Tomovic\n",
       "188191               Charlie Day\n",
       "433563            Charlotte Best\n",
       "345356             Charly Hübner\n",
       "345355             Charly Hübner\n",
       "311656                Clay Aiken\n",
       "311673                Clay Aiken\n",
       "311675                Clay Aiken\n",
       "444413              David Fumero\n",
       "367881               David Witts\n",
       "324477            Dita Von Teese\n",
       "299416          Evan Rachel Wood\n",
       "299424          Evan Rachel Wood\n",
       "                   ...          \n",
       "400240      Parker McKenna Posey\n",
       "190120             Paul Brittain\n",
       "342538             Rachel Kimsey\n",
       "342537             Rachel Kimsey\n",
       "375003             Rachel Melvin\n",
       "375005             Rachel Melvin\n",
       "375004             Rachel Melvin\n",
       "436229                   Rihanna\n",
       "436228                   Rihanna\n",
       "436222                   Rihanna\n",
       "436218                   Rihanna\n",
       "436216                   Rihanna\n",
       "436214                   Rihanna\n",
       "436212                   Rihanna\n",
       "436209                   Rihanna\n",
       "436177                   Rihanna\n",
       "187917            Rosario Dawson\n",
       "187923            Rosario Dawson\n",
       "292715              Sally Rogers\n",
       "255296        Scarlett Johansson\n",
       "292399                Seth Rogen\n",
       "342285              Taran Killam\n",
       "342265              Taran Killam\n",
       "341541              Taylor Swift\n",
       "36480                Uma Thurman\n",
       "36605                Uma Thurman\n",
       "36491                Uma Thurman\n",
       "370764             Vanessa Bayer\n",
       "370752             Vanessa Bayer\n",
       "375686             Wilson Bethel\n",
       "Name: name, Length: 119, dtype: object"
      ]
     },
     "execution_count": 27,
     "metadata": {},
     "output_type": "execute_result"
    }
   ],
   "source": [
    "df_clean_50[df_clean_50.age<0]"
   ]
  },
  {
   "cell_type": "code",
   "execution_count": 13,
   "metadata": {},
   "outputs": [
    {
     "data": {
      "text/plain": [
       "Text(0.5,0,'Idade')"
      ]
     },
     "execution_count": 13,
     "metadata": {},
     "output_type": "execute_result"
    },
    {
     "data": {
      "text/plain": [
       "Text(0,0.5,'Quantidade')"
      ]
     },
     "execution_count": 13,
     "metadata": {},
     "output_type": "execute_result"
    },
    {
     "data": {
      "image/png": "[encoded data removed]",
      "text/plain": [
       "<matplotlib.figure.Figure at 0x7f2fb786ab70>"
      ]
     },
     "metadata": {},
     "output_type": "display_data"
    }
   ],
   "source": [
    "bins_clean = df_clean_50.groupby('age').size().size\n",
    "fig2, ax2 = plt.subplots()\n",
    "ax2 = sns.distplot(df_clean_50['age'], bins=bins_clean, kde=False, color='black')\n",
    "\n",
    "ax2.set_xlabel(\"Idade\")\n",
    "ax2.set_ylabel(\"Quantidade\")\n",
    "fig2.savefig(\"/home/nicoli/github/nicoli-tcc/imagens/idade_hist_clean.png\")"
   ]
  },
  {
   "cell_type": "code",
   "execution_count": 19,
   "metadata": {},
   "outputs": [
    {
     "data": {
      "text/plain": [
       "Text(0.5,16.2,'Idade')"
      ]
     },
     "execution_count": 19,
     "metadata": {},
     "output_type": "execute_result"
    },
    {
     "data": {
      "text/plain": [
       "Text(16.2,0.5,'Quantidade')"
      ]
     },
     "execution_count": 19,
     "metadata": {},
     "output_type": "execute_result"
    },
    {
     "data": {
      "image/png": "[encoded data removed]",
      "text/plain": [
       "<matplotlib.figure.Figure at 0x7f2fa48ef9b0>"
      ]
     },
     "metadata": {},
     "output_type": "display_data"
    }
   ],
   "source": [
    "bins = df_dirty.groupby('age').size().size\n",
    "fig1, ax1 = plt.subplots()\n",
    "ax1 = sns.distplot(df_dirty['age'], bins=bins, kde=False, color='black')\n",
    "ax2.set_xlabel(\"Idade\")\n",
    "ax2.set_ylabel(\"Quantidade\")\n",
    "fig2.savefig(\"/home/nicoli/github/nicoli-tcc/imagens/idade_hist_old.png\")"
   ]
  },
  {
   "cell_type": "code",
   "execution_count": 27,
   "metadata": {},
   "outputs": [
    {
     "data": {
      "text/html": [
       "<div>\n",
       "<style scoped>\n",
       "    .dataframe tbody tr th:only-of-type {\n",
       "        vertical-align: middle;\n",
       "    }\n",
       "\n",
       "    .dataframe tbody tr th {\n",
       "        vertical-align: top;\n",
       "    }\n",
       "\n",
       "    .dataframe thead th {\n",
       "        text-align: right;\n",
       "    }\n",
       "</style>\n",
       "<table border=\"1\" class=\"dataframe\">\n",
       "  <thead>\n",
       "    <tr style=\"text-align: right;\">\n",
       "      <th></th>\n",
       "      <th>celeb_id</th>\n",
       "      <th>name</th>\n",
       "      <th>full_path</th>\n",
       "      <th>face_score</th>\n",
       "      <th>second_face_score</th>\n",
       "      <th>xmin</th>\n",
       "      <th>xmax</th>\n",
       "      <th>ymin</th>\n",
       "      <th>ymax</th>\n",
       "      <th>dob_date</th>\n",
       "      <th>photo_taken</th>\n",
       "      <th>age</th>\n",
       "      <th>gender</th>\n",
       "    </tr>\n",
       "  </thead>\n",
       "  <tbody>\n",
       "    <tr>\n",
       "      <th>327171</th>\n",
       "      <td>2</td>\n",
       "      <td>'Weird Al' Yankovic</td>\n",
       "      <td>imdb/48/nm0946148_rm1093319424_1959-10-23_1989...</td>\n",
       "      <td>2.156494</td>\n",
       "      <td>NaN</td>\n",
       "      <td>246.622032</td>\n",
       "      <td>561.369217</td>\n",
       "      <td>211.536456</td>\n",
       "      <td>526.283641</td>\n",
       "      <td>1959-10-23</td>\n",
       "      <td>1989</td>\n",
       "      <td>30.0</td>\n",
       "      <td>1.0</td>\n",
       "    </tr>\n",
       "    <tr>\n",
       "      <th>327172</th>\n",
       "      <td>2</td>\n",
       "      <td>'Weird Al' Yankovic</td>\n",
       "      <td>imdb/48/nm0946148_rm1110096640_1959-10-23_1989...</td>\n",
       "      <td>1.455022</td>\n",
       "      <td>NaN</td>\n",
       "      <td>226.645736</td>\n",
       "      <td>394.839788</td>\n",
       "      <td>132.636263</td>\n",
       "      <td>300.830315</td>\n",
       "      <td>1959-10-23</td>\n",
       "      <td>1989</td>\n",
       "      <td>30.0</td>\n",
       "      <td>1.0</td>\n",
       "    </tr>\n",
       "    <tr>\n",
       "      <th>327173</th>\n",
       "      <td>2</td>\n",
       "      <td>'Weird Al' Yankovic</td>\n",
       "      <td>imdb/48/nm0946148_rm1126873856_1959-10-23_1989...</td>\n",
       "      <td>2.047720</td>\n",
       "      <td>NaN</td>\n",
       "      <td>655.743000</td>\n",
       "      <td>802.032000</td>\n",
       "      <td>148.335000</td>\n",
       "      <td>294.624000</td>\n",
       "      <td>1959-10-23</td>\n",
       "      <td>1989</td>\n",
       "      <td>30.0</td>\n",
       "      <td>1.0</td>\n",
       "    </tr>\n",
       "    <tr>\n",
       "      <th>327174</th>\n",
       "      <td>2</td>\n",
       "      <td>'Weird Al' Yankovic</td>\n",
       "      <td>imdb/48/nm0946148_rm1179500032_1959-10-23_2011...</td>\n",
       "      <td>1.685582</td>\n",
       "      <td>NaN</td>\n",
       "      <td>559.104000</td>\n",
       "      <td>851.968000</td>\n",
       "      <td>526.336000</td>\n",
       "      <td>819.200000</td>\n",
       "      <td>1959-10-23</td>\n",
       "      <td>2011</td>\n",
       "      <td>52.0</td>\n",
       "      <td>1.0</td>\n",
       "    </tr>\n",
       "    <tr>\n",
       "      <th>327194</th>\n",
       "      <td>2</td>\n",
       "      <td>'Weird Al' Yankovic</td>\n",
       "      <td>imdb/48/nm0946148_rm922142208_1959-10-23_2014.jpg</td>\n",
       "      <td>2.533124</td>\n",
       "      <td>NaN</td>\n",
       "      <td>624.640000</td>\n",
       "      <td>917.504000</td>\n",
       "      <td>165.888000</td>\n",
       "      <td>458.752000</td>\n",
       "      <td>1959-10-23</td>\n",
       "      <td>2014</td>\n",
       "      <td>55.0</td>\n",
       "      <td>1.0</td>\n",
       "    </tr>\n",
       "  </tbody>\n",
       "</table>\n",
       "</div>"
      ],
      "text/plain": [
       "        celeb_id                 name  \\\n",
       "327171         2  'Weird Al' Yankovic   \n",
       "327172         2  'Weird Al' Yankovic   \n",
       "327173         2  'Weird Al' Yankovic   \n",
       "327174         2  'Weird Al' Yankovic   \n",
       "327194         2  'Weird Al' Yankovic   \n",
       "\n",
       "                                                full_path  face_score  \\\n",
       "327171  imdb/48/nm0946148_rm1093319424_1959-10-23_1989...    2.156494   \n",
       "327172  imdb/48/nm0946148_rm1110096640_1959-10-23_1989...    1.455022   \n",
       "327173  imdb/48/nm0946148_rm1126873856_1959-10-23_1989...    2.047720   \n",
       "327174  imdb/48/nm0946148_rm1179500032_1959-10-23_2011...    1.685582   \n",
       "327194  imdb/48/nm0946148_rm922142208_1959-10-23_2014.jpg    2.533124   \n",
       "\n",
       "        second_face_score        xmin        xmax        ymin        ymax  \\\n",
       "327171                NaN  246.622032  561.369217  211.536456  526.283641   \n",
       "327172                NaN  226.645736  394.839788  132.636263  300.830315   \n",
       "327173                NaN  655.743000  802.032000  148.335000  294.624000   \n",
       "327174                NaN  559.104000  851.968000  526.336000  819.200000   \n",
       "327194                NaN  624.640000  917.504000  165.888000  458.752000   \n",
       "\n",
       "          dob_date  photo_taken   age  gender  \n",
       "327171  1959-10-23         1989  30.0     1.0  \n",
       "327172  1959-10-23         1989  30.0     1.0  \n",
       "327173  1959-10-23         1989  30.0     1.0  \n",
       "327174  1959-10-23         2011  52.0     1.0  \n",
       "327194  1959-10-23         2014  55.0     1.0  "
      ]
     },
     "execution_count": 27,
     "metadata": {},
     "output_type": "execute_result"
    }
   ],
   "source": [
    "df_clean.head()"
   ]
  },
  {
   "cell_type": "code",
   "execution_count": 22,
   "metadata": {},
   "outputs": [],
   "source": [
    "df_no_repeat = df_clean.drop_duplicates(subset=['celeb_id', 'age', 'gender', 'name'])"
   ]
  },
  {
   "cell_type": "code",
   "execution_count": 23,
   "metadata": {},
   "outputs": [
    {
     "data": {
      "text/plain": [
       "Text(0.5,13.5,'Idade')"
      ]
     },
     "execution_count": 23,
     "metadata": {},
     "output_type": "execute_result"
    },
    {
     "data": {
      "text/plain": [
       "Text(23.875,0.5,'Quantidade')"
      ]
     },
     "execution_count": 23,
     "metadata": {},
     "output_type": "execute_result"
    },
    {
     "data": {
      "image/png": "[encoded data removed]",
      "text/plain": [
       "<matplotlib.figure.Figure at 0x7f2f9c9bbf28>"
      ]
     },
     "metadata": {},
     "output_type": "display_data"
    }
   ],
   "source": [
    "bins = df_no_repeat.groupby('age').size().size\n",
    "fig1, ax1 = plt.subplots()\n",
    "ax1 = sns.distplot(df_no_repeat['age'], bins=bins, kde=False, color='black')\n",
    "ax2.set_xlabel(\"Idade\")\n",
    "ax2.set_ylabel(\"Quantidade\")\n",
    "fig2.savefig(\"/home/nicoli/github/nicoli-tcc/imagens/idade_hist_sem_rep.png\")"
   ]
  },
  {
   "cell_type": "code",
   "execution_count": 26,
   "metadata": {},
   "outputs": [
    {
     "data": {
      "text/plain": [
       "(14624, (48015, 13))"
      ]
     },
     "execution_count": 26,
     "metadata": {},
     "output_type": "execute_result"
    }
   ],
   "source": [
    "df_no_repeat.groupby('celeb_id').size().size, df_no_repeat.shape"
   ]
  },
  {
   "cell_type": "code",
   "execution_count": null,
   "metadata": {},
   "outputs": [],
   "source": []
  }
 ],
 "metadata": {
  "kernelspec": {
   "display_name": "Python 3",
   "language": "python",
   "name": "python3"
  },
  "language_info": {
   "codemirror_mode": {
    "name": "ipython",
    "version": 3
   },
   "file_extension": ".py",
   "mimetype": "text/x-python",
   "name": "python",
   "nbconvert_exporter": "python",
   "pygments_lexer": "ipython3",
   "version": "3.5.2"
  }
 },
 "nbformat": 4,
 "nbformat_minor": 2
}
