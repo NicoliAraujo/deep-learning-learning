{
 "cells": [
  {
   "cell_type": "code",
   "execution_count": 1,
   "metadata": {},
   "outputs": [
    {
     "name": "stderr",
     "output_type": "stream",
     "text": [
      "/usr/local/lib/python3.5/dist-packages/h5py/__init__.py:34: FutureWarning: Conversion of the second argument of issubdtype from `float` to `np.floating` is deprecated. In future, it will be treated as `np.float64 == np.dtype(float).type`.\n",
      "  from ._conv import register_converters as _register_converters\n",
      "Using TensorFlow backend.\n"
     ]
    }
   ],
   "source": [
    "from keras import backend as K\n",
    "from keras.engine import Layer\n",
    "from keras.layers.convolutional import Convolution2D\n",
    "from keras.layers.core import Lambda\n",
    "from keras.layers import merge, concatenate\n",
    "\n",
    "K.set_image_data_format('channels_last')"
   ]
  },
  {
   "cell_type": "code",
   "execution_count": 2,
   "metadata": {},
   "outputs": [],
   "source": [
    "import numpy as np\n",
    "\n",
    "from keras.layers import Activation\n",
    "from keras.layers import Dense\n",
    "from keras.layers import Dropout\n",
    "from keras.layers import Flatten\n",
    "from keras.layers import Input\n",
    "from keras.layers import merge\n",
    "from keras.layers.convolutional import Convolution2D\n",
    "from keras.layers.convolutional import MaxPooling2D\n",
    "from keras.layers.convolutional import ZeroPadding2D\n",
    "from keras.models import Model\n",
    "from keras.models import Sequential\n",
    "from keras.optimizers import SGD\n",
    "from scipy.misc import imread\n",
    "from scipy.misc import imresize"
   ]
  },
  {
   "cell_type": "code",
   "execution_count": 3,
   "metadata": {},
   "outputs": [],
   "source": [
    "\n",
    "def crosschannelnormalization(alpha = 1e-4, k=2, beta=0.75, n=5,**kwargs):\n",
    "    \"\"\"\n",
    "    This is the function used for cross channel normalization in the original\n",
    "    Alexnet\n",
    "    \"\"\"\n",
    "    def f(X):\n",
    "        K.set_image_dim_ordering('th')\n",
    "        if K.backend()=='tensorflow':\n",
    "            b, ch, r, c = X.get_shape()\n",
    "        else:\n",
    "            b, ch, r, c = X.shape            \n",
    "        half = n // 2\n",
    "        square = K.square(X)\n",
    "        extra_channels = K.spatial_2d_padding(K.permute_dimensions(square, (0,2,3,1))\n",
    "                                              , ((0, 0), (half, half)))\n",
    "        extra_channels = K.permute_dimensions(extra_channels, (0,3,1,2))\n",
    "        scale = k\n",
    "        for i in range(n):\n",
    "            if K.backend()=='tensorflow':\n",
    "                ch = int(ch)\n",
    "            scale += alpha * extra_channels[:,i:i+ch,:,:]\n",
    "        scale = scale ** beta\n",
    "        return X / scale\n",
    "\n",
    "    return Lambda(f, output_shape=lambda input_shape:input_shape,**kwargs)\n",
    "\n",
    "\n",
    "\n",
    "def splittensor(axis=1, ratio_split=1, id_split=0,**kwargs):\n",
    "    def f(X):\n",
    "        if K.backend()=='tensorflow':\n",
    "            div = int(X.get_shape()[axis]) // ratio_split\n",
    "        else:\n",
    "            div = X.shape[axis] // ratio_split\n",
    "\n",
    "        if axis == 0:\n",
    "            output =  X[id_split*div:(id_split+1)*div,:,:,:]\n",
    "        elif axis == 1:\n",
    "            output =  X[:, id_split*div:(id_split+1)*div, :, :]\n",
    "        elif axis == 2:\n",
    "            output = X[:,:,id_split*div:(id_split+1)*div,:]\n",
    "        elif axis == 3:\n",
    "            output = X[:,:,:,id_split*div:(id_split+1)*div]\n",
    "        else:\n",
    "            raise ValueError(\"This axis is not possible\")\n",
    "\n",
    "        return output\n",
    "\n",
    "    def g(input_shape):\n",
    "        output_shape=list(input_shape)\n",
    "        output_shape[axis] = output_shape[axis] // ratio_split\n",
    "        return tuple(output_shape)\n",
    "\n",
    "    return Lambda(f,output_shape=lambda input_shape:g(input_shape),**kwargs)\n",
    "\n",
    "\n",
    "\n"
   ]
  },
  {
   "cell_type": "code",
   "execution_count": 4,
   "metadata": {},
   "outputs": [],
   "source": [
    "if K.image_data_format()=='channels_first':\n",
    "    inputs = Input(shape=(3, 227,227))\n",
    "elif K.image_data_format()=='channels_last':\n",
    "    inputs = Input(shape=(227,227,3))"
   ]
  },
  {
   "cell_type": "code",
   "execution_count": 5,
   "metadata": {},
   "outputs": [],
   "source": [
    "conv_1 = Convolution2D(96, (11, 11), strides=(4, 4), activation='relu',\n",
    "name='conv_1')(inputs)"
   ]
  },
  {
   "cell_type": "code",
   "execution_count": 6,
   "metadata": {},
   "outputs": [],
   "source": [
    "conv_2 = MaxPooling2D((3, 3), strides=(2, 2))(conv_1)"
   ]
  },
  {
   "cell_type": "code",
   "execution_count": 7,
   "metadata": {},
   "outputs": [],
   "source": [
    "conv_2 = crosschannelnormalization(name='convpool_1')(conv_2)"
   ]
  },
  {
   "cell_type": "code",
   "execution_count": 8,
   "metadata": {},
   "outputs": [],
   "source": [
    "conv_2 = ZeroPadding2D((2, 2))(conv_2)"
   ]
  },
  {
   "cell_type": "code",
   "execution_count": 9,
   "metadata": {},
   "outputs": [],
   "source": [
    "conv_2 = concatenate([\n",
    "                       Convolution2D(128, (5, 5), activation='relu', name='conv_2_' + str(i + 1))(\n",
    "                           splittensor(ratio_split=2, id_split=i)(conv_2)\n",
    "                       ) for i in range(2)],  name='conv_2')\n",
    "#mode='concat', concat_axis=1,"
   ]
  },
  {
   "cell_type": "code",
   "execution_count": 22,
   "metadata": {},
   "outputs": [],
   "source": [
    "conv_3 = MaxPooling2D((3, 3), strides=(2, 2))(conv_2)"
   ]
  },
  {
   "cell_type": "code",
   "execution_count": 11,
   "metadata": {},
   "outputs": [],
   "source": [
    "conv_3 = crosschannelnormalization()(conv_3)"
   ]
  },
  {
   "cell_type": "code",
   "execution_count": 12,
   "metadata": {},
   "outputs": [],
   "source": [
    "conv_3 = ZeroPadding2D((1, 1))(conv_3)"
   ]
  },
  {
   "cell_type": "code",
   "execution_count": 13,
   "metadata": {},
   "outputs": [],
   "source": [
    "conv_3 = Convolution2D(384, (3, 3), activation='relu', name='conv_3')(conv_3)"
   ]
  },
  {
   "cell_type": "code",
   "execution_count": 14,
   "metadata": {},
   "outputs": [],
   "source": [
    "conv_4 = ZeroPadding2D((1, 1))(conv_3)"
   ]
  },
  {
   "cell_type": "code",
   "execution_count": 15,
   "metadata": {},
   "outputs": [],
   "source": [
    "conv_4 = concatenate([\n",
    "                   Convolution2D(192, (3, 3), activation='relu', name='conv_4_' + str(i + 1))(\n",
    "                       splittensor(ratio_split=2, id_split=i)(conv_4)\n",
    "                   ) for i in range(2)], name='conv_4')\n"
   ]
  },
  {
   "cell_type": "code",
   "execution_count": 16,
   "metadata": {},
   "outputs": [],
   "source": [
    "conv_5 = ZeroPadding2D((1, 1))(conv_4)"
   ]
  },
  {
   "cell_type": "code",
   "execution_count": 17,
   "metadata": {},
   "outputs": [],
   "source": [
    "conv_5 = concatenate([\n",
    "                   Convolution2D(128, (3, 3), activation='relu', name='conv_5_' + str(i + 1))(\n",
    "                       splittensor(ratio_split=2, id_split=i)(conv_5)\n",
    "                   ) for i in range(2)], name='conv_5')\n"
   ]
  },
  {
   "cell_type": "code",
   "execution_count": 18,
   "metadata": {},
   "outputs": [],
   "source": [
    "dense_1 = MaxPooling2D((3, 3), strides=(2, 2), name='convpool_5')(conv_5)"
   ]
  },
  {
   "cell_type": "code",
   "execution_count": 19,
   "metadata": {},
   "outputs": [],
   "source": [
    "dense_1 = Flatten(name='flatten')(dense_1)"
   ]
  },
  {
   "cell_type": "code",
   "execution_count": 20,
   "metadata": {},
   "outputs": [],
   "source": [
    "dense_1 = Dense(4096, activation='relu', name='dense_1')(dense_1)"
   ]
  },
  {
   "cell_type": "code",
   "execution_count": 21,
   "metadata": {},
   "outputs": [],
   "source": [
    "dense_2 = Dropout(0.5)(dense_1)"
   ]
  },
  {
   "cell_type": "code",
   "execution_count": 22,
   "metadata": {},
   "outputs": [],
   "source": [
    "dense_2 = Dense(4096, activation='relu', name='dense_2')(dense_2)"
   ]
  },
  {
   "cell_type": "code",
   "execution_count": 23,
   "metadata": {},
   "outputs": [],
   "source": [
    "dense_3 = Dropout(0.5)(dense_2)"
   ]
  },
  {
   "cell_type": "code",
   "execution_count": 24,
   "metadata": {},
   "outputs": [],
   "source": [
    "dense_3 = Dense(1000, name='dense_3')(dense_3)"
   ]
  },
  {
   "cell_type": "code",
   "execution_count": 25,
   "metadata": {},
   "outputs": [],
   "source": [
    "prediction = Activation('softmax', name='softmax')(dense_3)"
   ]
  },
  {
   "cell_type": "code",
   "execution_count": 28,
   "metadata": {},
   "outputs": [],
   "source": [
    "model = Model(inputs=inputs, outputs=prediction)"
   ]
  },
  {
   "cell_type": "code",
   "execution_count": null,
   "metadata": {},
   "outputs": [],
   "source": []
  }
 ],
 "metadata": {
  "kernelspec": {
   "display_name": "Python 3",
   "language": "python",
   "name": "python3"
  },
  "language_info": {
   "codemirror_mode": {
    "name": "ipython",
    "version": 3
   },
   "file_extension": ".py",
   "mimetype": "text/x-python",
   "name": "python",
   "nbconvert_exporter": "python",
   "pygments_lexer": "ipython3",
   "version": "3.5.2"
  }
 },
 "nbformat": 4,
 "nbformat_minor": 2
}
